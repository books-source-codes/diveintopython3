{
 "metadata": {
  "name": "",
  "signature": "sha256:c87292dfba56fabe856dc8ea4a57cf68d88a457afa62dbd5ceb064adbf533518"
 },
 "nbformat": 3,
 "nbformat_minor": 0,
 "worksheets": [
  {
   "cells": [
    {
     "cell_type": "heading",
     "level": 2,
     "metadata": {},
     "source": [
      "Closures"
     ]
    },
    {
     "cell_type": "code",
     "collapsed": false,
     "input": [
      "import re\n",
      "\n",
      "def plural(noun):          \n",
      "    if re.search('[sxz]$', noun):  \n",
      "        #  square brackets mean \u201cmatch exactly one of these characters.\u201d\n",
      "        return re.sub('$', 'es', noun)        \n",
      "    elif re.search('[^aeioudgkprt]h$', noun):\n",
      "        return re.sub('$', 'es', noun)      \n",
      "    elif re.search('[^aeiou]y$', noun):      \n",
      "        return re.sub('y$', 'ies', noun)    \n",
      "    else:\n",
      "        return noun + 's'"
     ],
     "language": "python",
     "metadata": {},
     "outputs": [],
     "prompt_number": 1
    },
    {
     "cell_type": "code",
     "collapsed": false,
     "input": [
      "re.sub('[abc]', 'o', 'Mark')"
     ],
     "language": "python",
     "metadata": {},
     "outputs": [
      {
       "metadata": {},
       "output_type": "pyout",
       "prompt_number": 2,
       "text": [
        "'Mork'"
       ]
      }
     ],
     "prompt_number": 2
    },
    {
     "cell_type": "code",
     "collapsed": false,
     "input": [
      "re.sub('([^aeiou])y$', r'\\1ies', 'vacancy')\n",
      "# \\1, means \u201chey, that first group you remembered? put it right here.\u201d "
     ],
     "language": "python",
     "metadata": {},
     "outputs": [
      {
       "metadata": {},
       "output_type": "pyout",
       "prompt_number": 3,
       "text": [
        "'vacancies'"
       ]
      }
     ],
     "prompt_number": 3
    },
    {
     "cell_type": "code",
     "collapsed": false,
     "input": [
      "import re\n",
      "\n",
      "def match_sxz(noun):\n",
      "    return re.search('[sxz]$', noun)\n",
      "\n",
      "def apply_sxz(noun):\n",
      "    return re.sub('$', 'es', noun)\n",
      "\n",
      "def match_h(noun):\n",
      "    return re.search('[^aeioudgkprt]h$', noun)\n",
      "\n",
      "def apply_h(noun):\n",
      "    return re.sub('$', 'es', noun)\n",
      "\n",
      "def match_y(noun):                             \n",
      "    return re.search('[^aeiou]y$', noun)\n",
      "       \n",
      "def apply_y(noun):                             \n",
      "    return re.sub('y$', 'ies', noun)\n",
      "\n",
      "def match_default(noun):\n",
      "    return True\n",
      "\n",
      "def apply_default(noun):\n",
      "    return noun + 's'\n",
      "\n",
      "rules = ((match_sxz, apply_sxz),               \n",
      "         (match_h, apply_h),\n",
      "         (match_y, apply_y),\n",
      "         (match_default, apply_default)\n",
      "         )\n",
      "\n",
      "def plural(noun):          \n",
      "    for matches_rule, apply_rule in rules:     \n",
      "        if matches_rule(noun):\n",
      "            return apply_rule(noun)"
     ],
     "language": "python",
     "metadata": {},
     "outputs": [],
     "prompt_number": 4
    },
    {
     "cell_type": "code",
     "collapsed": false,
     "input": [
      "import re\n",
      "\n",
      "def build_match_and_apply_functions(pattern, search, replace):\n",
      "    def matches_rule(word):       \n",
      "        # this technique of using the values of outside parameters (pattern) within a dynamic function is called closures. \n",
      "        return re.search(pattern, word)\n",
      "    def apply_rule(word):        \n",
      "        # this technique of using the values of outside parameters (search, replace) within a dynamic function is called closures. \n",
      "        return re.sub(search, replace, word)\n",
      "    return (matches_rule, apply_rule)      \n",
      "    # Finally, the build_match_and_apply_functions() function returns a tuple of two values: the two functions you just created. \n",
      "    # The constants you defined within those functions (pattern within the matches_rule() function, and search and replace within \n",
      "    # the apply_rule() function) stay with those functions, even after you return from build_match_and_apply_functions(). \n",
      "\n",
      "patterns= (\n",
      "    ('[sxz]$',           '$',  'es'),\n",
      "    ('[^aeioudgkprt]h$', '$',  'es'),\n",
      "    ('(qu|[^aeiou])y$',  'y$', 'ies'),\n",
      "    ('$',                '$',  's')                                 \n",
      "  )\n",
      "rules = [build_match_and_apply_functions(pattern, search, replace)  \n",
      "         for (pattern, search, replace) in patterns]\n",
      "\n",
      "def plural(noun):\n",
      "    for matches_rule, apply_rule in rules:\n",
      "        if matches_rule(noun):\n",
      "            return apply_rule(noun)"
     ],
     "language": "python",
     "metadata": {},
     "outputs": [],
     "prompt_number": 10
    },
    {
     "cell_type": "code",
     "collapsed": false,
     "input": [
      "# completely separate the pluralization rules into an external file, so it can be maintained separately from the code that uses it.\n",
      "import re\n",
      "\n",
      "def build_match_and_apply_functions(pattern, search, replace):\n",
      "    # You\u2019re still using closures to build two functions dynamically that use variables defined in the outer function. \n",
      "    def matches_rule(word):\n",
      "        return re.search(pattern, word)\n",
      "    def apply_rule(word):\n",
      "        return re.sub(search, replace, word)\n",
      "    return (matches_rule, apply_rule)\n",
      "\n",
      "rules = []\n",
      "with open('plural4-rules.txt', encoding='utf-8') as pattern_file:  \n",
      "    for line in pattern_file:                                      \n",
      "        pattern, search, replace = line.split(None, 3)  \n",
      "        # None means \u201csplit on any whitespace\"\n",
      "        rules.append(build_match_and_apply_functions(              \n",
      "                pattern, search, replace))"
     ],
     "language": "python",
     "metadata": {},
     "outputs": [],
     "prompt_number": 11
    },
    {
     "cell_type": "heading",
     "level": 2,
     "metadata": {},
     "source": [
      "Generators"
     ]
    },
    {
     "cell_type": "code",
     "collapsed": false,
     "input": [
      "def make_counter(x):\n",
      "    print('entering make_counter')\n",
      "    while True:\n",
      "        yield x                    \n",
      "        print('incrementing x')\n",
      "        x = x + 1\n",
      "counter = make_counter(2)   \n",
      "counter                            "
     ],
     "language": "python",
     "metadata": {},
     "outputs": [
      {
       "metadata": {},
       "output_type": "pyout",
       "prompt_number": 13,
       "text": [
        "<generator object make_counter at 0x02E15C60>"
       ]
      }
     ],
     "prompt_number": 13
    },
    {
     "cell_type": "code",
     "collapsed": false,
     "input": [
      "next(counter)"
     ],
     "language": "python",
     "metadata": {},
     "outputs": [
      {
       "output_type": "stream",
       "stream": "stdout",
       "text": [
        "entering make_counter\n"
       ]
      },
      {
       "metadata": {},
       "output_type": "pyout",
       "prompt_number": 14,
       "text": [
        "2"
       ]
      }
     ],
     "prompt_number": 14
    },
    {
     "cell_type": "code",
     "collapsed": false,
     "input": [
      "next(counter)"
     ],
     "language": "python",
     "metadata": {},
     "outputs": [
      {
       "output_type": "stream",
       "stream": "stdout",
       "text": [
        "incrementing x\n"
       ]
      },
      {
       "metadata": {},
       "output_type": "pyout",
       "prompt_number": 15,
       "text": [
        "3"
       ]
      }
     ],
     "prompt_number": 15
    },
    {
     "cell_type": "code",
     "collapsed": false,
     "input": [
      "next(counter)"
     ],
     "language": "python",
     "metadata": {},
     "outputs": [
      {
       "output_type": "stream",
       "stream": "stdout",
       "text": [
        "incrementing x\n"
       ]
      },
      {
       "metadata": {},
       "output_type": "pyout",
       "prompt_number": 16,
       "text": [
        "4"
       ]
      }
     ],
     "prompt_number": 16
    },
    {
     "cell_type": "code",
     "collapsed": false,
     "input": [
      "def fib(max):\n",
      "    a, b = 0, 1          \n",
      "    while a < max:\n",
      "        yield a          \n",
      "        a, b = b, a + b  \n",
      "fibto500 = fib(500)\n",
      "fibto500"
     ],
     "language": "python",
     "metadata": {},
     "outputs": [
      {
       "metadata": {},
       "output_type": "pyout",
       "prompt_number": 18,
       "text": [
        "<generator object fib at 0x02E22170>"
       ]
      }
     ],
     "prompt_number": 18
    },
    {
     "cell_type": "code",
     "collapsed": false,
     "input": [
      "next(fibto500)"
     ],
     "language": "python",
     "metadata": {},
     "outputs": [
      {
       "metadata": {},
       "output_type": "pyout",
       "prompt_number": 19,
       "text": [
        "0"
       ]
      }
     ],
     "prompt_number": 19
    },
    {
     "cell_type": "code",
     "collapsed": false,
     "input": [
      "next(fibto500)"
     ],
     "language": "python",
     "metadata": {},
     "outputs": [
      {
       "metadata": {},
       "output_type": "pyout",
       "prompt_number": 22,
       "text": [
        "1"
       ]
      }
     ],
     "prompt_number": 22
    },
    {
     "cell_type": "code",
     "collapsed": false,
     "input": [
      "next(fibto500)"
     ],
     "language": "python",
     "metadata": {},
     "outputs": [
      {
       "metadata": {},
       "output_type": "pyout",
       "prompt_number": 24,
       "text": [
        "1"
       ]
      }
     ],
     "prompt_number": 24
    },
    {
     "cell_type": "code",
     "collapsed": false,
     "input": [
      "next(fibto500)"
     ],
     "language": "python",
     "metadata": {},
     "outputs": [
      {
       "metadata": {},
       "output_type": "pyout",
       "prompt_number": 25,
       "text": [
        "2"
       ]
      }
     ],
     "prompt_number": 25
    },
    {
     "cell_type": "code",
     "collapsed": false,
     "input": [
      "for n in fib(1000):      \n",
      "    print(n, end=' ')"
     ],
     "language": "python",
     "metadata": {},
     "outputs": [
      {
       "output_type": "stream",
       "stream": "stdout",
       "text": [
        "0 1 1 2 3 5 8 13 21 34 55 89 144 233 377 610 987 "
       ]
      }
     ],
     "prompt_number": 26
    },
    {
     "cell_type": "code",
     "collapsed": false,
     "input": [
      "list(fib(1000))"
     ],
     "language": "python",
     "metadata": {},
     "outputs": [
      {
       "metadata": {},
       "output_type": "pyout",
       "prompt_number": 27,
       "text": [
        "[0, 1, 1, 2, 3, 5, 8, 13, 21, 34, 55, 89, 144, 233, 377, 610, 987]"
       ]
      }
     ],
     "prompt_number": 27
    },
    {
     "cell_type": "code",
     "collapsed": false,
     "input": [
      "def rules(rules_filename):\n",
      "    with open(rules_filename, encoding='utf-8') as pattern_file:\n",
      "        for line in pattern_file:\n",
      "            pattern, search, replace = line.split(None, 3)                   \n",
      "            yield build_match_and_apply_functions(pattern, search, replace)  \n",
      "\n",
      "def plural(noun, rules_filename='plural5-rules.txt'):\n",
      "    for matches_rule, apply_rule in rules(rules_filename):   \n",
      "        # Since rules() is a generator, you can use it directly in a for loop.\n",
      "        if matches_rule(noun):\n",
      "            return apply_rule(noun)\n",
      "    raise ValueError('no matching rule for {0}'.format(noun))"
     ],
     "language": "python",
     "metadata": {},
     "outputs": []
    },
    {
     "cell_type": "markdown",
     "metadata": {},
     "source": [
      "What have you gained over stage 4? Startup time. In stage 4, when you imported the plural4 module, it read the entire patterns file and built a list of all the possible rules, before you could even think about calling the plural() function. With generators, you can do everything lazily: you read the first rule and create functions and try them, and if that works you don\u2019t ever read the rest of the file or create any other functions. \n",
      "\n",
      "What have you lost? Performance! Every time you call the plural() function, the rules() generator starts over from the beginning \u2014 which means re-opening the patterns file and reading from the beginning, one line at a time. "
     ]
    },
    {
     "cell_type": "code",
     "collapsed": false,
     "input": [],
     "language": "python",
     "metadata": {},
     "outputs": []
    }
   ],
   "metadata": {}
  }
 ]
}