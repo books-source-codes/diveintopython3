{
 "metadata": {
  "name": "",
  "signature": "sha256:5c965bdc7c45ca8aff3486eb23e2ad7522e45aae5a6e2a697775aadbfa925d7d"
 },
 "nbformat": 3,
 "nbformat_minor": 0,
 "worksheets": [
  {
   "cells": [
    {
     "cell_type": "code",
     "collapsed": false,
     "input": [
      "entry = {}                                                                                         \n",
      "entry['title'] = 'Dive into history, 2009 edition'\n",
      "entry['article_link'] = 'http://diveintomark.org/archives/2009/03/27/dive-into-history-2009-edition'\n",
      "entry['comments_link'] = None\n",
      "entry['internal_id'] = b'\\xDE\\xD5\\xB4\\xF8'\n",
      "entry['tags'] = ('diveintopython', 'docbook', 'html')\n",
      "entry['published'] = True\n",
      "import time\n",
      "entry['published_date'] = time.strptime('Fri Mar 27 22:20:42 2009')                                \n",
      "entry['published_date']"
     ],
     "language": "python",
     "metadata": {},
     "outputs": [
      {
       "metadata": {},
       "output_type": "pyout",
       "prompt_number": 5,
       "text": [
        "time.struct_time(tm_year=2009, tm_mon=3, tm_mday=27, tm_hour=22, tm_min=20, tm_sec=42, tm_wday=4, tm_yday=86, tm_isdst=-1)"
       ]
      }
     ],
     "prompt_number": 5
    },
    {
     "cell_type": "code",
     "collapsed": false,
     "input": [
      "import pickle\n",
      "with open('entry.pickle', 'wb') as f:    \n",
      "    pickle.dump(entry, f)  "
     ],
     "language": "python",
     "metadata": {},
     "outputs": [],
     "prompt_number": 2
    },
    {
     "cell_type": "code",
     "collapsed": false,
     "input": [
      "import pickle\n",
      "with open('entry.pickle', 'rb') as f:    \n",
      "    entry = pickle.load(f)\n",
      "entry"
     ],
     "language": "python",
     "metadata": {},
     "outputs": [
      {
       "metadata": {},
       "output_type": "pyout",
       "prompt_number": 1,
       "text": [
        "{'article_link': 'http://diveintomark.org/archives/2009/03/27/dive-into-history-2009-edition',\n",
        " 'comments_link': None,\n",
        " 'published': True,\n",
        " 'tags': ('diveintopython', 'docbook', 'html'),\n",
        " 'title': 'Dive into history, 2009 edition',\n",
        " 'internal_id': b'\\xde\\xd5\\xb4\\xf8',\n",
        " 'published_date': time.struct_time(tm_year=2009, tm_mon=3, tm_mday=27, tm_hour=22, tm_min=20, tm_sec=42, tm_wday=4, tm_yday=86, tm_isdst=-1)}"
       ]
      }
     ],
     "prompt_number": 1
    },
    {
     "cell_type": "heading",
     "level": 5,
     "metadata": {},
     "source": [
      "Pickling Without a File"
     ]
    },
    {
     "cell_type": "code",
     "collapsed": false,
     "input": [
      "import pickle\n",
      "b = pickle.dumps(entry)    \n",
      "type(b)                 "
     ],
     "language": "python",
     "metadata": {},
     "outputs": [
      {
       "metadata": {},
       "output_type": "pyout",
       "prompt_number": 5,
       "text": [
        "bytes"
       ]
      }
     ],
     "prompt_number": 5
    },
    {
     "cell_type": "code",
     "collapsed": false,
     "input": [
      "entry3 = pickle.loads(b)    \n",
      "entry3 == entry"
     ],
     "language": "python",
     "metadata": {},
     "outputs": [
      {
       "metadata": {},
       "output_type": "pyout",
       "prompt_number": 6,
       "text": [
        "True"
       ]
      }
     ],
     "prompt_number": 6
    },
    {
     "cell_type": "markdown",
     "metadata": {},
     "source": [
      "The pickle.dumps() function (note the 's' at the end of the function name) performs the same serialization as the pickle.dump() function. Instead of taking a stream object and writing the serialized data to a file on disk, it simply returns the serialized data. "
     ]
    },
    {
     "cell_type": "code",
     "collapsed": false,
     "input": [
      "#debugging pickle files\n",
      "import pickletools\n",
      "with open('entry.pickle', 'rb') as f:\n",
      "    pickletools.dis(f)\n",
      "#last line: picle file made with 3rd version of the protocol"
     ],
     "language": "python",
     "metadata": {},
     "outputs": [
      {
       "output_type": "stream",
       "stream": "stdout",
       "text": [
        "    0: \\x80 PROTO      3\n",
        "    2: }    EMPTY_DICT\n",
        "    3: q    BINPUT     0\n",
        "    5: (    MARK\n",
        "    6: X        BINUNICODE 'internal_id'\n",
        "   22: q        BINPUT     1\n",
        "   24: C        SHORT_BINBYTES b'\\xde\\xd5\\xb4\\xf8'\n",
        "   30: q        BINPUT     2\n",
        "   32: X        BINUNICODE 'published'\n",
        "   46: q        BINPUT     3\n",
        "   48: \\x88     NEWTRUE\n",
        "   49: X        BINUNICODE 'tags'\n",
        "   58: q        BINPUT     4\n",
        "   60: X        BINUNICODE 'diveintopython'\n",
        "   79: q        BINPUT     5\n",
        "   81: X        BINUNICODE 'docbook'\n",
        "   93: q        BINPUT     6\n",
        "   95: X        BINUNICODE 'html'\n",
        "  104: q        BINPUT     7\n",
        "  106: \\x87     TUPLE3\n",
        "  107: q        BINPUT     8\n",
        "  109: X        BINUNICODE 'published_date'\n",
        "  128: q        BINPUT     9\n",
        "  130: c        GLOBAL     'time struct_time'\n",
        "  148: q        BINPUT     10\n",
        "  150: (        MARK\n",
        "  151: M            BININT2    2009\n",
        "  154: K            BININT1    3\n",
        "  156: K            BININT1    27\n",
        "  158: K            BININT1    22\n",
        "  160: K            BININT1    20\n",
        "  162: K            BININT1    42\n",
        "  164: K            BININT1    4\n",
        "  166: K            BININT1    86\n",
        "  168: J            BININT     -1\n",
        "  173: t            TUPLE      (MARK at 150)\n",
        "  174: q        BINPUT     11\n",
        "  176: }        EMPTY_DICT\n",
        "  177: q        BINPUT     12\n",
        "  179: \\x86     TUPLE2\n",
        "  180: q        BINPUT     13\n",
        "  182: R        REDUCE\n",
        "  183: q        BINPUT     14\n",
        "  185: X        BINUNICODE 'article_link'\n",
        "  202: q        BINPUT     15\n",
        "  204: X        BINUNICODE 'http://diveintomark.org/archives/2009/03/27/dive-into-history-2009-edition'\n",
        "  283: q        BINPUT     16\n",
        "  285: X        BINUNICODE 'comments_link'\n",
        "  303: q        BINPUT     17\n",
        "  305: N        NONE\n",
        "  306: X        BINUNICODE 'title'\n",
        "  316: q        BINPUT     18\n",
        "  318: X        BINUNICODE 'Dive into history, 2009 edition'\n",
        "  354: q        BINPUT     19\n",
        "  356: u        SETITEMS   (MARK at 5)\n",
        "  357: .    STOP\n",
        "highest protocol among opcodes = 3\n"
       ]
      }
     ],
     "prompt_number": 7
    },
    {
     "cell_type": "code",
     "collapsed": false,
     "input": [
      "basic_entry = {}                                           \n",
      "basic_entry['id'] = 256\n",
      "basic_entry['title'] = 'Dive into history, 2009 edition'\n",
      "basic_entry['tags'] = ('diveintopython', 'docbook', 'html')\n",
      "basic_entry['published'] = True\n",
      "basic_entry['comments_link'] = None\n",
      "import json\n",
      "with open('basic.json', mode='w', encoding='utf-8') as f:  \n",
      "    json.dump(basic_entry, f)"
     ],
     "language": "python",
     "metadata": {},
     "outputs": [],
     "prompt_number": 1
    },
    {
     "cell_type": "code",
     "collapsed": false,
     "input": [
      "!cat basic.json"
     ],
     "language": "python",
     "metadata": {},
     "outputs": [
      {
       "output_type": "stream",
       "stream": "stdout",
       "text": [
        "{\"published\": true, \"comments_link\": null, \"tags\": [\"diveintopython\", \"docbook\", \"html\"], \"id\": 256, \"title\": \"Dive into history, 2009 edition\"}\n"
       ]
      }
     ],
     "prompt_number": 2
    },
    {
     "cell_type": "code",
     "collapsed": false,
     "input": [
      "with open('basic-pretty.json', mode='w', encoding='utf-8') as f:\n",
      "    json.dump(basic_entry, f, indent=2)\n",
      "# arbitrary whitespace allowed by json"
     ],
     "language": "python",
     "metadata": {},
     "outputs": [],
     "prompt_number": 3
    },
    {
     "cell_type": "code",
     "collapsed": false,
     "input": [
      "!cat basic-pretty.json"
     ],
     "language": "python",
     "metadata": {},
     "outputs": [
      {
       "output_type": "stream",
       "stream": "stdout",
       "text": [
        "{\n",
        "  \"published\": true,\n",
        "  \"comments_link\": null,\n",
        "  \"tags\": [\n",
        "    \"diveintopython\",\n",
        "    \"docbook\",\n",
        "    \"html\"\n",
        "  ],\n",
        "  \"id\": 256,\n",
        "  \"title\": \"Dive into history, 2009 edition\"\n",
        "}\n"
       ]
      }
     ],
     "prompt_number": 4
    },
    {
     "cell_type": "raw",
     "metadata": {},
     "source": [
      "Mapping of Python Datatypes to JSON\n",
      "Notes \tJSON \tPython 3\n",
      "        object \tdictionary\n",
      "        array \tlist\n",
      "        string \tstring\n",
      "        integer integer\n",
      "        real number float\n",
      "    * \ttrue \tTrue\n",
      "    * \tfalse \tFalse\n",
      "    * \tnull \tNone\n",
      "\n",
      "*case sensitive"
     ]
    },
    {
     "cell_type": "code",
     "collapsed": false,
     "input": [
      "with open('entry.json', 'w', encoding='utf-8') as f:  \n",
      "    json.dump(entry, f)\n",
      "\n",
      "# No tuples & bytes with json"
     ],
     "language": "python",
     "metadata": {},
     "outputs": [
      {
       "ename": "TypeError",
       "evalue": "b'\\xde\\xd5\\xb4\\xf8' is not JSON serializable",
       "output_type": "pyerr",
       "traceback": [
        "\u001b[1;31m---------------------------------------------------------------------------\u001b[0m\n\u001b[1;31mTypeError\u001b[0m                                 Traceback (most recent call last)",
        "\u001b[1;32m<ipython-input-6-83e8d24c2d49>\u001b[0m in \u001b[0;36m<module>\u001b[1;34m()\u001b[0m\n\u001b[0;32m      1\u001b[0m \u001b[1;32mwith\u001b[0m \u001b[0mopen\u001b[0m\u001b[1;33m(\u001b[0m\u001b[1;34m'entry.json'\u001b[0m\u001b[1;33m,\u001b[0m \u001b[1;34m'w'\u001b[0m\u001b[1;33m,\u001b[0m \u001b[0mencoding\u001b[0m\u001b[1;33m=\u001b[0m\u001b[1;34m'utf-8'\u001b[0m\u001b[1;33m)\u001b[0m \u001b[1;32mas\u001b[0m \u001b[0mf\u001b[0m\u001b[1;33m:\u001b[0m\u001b[1;33m\u001b[0m\u001b[0m\n\u001b[1;32m----> 2\u001b[1;33m     \u001b[0mjson\u001b[0m\u001b[1;33m.\u001b[0m\u001b[0mdump\u001b[0m\u001b[1;33m(\u001b[0m\u001b[0mentry\u001b[0m\u001b[1;33m,\u001b[0m \u001b[0mf\u001b[0m\u001b[1;33m)\u001b[0m\u001b[1;33m\u001b[0m\u001b[0m\n\u001b[0m",
        "\u001b[1;32mc:\\Anaconda\\envs\\py34\\lib\\json\\__init__.py\u001b[0m in \u001b[0;36mdump\u001b[1;34m(obj, fp, skipkeys, ensure_ascii, check_circular, allow_nan, cls, indent, separators, default, sort_keys, **kw)\u001b[0m\n\u001b[0;32m    176\u001b[0m     \u001b[1;31m# could accelerate with writelines in some versions of Python, at\u001b[0m\u001b[1;33m\u001b[0m\u001b[1;33m\u001b[0m\u001b[0m\n\u001b[0;32m    177\u001b[0m     \u001b[1;31m# a debuggability cost\u001b[0m\u001b[1;33m\u001b[0m\u001b[1;33m\u001b[0m\u001b[0m\n\u001b[1;32m--> 178\u001b[1;33m     \u001b[1;32mfor\u001b[0m \u001b[0mchunk\u001b[0m \u001b[1;32min\u001b[0m \u001b[0miterable\u001b[0m\u001b[1;33m:\u001b[0m\u001b[1;33m\u001b[0m\u001b[0m\n\u001b[0m\u001b[0;32m    179\u001b[0m         \u001b[0mfp\u001b[0m\u001b[1;33m.\u001b[0m\u001b[0mwrite\u001b[0m\u001b[1;33m(\u001b[0m\u001b[0mchunk\u001b[0m\u001b[1;33m)\u001b[0m\u001b[1;33m\u001b[0m\u001b[0m\n\u001b[0;32m    180\u001b[0m \u001b[1;33m\u001b[0m\u001b[0m\n",
        "\u001b[1;32mc:\\Anaconda\\envs\\py34\\lib\\json\\encoder.py\u001b[0m in \u001b[0;36m_iterencode\u001b[1;34m(o, _current_indent_level)\u001b[0m\n\u001b[0;32m    420\u001b[0m             \u001b[1;32myield\u001b[0m \u001b[1;32mfrom\u001b[0m \u001b[0m_iterencode_list\u001b[0m\u001b[1;33m(\u001b[0m\u001b[0mo\u001b[0m\u001b[1;33m,\u001b[0m \u001b[0m_current_indent_level\u001b[0m\u001b[1;33m)\u001b[0m\u001b[1;33m\u001b[0m\u001b[0m\n\u001b[0;32m    421\u001b[0m         \u001b[1;32melif\u001b[0m \u001b[0misinstance\u001b[0m\u001b[1;33m(\u001b[0m\u001b[0mo\u001b[0m\u001b[1;33m,\u001b[0m \u001b[0mdict\u001b[0m\u001b[1;33m)\u001b[0m\u001b[1;33m:\u001b[0m\u001b[1;33m\u001b[0m\u001b[0m\n\u001b[1;32m--> 422\u001b[1;33m             \u001b[1;32myield\u001b[0m \u001b[1;32mfrom\u001b[0m \u001b[0m_iterencode_dict\u001b[0m\u001b[1;33m(\u001b[0m\u001b[0mo\u001b[0m\u001b[1;33m,\u001b[0m \u001b[0m_current_indent_level\u001b[0m\u001b[1;33m)\u001b[0m\u001b[1;33m\u001b[0m\u001b[0m\n\u001b[0m\u001b[0;32m    423\u001b[0m         \u001b[1;32melse\u001b[0m\u001b[1;33m:\u001b[0m\u001b[1;33m\u001b[0m\u001b[0m\n\u001b[0;32m    424\u001b[0m             \u001b[1;32mif\u001b[0m \u001b[0mmarkers\u001b[0m \u001b[1;32mis\u001b[0m \u001b[1;32mnot\u001b[0m \u001b[1;32mNone\u001b[0m\u001b[1;33m:\u001b[0m\u001b[1;33m\u001b[0m\u001b[0m\n",
        "\u001b[1;32mc:\\Anaconda\\envs\\py34\\lib\\json\\encoder.py\u001b[0m in \u001b[0;36m_iterencode_dict\u001b[1;34m(dct, _current_indent_level)\u001b[0m\n\u001b[0;32m    394\u001b[0m                 \u001b[1;32melse\u001b[0m\u001b[1;33m:\u001b[0m\u001b[1;33m\u001b[0m\u001b[0m\n\u001b[0;32m    395\u001b[0m                     \u001b[0mchunks\u001b[0m \u001b[1;33m=\u001b[0m \u001b[0m_iterencode\u001b[0m\u001b[1;33m(\u001b[0m\u001b[0mvalue\u001b[0m\u001b[1;33m,\u001b[0m \u001b[0m_current_indent_level\u001b[0m\u001b[1;33m)\u001b[0m\u001b[1;33m\u001b[0m\u001b[0m\n\u001b[1;32m--> 396\u001b[1;33m                 \u001b[1;32myield\u001b[0m \u001b[1;32mfrom\u001b[0m \u001b[0mchunks\u001b[0m\u001b[1;33m\u001b[0m\u001b[0m\n\u001b[0m\u001b[0;32m    397\u001b[0m         \u001b[1;32mif\u001b[0m \u001b[0mnewline_indent\u001b[0m \u001b[1;32mis\u001b[0m \u001b[1;32mnot\u001b[0m \u001b[1;32mNone\u001b[0m\u001b[1;33m:\u001b[0m\u001b[1;33m\u001b[0m\u001b[0m\n\u001b[0;32m    398\u001b[0m             \u001b[0m_current_indent_level\u001b[0m \u001b[1;33m-=\u001b[0m \u001b[1;36m1\u001b[0m\u001b[1;33m\u001b[0m\u001b[0m\n",
        "\u001b[1;32mc:\\Anaconda\\envs\\py34\\lib\\json\\encoder.py\u001b[0m in \u001b[0;36m_iterencode\u001b[1;34m(o, _current_indent_level)\u001b[0m\n\u001b[0;32m    427\u001b[0m                     \u001b[1;32mraise\u001b[0m \u001b[0mValueError\u001b[0m\u001b[1;33m(\u001b[0m\u001b[1;34m\"Circular reference detected\"\u001b[0m\u001b[1;33m)\u001b[0m\u001b[1;33m\u001b[0m\u001b[0m\n\u001b[0;32m    428\u001b[0m                 \u001b[0mmarkers\u001b[0m\u001b[1;33m[\u001b[0m\u001b[0mmarkerid\u001b[0m\u001b[1;33m]\u001b[0m \u001b[1;33m=\u001b[0m \u001b[0mo\u001b[0m\u001b[1;33m\u001b[0m\u001b[0m\n\u001b[1;32m--> 429\u001b[1;33m             \u001b[0mo\u001b[0m \u001b[1;33m=\u001b[0m \u001b[0m_default\u001b[0m\u001b[1;33m(\u001b[0m\u001b[0mo\u001b[0m\u001b[1;33m)\u001b[0m\u001b[1;33m\u001b[0m\u001b[0m\n\u001b[0m\u001b[0;32m    430\u001b[0m             \u001b[1;32myield\u001b[0m \u001b[1;32mfrom\u001b[0m \u001b[0m_iterencode\u001b[0m\u001b[1;33m(\u001b[0m\u001b[0mo\u001b[0m\u001b[1;33m,\u001b[0m \u001b[0m_current_indent_level\u001b[0m\u001b[1;33m)\u001b[0m\u001b[1;33m\u001b[0m\u001b[0m\n\u001b[0;32m    431\u001b[0m             \u001b[1;32mif\u001b[0m \u001b[0mmarkers\u001b[0m \u001b[1;32mis\u001b[0m \u001b[1;32mnot\u001b[0m \u001b[1;32mNone\u001b[0m\u001b[1;33m:\u001b[0m\u001b[1;33m\u001b[0m\u001b[0m\n",
        "\u001b[1;32mc:\\Anaconda\\envs\\py34\\lib\\json\\encoder.py\u001b[0m in \u001b[0;36mdefault\u001b[1;34m(self, o)\u001b[0m\n\u001b[0;32m    171\u001b[0m \u001b[1;33m\u001b[0m\u001b[0m\n\u001b[0;32m    172\u001b[0m         \"\"\"\n\u001b[1;32m--> 173\u001b[1;33m         \u001b[1;32mraise\u001b[0m \u001b[0mTypeError\u001b[0m\u001b[1;33m(\u001b[0m\u001b[0mrepr\u001b[0m\u001b[1;33m(\u001b[0m\u001b[0mo\u001b[0m\u001b[1;33m)\u001b[0m \u001b[1;33m+\u001b[0m \u001b[1;34m\" is not JSON serializable\"\u001b[0m\u001b[1;33m)\u001b[0m\u001b[1;33m\u001b[0m\u001b[0m\n\u001b[0m\u001b[0;32m    174\u001b[0m \u001b[1;33m\u001b[0m\u001b[0m\n\u001b[0;32m    175\u001b[0m     \u001b[1;32mdef\u001b[0m \u001b[0mencode\u001b[0m\u001b[1;33m(\u001b[0m\u001b[0mself\u001b[0m\u001b[1;33m,\u001b[0m \u001b[0mo\u001b[0m\u001b[1;33m)\u001b[0m\u001b[1;33m:\u001b[0m\u001b[1;33m\u001b[0m\u001b[0m\n",
        "\u001b[1;31mTypeError\u001b[0m: b'\\xde\\xd5\\xb4\\xf8' is not JSON serializable"
       ]
      }
     ],
     "prompt_number": 6
    },
    {
     "cell_type": "code",
     "collapsed": false,
     "input": [
      "%%writefile customserializer.py\n",
      "# define your own \u201cmini-serialization format.\u201d \n",
      "def to_json(python_object):  \n",
      "    if isinstance(python_object, bytes):                                \n",
      "        return {'__class__': 'bytes',\n",
      "                '__value__': list(python_object)}                      \n",
      "    raise TypeError(repr(python_object) + ' is not JSON serializable') \n",
      "    # data structure may contain types that neither the built-in JSON serializer nor our custom serializer can handle.\n",
      "    \n",
      "# convert a bytes object into a dictionary\n",
      "#  __class__ key will hold the original datatype (as a string, 'bytes'), and __value__ key will hold the actual value."
     ],
     "language": "python",
     "metadata": {},
     "outputs": [
      {
       "output_type": "stream",
       "stream": "stdout",
       "text": [
        "Overwriting customserializer.py\n"
       ]
      }
     ],
     "prompt_number": 16
    },
    {
     "cell_type": "code",
     "collapsed": false,
     "input": [
      "import customserializer                                                             \n",
      "with open('entry.json', 'w', encoding='utf-8') as f:                            \n",
      "    json.dump(entry, f, default=customserializer.to_json)"
     ],
     "language": "python",
     "metadata": {},
     "outputs": [],
     "prompt_number": 17
    },
    {
     "cell_type": "code",
     "collapsed": false,
     "input": [
      "!cat entry.json"
     ],
     "language": "python",
     "metadata": {},
     "outputs": [
      {
       "output_type": "stream",
       "stream": "stdout",
       "text": [
        "{\"title\": \"Dive into history, 2009 edition\", \"tags\": [\"diveintopython\", \"docbook\", \"html\"], \"article_link\": \"http://diveintomark.org/archives/2009/03/27/dive-into-history-2009-edition\", \"comments_link\": null, \"internal_id\": {\"__class__\": \"bytes\", \"__value__\": [222, 213, 180, 248]}, \"published_date\": [2009, 3, 27, 22, 20, 42, 4, 86, -1], \"published\": true}\n"
       ]
      }
     ],
     "prompt_number": 18
    },
    {
     "cell_type": "code",
     "collapsed": false,
     "input": [
      "del entry\n",
      "entry"
     ],
     "language": "python",
     "metadata": {},
     "outputs": [
      {
       "ename": "NameError",
       "evalue": "name 'entry' is not defined",
       "output_type": "pyerr",
       "traceback": [
        "\u001b[1;31m---------------------------------------------------------------------------\u001b[0m\n\u001b[1;31mNameError\u001b[0m                                 Traceback (most recent call last)",
        "\u001b[1;32m<ipython-input-19-9906af9c4100>\u001b[0m in \u001b[0;36m<module>\u001b[1;34m()\u001b[0m\n\u001b[0;32m      1\u001b[0m \u001b[1;32mdel\u001b[0m \u001b[0mentry\u001b[0m\u001b[1;33m\u001b[0m\u001b[0m\n\u001b[1;32m----> 2\u001b[1;33m \u001b[0mentry\u001b[0m\u001b[1;33m\u001b[0m\u001b[0m\n\u001b[0m",
        "\u001b[1;31mNameError\u001b[0m: name 'entry' is not defined"
       ]
      }
     ],
     "prompt_number": 19
    },
    {
     "cell_type": "code",
     "collapsed": false,
     "input": [
      "import json\n",
      "with open('entry.json', 'r', encoding='utf-8') as f:\n",
      "    entry = json.load(f)\n",
      "entry"
     ],
     "language": "python",
     "metadata": {},
     "outputs": [
      {
       "metadata": {},
       "output_type": "pyout",
       "prompt_number": 20,
       "text": [
        "{'title': 'Dive into history, 2009 edition',\n",
        " 'tags': ['diveintopython', 'docbook', 'html'],\n",
        " 'article_link': 'http://diveintomark.org/archives/2009/03/27/dive-into-history-2009-edition',\n",
        " 'comments_link': None,\n",
        " 'internal_id': {'__class__': 'bytes', '__value__': [222, 213, 180, 248]},\n",
        " 'published_date': [2009, 3, 27, 22, 20, 42, 4, 86, -1],\n",
        " 'published': True}"
       ]
      }
     ],
     "prompt_number": 20
    },
    {
     "cell_type": "code",
     "collapsed": false,
     "input": [
      "%%writefile customserializer.py\n",
      "# define your own \u201cmini-serialization format.\u201d \n",
      "def to_json(python_object):  \n",
      "    if isinstance(python_object, bytes):                                \n",
      "        return {'__class__': 'bytes',\n",
      "                '__value__': list(python_object)}                      \n",
      "    raise TypeError(repr(python_object) + ' is not JSON serializable') \n",
      "    \n",
      "def from_json(json_object):                                   \n",
      "    if '__class__' in json_object:                            \n",
      "        if json_object['__class__'] == 'time.asctime':\n",
      "            return time.strptime(json_object['__value__'])    \n",
      "        if json_object['__class__'] == 'bytes':\n",
      "            return bytes(json_object['__value__'])            \n",
      "    return json_object"
     ],
     "language": "python",
     "metadata": {},
     "outputs": [
      {
       "output_type": "stream",
       "stream": "stdout",
       "text": [
        "Overwriting customserializer.py\n"
       ]
      }
     ],
     "prompt_number": 1
    },
    {
     "cell_type": "code",
     "collapsed": false,
     "input": [
      "import customserializer\n",
      "with open('entry.json', 'r', encoding='utf-8') as f:\n",
      "    entry = json.load(f, object_hook=customserializer.from_json)\n",
      "entry"
     ],
     "language": "python",
     "metadata": {},
     "outputs": [
      {
       "metadata": {},
       "output_type": "pyout",
       "prompt_number": 3,
       "text": [
        "{'article_link': 'http://diveintomark.org/archives/2009/03/27/dive-into-history-2009-edition',\n",
        " 'comments_link': None,\n",
        " 'title': 'Dive into history, 2009 edition',\n",
        " 'published_date': [2009, 3, 27, 22, 20, 42, 4, 86, -1],\n",
        " 'tags': ['diveintopython', 'docbook', 'html'],\n",
        " 'published': True,\n",
        " 'internal_id': b'\\xde\\xd5\\xb4\\xf8'}"
       ]
      }
     ],
     "prompt_number": 3
    },
    {
     "cell_type": "raw",
     "metadata": {},
     "source": [
      "In the original entry data structure, the value of the 'tags' key was a tuple of three strings.\n",
      "But in the round-tripped (saved to json then loaded) data structure, the value of the 'tags' key is a list of three strings. JSON doesn\u2019t distinguish between tuples and lists; it only has a single list-like datatype, the array, and the json module silently converts both tuples and lists into JSON arrays during serialization."
     ]
    },
    {
     "cell_type": "code",
     "collapsed": false,
     "input": [],
     "language": "python",
     "metadata": {},
     "outputs": []
    }
   ],
   "metadata": {}
  }
 ]
}