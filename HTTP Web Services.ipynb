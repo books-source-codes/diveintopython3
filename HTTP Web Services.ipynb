{
 "metadata": {
  "name": "",
  "signature": "sha256:7cd61ac650e006523144cea67de7b234cd558d0e83f9f62614920d9a29df848c"
 },
 "nbformat": 3,
 "nbformat_minor": 0,
 "worksheets": [
  {
   "cells": [
    {
     "cell_type": "raw",
     "metadata": {},
     "source": [
      "Python 3 comes with two different libraries for interacting with HTTP web services:\n",
      "\n",
      "http.client is a low-level library that implements RFC 2616, the HTTP protocol.\n",
      "urllib.request is an abstraction layer built on top of http.client. It provides a standard API for accessing both HTTP and FTP servers, automatically follows HTTP redirects, and handles some common forms of HTTP authentication. "
     ]
    },
    {
     "cell_type": "raw",
     "metadata": {},
     "source": [
      "Python\u2019s HTTP libraries do not support caching, but httplib2 does. "
     ]
    },
    {
     "cell_type": "raw",
     "metadata": {},
     "source": [
      "Here\u2019s a concrete example of how caching works. You visit diveintomark.org in your browser. That page includes a background image, wearehugh.com/m.jpg. When your browser downloads that image, the server includes the following HTTP headers:\n",
      "\n",
      "HTTP/1.1 200 OK\n",
      "Date: Sun, 31 May 2009 17:14:04 GMT\n",
      "Server: Apache\n",
      "Last-Modified: Fri, 22 Aug 2008 04:28:16 GMT\n",
      "ETag: \"3075-ddc8d800\"\n",
      "Accept-Ranges: bytes\n",
      "Content-Length: 12405\n",
      "Cache-Control: max-age=31536000, public\n",
      "Expires: Mon, 31 May 2010 17:14:04 GMT\n",
      "Connection: close\n",
      "Content-Type: image/jpeg"
     ]
    },
    {
     "cell_type": "raw",
     "metadata": {},
     "source": [
      "When you request the same data a second (or third or fourth) time, you can send an If-Modified-Since header with your request, with the date you got back from the server last time. If the data has changed since then, then the server gives you the new data with a 200 status code. But if the data hasn\u2019t changed since then, the server sends back a special HTTP 304 status code, which means \u201cthis data hasn\u2019t changed since the last time you asked for it.\u201d "
     ]
    },
    {
     "cell_type": "raw",
     "metadata": {},
     "source": [
      "Python\u2019s HTTP libraries do not support last-modified date checking, but httplib2 does. "
     ]
    },
    {
     "cell_type": "raw",
     "metadata": {},
     "source": [
      "ETags are an alternate way to accomplish the same thing as the last-modified checking. With Etags, the server sends a hash code in an ETag header along with the data you requested. (Exactly how this hash is determined is entirely up to the server. The only requirement is that it changes when the data changes.) That background image referenced from diveintomark.org had an ETag header. "
     ]
    },
    {
     "cell_type": "raw",
     "metadata": {},
     "source": [
      "Python\u2019s HTTP libraries do not support ETags, but httplib2 does. "
     ]
    },
    {
     "cell_type": "raw",
     "metadata": {},
     "source": [
      "HTTP supports several compression algorithms. The two most common types are gzip and deflate. When you request a resource over HTTP, you can ask the server to send it in compressed format. You include an Accept-encoding header in your request that lists which compression algorithms you support. If the server supports any of the same algorithms, it will send you back compressed data (with a Content-encoding header that tells you which algorithm it used). Then it\u2019s up to you to decompress the data. "
     ]
    },
    {
     "cell_type": "raw",
     "metadata": {},
     "source": [
      "Python\u2019s HTTP libraries do not support compression, but httplib2 does. "
     ]
    },
    {
     "cell_type": "raw",
     "metadata": {},
     "source": [
      "Cool URIs don\u2019t change, but many URIs are seriously uncool. Web sites get reorganized, pages move to new addresses. Even web services can reorganize. A syndicated feed at http://example.com/index.xml might be moved to http://example.com/xml/atom.xml. Or an entire domain might move, as an organization expands and reorganizes; http://www.example.com/index.xml becomes http://server-farm-1.example.com/index.xml. "
     ]
    },
    {
     "cell_type": "raw",
     "metadata": {},
     "source": [
      "The urllib.request module automatically \u201cfollow\u201d redirects when it receives the appropriate status code from the HTTP server, but it doesn\u2019t tell you that it did so. You\u2019ll end up getting data you asked for, but you\u2019ll never know that the underlying library \u201chelpfully\u201d followed a redirect for you. So you\u2019ll continue pounding away at the old address, and each time you\u2019ll get redirected to the new address, and each time the urllib.request module will \u201chelpfully\u201d follow the redirect. In other words, it treats permanent redirects the same as temporary redirects. That means two round trips instead of one, which is bad for the server and bad for you.\n",
      "\n",
      "httplib2 handles permanent redirects for you. Not only will it tell you that a permanent redirect occurred, it will keep track of them locally and automatically rewrite redirected URLs before requesting them. "
     ]
    },
    {
     "cell_type": "code",
     "collapsed": false,
     "input": [
      "import urllib.request\n",
      "a_url = 'http://diveintopython3.org/examples/feed.xml'\n",
      "data = urllib.request.urlopen(a_url).read()  \n",
      "type(data)"
     ],
     "language": "python",
     "metadata": {},
     "outputs": [
      {
       "metadata": {},
       "output_type": "pyout",
       "prompt_number": 1,
       "text": [
        "bytes"
       ]
      }
     ],
     "prompt_number": 1
    },
    {
     "cell_type": "code",
     "collapsed": false,
     "input": [
      "print(data)"
     ],
     "language": "python",
     "metadata": {},
     "outputs": [
      {
       "output_type": "stream",
       "stream": "stdout",
       "text": [
        "b'<!DOCTYPE html><body style=\"padding:0; margin:0;\"><html><body><iframe src=\"http://mcc.godaddy.com/park/pKMcpaMuM2WwoTq1LzRmYzWyqN==\" style=\"visibility: visible;height: 100%; position:absolute\" allowtransparency=\"true\" marginheight=\"0\" marginwidth=\"0\" frameborder=\"0\" width=\"100%\"></iframe></body></html>'\n"
       ]
      }
     ],
     "prompt_number": 2
    },
    {
     "cell_type": "raw",
     "metadata": {},
     "source": [
      "So what\u2019s wrong with this? For a quick one-off during testing or development, there\u2019s nothing wrong with it. I do it all the time. I wanted the contents of the feed, and I got the contents of the feed. The same technique works for any web page. But once you start thinking in terms of a web service that you want to access on a regular basis (e.g. requesting this feed once an hour), then you\u2019re being inefficient, and you\u2019re being rude. "
     ]
    },
    {
     "cell_type": "code",
     "collapsed": false,
     "input": [
      "from http.client import HTTPConnection\n",
      "HTTPConnection.debuglevel = 1                                       \n",
      "from urllib.request import urlopen\n",
      "response = urlopen('http://diveintopython3.org/examples/feed.xml')"
     ],
     "language": "python",
     "metadata": {},
     "outputs": [
      {
       "output_type": "stream",
       "stream": "stdout",
       "text": [
        "send: b'GET /examples/feed.xml HTTP/1.1\\r\\nAccept-Encoding: identity\\r\\nHost: diveintopython3.org\\r\\nUser-Agent: Python-urllib/3.4\\r\\nConnection: close\\r\\n\\r\\n'\n",
        "reply:"
       ]
      },
      {
       "output_type": "stream",
       "stream": "stdout",
       "text": [
        " 'HTTP/1.1 200 OK\\r\\n'\n",
        "header: Cache-Control header: Pragma header: Content-Type header: Expires header: Server header: X-AspNet-Version header: X-Powered-By header: Date header: Content-Length header: Age header: Connection "
       ]
      }
     ],
     "prompt_number": 5
    },
    {
     "cell_type": "code",
     "collapsed": false,
     "input": [
      "print(response.headers.as_string())"
     ],
     "language": "python",
     "metadata": {},
     "outputs": [
      {
       "output_type": "stream",
       "stream": "stdout",
       "text": [
        "Cache-Control: no-cache\n",
        "Pragma: no-cache\n",
        "Content-Type: text/html; charset=utf-8\n",
        "Expires: -1\n",
        "Server: Microsoft-IIS/7.5\n",
        "X-AspNet-Version: 4.0.30319\n",
        "X-Powered-By: ASP.NET\n",
        "Date: Sun, 01 Feb 2015 21:43:21 GMT\n",
        "Content-Length: 303\n",
        "Age: 1\n",
        "Connection: close\n",
        "\n",
        "\n"
       ]
      }
     ],
     "prompt_number": 6
    },
    {
     "cell_type": "code",
     "collapsed": false,
     "input": [
      "response2 = urlopen('http://diveintopython3.org/examples/feed.xml')"
     ],
     "language": "python",
     "metadata": {},
     "outputs": [
      {
       "output_type": "stream",
       "stream": "stdout",
       "text": [
        "send: b'GET /examples/feed.xml HTTP/1.1\\r\\nAccept-Encoding: identity\\r\\nHost: diveintopython3.org\\r\\nUser-Agent: Python-urllib/3.4\\r\\nConnection: close\\r\\n\\r\\n'\n",
        "reply:"
       ]
      },
      {
       "output_type": "stream",
       "stream": "stdout",
       "text": [
        " 'HTTP/1.1 302 Found\\r\\n'\n",
        "header: Connection header: Pragma header: cache-control header: Location send: b'GET /examples/feed.xml HTTP/1.1\\r\\nAccept-Encoding: identity\\r\\nHost: diveintopython3.org\\r\\nUser-Agent: Python-urllib/3.4\\r\\nConnection: close\\r\\n\\r\\n'\n",
        "reply:"
       ]
      },
      {
       "output_type": "stream",
       "stream": "stdout",
       "text": [
        " 'HTTP/1.1 200 OK\\r\\n'\n",
        "header: Cache-Control header: Pragma header: Content-Type header: Expires header: Server header: X-AspNet-Version header: X-Powered-By header: Date header: Content-Length header: Age header: Connection "
       ]
      }
     ],
     "prompt_number": 7
    },
    {
     "cell_type": "raw",
     "metadata": {},
     "source": [
      "Notice anything peculiar about this request? It hasn\u2019t changed! It\u2019s exactly the same as the first request. No sign of If-Modified-Since headers. No sign of If-None-Match headers. No respect for the caching headers. Still no compression. "
     ]
    },
    {
     "cell_type": "raw",
     "metadata": {},
     "source": [
      "HTTP is designed to work better than this. urllib speaks HTTP like I speak Spanish \u2014 enough to get by in a jam, but not enough to hold a conversation. HTTP is a conversation. It\u2019s time to upgrade to a library that speaks HTTP fluently. "
     ]
    },
    {
     "cell_type": "markdown",
     "metadata": {},
     "source": [
      "http://docs.python-requests.org/en/latest/\n",
      "    better alternative"
     ]
    },
    {
     "cell_type": "code",
     "collapsed": false,
     "input": [
      "import requests\n",
      "a_url = 'http://diveintopython3.org/examples/feed.xml'\n",
      "r = requests.get(a_url)"
     ],
     "language": "python",
     "metadata": {},
     "outputs": [],
     "prompt_number": 1
    },
    {
     "cell_type": "code",
     "collapsed": false,
     "input": [
      "print(r.url)"
     ],
     "language": "python",
     "metadata": {},
     "outputs": [
      {
       "output_type": "stream",
       "stream": "stdout",
       "text": [
        "http://diveintopython3.org/examples/feed.xml\n"
       ]
      }
     ],
     "prompt_number": 2
    },
    {
     "cell_type": "code",
     "collapsed": false,
     "input": [
      "print(r.status_code)"
     ],
     "language": "python",
     "metadata": {},
     "outputs": [
      {
       "output_type": "stream",
       "stream": "stdout",
       "text": [
        "200\n"
       ]
      }
     ],
     "prompt_number": 3
    },
    {
     "cell_type": "code",
     "collapsed": false,
     "input": [
      "r.encoding"
     ],
     "language": "python",
     "metadata": {},
     "outputs": [
      {
       "metadata": {},
       "output_type": "pyout",
       "prompt_number": 4,
       "text": [
        "'utf-8'"
       ]
      }
     ],
     "prompt_number": 4
    },
    {
     "cell_type": "code",
     "collapsed": false,
     "input": [
      "r.content"
     ],
     "language": "python",
     "metadata": {},
     "outputs": [
      {
       "metadata": {},
       "output_type": "pyout",
       "prompt_number": 5,
       "text": [
        "b'<!DOCTYPE html><body style=\"padding:0; margin:0;\"><html><body><iframe src=\"http://mcc.godaddy.com/park/pKMcpaMuM2WwoTq1LzRmYzWyqN==\" style=\"visibility: visible;height: 100%; position:absolute\" allowtransparency=\"true\" marginheight=\"0\" marginwidth=\"0\" frameborder=\"0\" width=\"100%\"></iframe></body></html>'"
       ]
      }
     ],
     "prompt_number": 5
    },
    {
     "cell_type": "code",
     "collapsed": false,
     "input": [
      "r.headers"
     ],
     "language": "python",
     "metadata": {},
     "outputs": [
      {
       "output_type": "stream",
       "stream": "stdout",
       "text": [
        "{'Server': 'Microsoft-IIS/7.5', 'Cache-Control': 'no-cache', 'Content-Encoding': 'gzip', 'Vary': 'Accept-Encoding', 'Pragma': 'no-cache', 'Content-Length': '343', 'Content-Type': 'text/html; charset=utf-8', 'Connection': 'keep-alive', 'X-Powered-By': 'ASP.NET', 'Expires': '-1', 'Age': '1', 'X-AspNet-Version': '4.0.30319', 'Date': 'Sun, 01 Feb 2015 21:51:56 GMT'}\n"
       ]
      }
     ],
     "prompt_number": 7
    },
    {
     "cell_type": "code",
     "collapsed": false,
     "input": [
      "r.history\n",
      "# The Response.history list contains the Response objects that were created in order to complete the request. \n",
      "# The list is sorted from the oldest to the most recent response."
     ],
     "language": "python",
     "metadata": {},
     "outputs": [
      {
       "metadata": {},
       "output_type": "pyout",
       "prompt_number": 8,
       "text": [
        "[]"
       ]
      }
     ],
     "prompt_number": 8
    },
    {
     "cell_type": "code",
     "collapsed": false,
     "input": [
      "from urllib.parse import urlencode              \n",
      "data = {'status': 'Test update from Python 3'}  \n",
      "urlencode(data)"
     ],
     "language": "python",
     "metadata": {},
     "outputs": [
      {
       "metadata": {},
       "output_type": "pyout",
       "prompt_number": 1,
       "text": [
        "'status=Test+update+from+Python+3'"
       ]
      }
     ],
     "prompt_number": 1
    },
    {
     "cell_type": "code",
     "collapsed": false,
     "input": [],
     "language": "python",
     "metadata": {},
     "outputs": []
    }
   ],
   "metadata": {}
  }
 ]
}