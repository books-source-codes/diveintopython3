{
 "metadata": {
  "name": "",
  "signature": "sha256:4354806f62cbd618fe712e0b67fddc2ab0145fc1b9498895b2998c282d1e9bfb"
 },
 "nbformat": 3,
 "nbformat_minor": 0,
 "worksheets": [
  {
   "cells": [
    {
     "cell_type": "code",
     "collapsed": false,
     "input": [
      "#  An iterator is just a class that defines an __iter__() method. \n",
      "class Fib:\n",
      "    '''iterator that yields numbers in the Fibonacci sequence'''\n",
      "\n",
      "    def __init__(self, max):\n",
      "        self.max = max\n",
      "\n",
      "    def __iter__(self):\n",
      "    # The __iter__() method is called whenever someone calls iter(fib).\n",
      "        self.a = 0\n",
      "        self.b = 1\n",
      "        return self\n",
      "\n",
      "    def __next__(self):\n",
      "        fib = self.a\n",
      "        if fib > self.max:\n",
      "            raise StopIteration\n",
      "        self.a, self.b = self.b, self.a + self.b\n",
      "        return fib\n",
      "        # Do not use yield here; when you\u2019re creating your own iterator from scratch, use return instead. "
     ],
     "language": "python",
     "metadata": {},
     "outputs": [],
     "prompt_number": 1
    },
    {
     "cell_type": "raw",
     "metadata": {},
     "source": [
      "The __iter__() method is called whenever someone calls iter(fib). (As you\u2019ll see in a minute, a for loop will call this automatically, but you can also call it yourself manually.) After performing beginning-of-iteration initialization (in this case, resetting self.a and self.b, our two counters), the __iter__() method can return any object that implements a __next__() method. In this case (and in most cases), __iter__() simply returns self, since this class implements its own __next__() method. \n",
      "\n",
      "When the __next__() method raises a StopIteration exception, this signals to the caller that the iteration is exhausted. Unlike most exceptions, this is not an error; it\u2019s a normal condition that just means that the iterator has no more values to generate. If the caller is a for loop, it will notice this StopIteration exception and gracefully exit the loop. (In other words, it will swallow the exception.) This little bit of magic is actually the key to using iterators in for loops. "
     ]
    },
    {
     "cell_type": "code",
     "collapsed": false,
     "input": [
      "fib = Fib(100)\n",
      "fib.__doc__"
     ],
     "language": "python",
     "metadata": {},
     "outputs": [
      {
       "metadata": {},
       "output_type": "pyout",
       "prompt_number": 2,
       "text": [
        "'iterator that yields numbers in the Fibonacci sequence'"
       ]
      }
     ],
     "prompt_number": 2
    },
    {
     "cell_type": "code",
     "collapsed": false,
     "input": [
      "fib.max"
     ],
     "language": "python",
     "metadata": {},
     "outputs": [
      {
       "metadata": {},
       "output_type": "pyout",
       "prompt_number": 3,
       "text": [
        "100"
       ]
      }
     ],
     "prompt_number": 3
    },
    {
     "cell_type": "code",
     "collapsed": false,
     "input": [
      "for n in Fib(1000):\n",
      "    print(n, end=' ')"
     ],
     "language": "python",
     "metadata": {},
     "outputs": [
      {
       "output_type": "stream",
       "stream": "stdout",
       "text": [
        "0 1 1 2 3 5 8 13 21 34 55 89 144 233 377 610 987 "
       ]
      }
     ],
     "prompt_number": 4
    },
    {
     "cell_type": "markdown",
     "metadata": {},
     "source": [
      "\n",
      "* The for loop calls Fib(1000), as shown. This returns an instance of the Fib class. Call this fib_inst.\n",
      "* Secretly, and quite cleverly, the for loop calls iter(fib\\_inst), which returns an iterator object. Call this fib\\_iter. In this case, fib\\_iter == fib\\_inst, because the \\__iter__() method returns self, but the for loop doesn\u2019t know (or care) about that.\n",
      "* To \u201cloop through\u201d the iterator, the for loop calls next(fib\\_iter), which calls the \\__next__() method on the fib_iter object, which does the next-Fibonacci-number calculations and returns a value. The for loop takes this value and assigns it to n, then executes the body of the for loop for that value of n.\n",
      "* How does the for loop know when to stop? I\u2019m glad you asked! When next(fib\\_iter) raises a StopIteration exception, the for loop will swallow the exception and gracefully exit. (Any other exception will pass through and be raised as usual.) And where have you seen a StopIteration exception? In the \\__next__() method, of course! "
     ]
    },
    {
     "cell_type": "code",
     "collapsed": false,
     "input": [
      "class LazyRules:\n",
      "    rules_filename = 'plural6-rules.txt'\n",
      "\n",
      "    def __init__(self):\n",
      "        self.pattern_file = open(self.rules_filename, encoding='utf-8')\n",
      "        self.cache = []\n",
      "\n",
      "    def __iter__(self):\n",
      "        self.cache_index = 0\n",
      "        return self\n",
      "\n",
      "    def __next__(self):\n",
      "        self.cache_index += 1\n",
      "        if len(self.cache) >= self.cache_index:\n",
      "            return self.cache[self.cache_index - 1]\n",
      "        # If we haven\u2019t exhausted the cache yet (i.e. if the length of self.cache is greater than self.cache_index)\n",
      "        # then we have a cache hit! Hooray! We can return the match and apply functions from the cache instead of \n",
      "        # building them from scratch. \n",
      "\n",
      "        if self.pattern_file.closed:\n",
      "            raise StopIteration\n",
      "\n",
      "        line = self.pattern_file.readline()\n",
      "        if not line:\n",
      "            self.pattern_file.close()\n",
      "            raise StopIteration\n",
      "\n",
      "        pattern, search, replace = line.split(None, 3)\n",
      "        funcs = build_match_and_apply_functions(pattern, search, replace)\n",
      "        self.cache.append(funcs)\n",
      "        # before returning the match and apply functions (stored in the tuple funcs), we\u2019re going to save them in self.cache\n",
      "        return funcs\n",
      "\n",
      "rules = LazyRules()"
     ],
     "language": "python",
     "metadata": {},
     "outputs": [],
     "prompt_number": 6
    },
    {
     "cell_type": "code",
     "collapsed": false,
     "input": [
      "r1 = LazyRules()\n",
      "r1.rules_filename"
     ],
     "language": "python",
     "metadata": {},
     "outputs": [
      {
       "metadata": {},
       "output_type": "pyout",
       "prompt_number": 8,
       "text": [
        "'plural6-rules.txt'"
       ]
      }
     ],
     "prompt_number": 8
    },
    {
     "cell_type": "raw",
     "metadata": {},
     "source": [
      "\n",
      "    When the module is imported, it creates a single instance of the LazyRules class, called rules, which opens the pattern file but does not read from it.\n",
      "    When asked for the first match and apply function, it checks its cache but finds the cache is empty. So it reads a single line from the pattern file, builds the match and apply functions from those patterns, and caches them.\n",
      "    Let\u2019s say, for the sake of argument, that the very first rule matched. If so, no further match and apply functions are built, and no further lines are read from the pattern file.\n",
      "    Furthermore, for the sake of argument, suppose that the caller calls the plural() function again to pluralize a different word. The for loop in the plural() function will call iter(rules), which will reset the cache index but will not reset the open file object.\n",
      "    The first time through, the for loop will ask for a value from rules, which will invoke its __next__() method. This time, however, the cache is primed with a single pair of match and apply functions, corresponding to the patterns in the first line of the pattern file. Since they were built and cached in the course of pluralizing the previous word, they\u2019re retrieved from the cache. The cache index increments, and the open file is never touched.\n",
      "    Let\u2019s say, for the sake of argument, that the first rule does not match this time around. So the for loop comes around again and asks for another value from rules. This invokes the __next__() method a second time. This time, the cache is exhausted \u2014 it only contained one item, and we\u2019re asking for a second \u2014 so the __next__() method continues. It reads another line from the open file, builds match and apply functions out of the patterns, and caches them.\n",
      "    This read-build-and-cache process will continue as long as the rules being read from the pattern file don\u2019t match the word we\u2019re trying to pluralize. If we do find a matching rule before the end of the file, we simply use it and stop, with the file still open. The file pointer will stay wherever we stopped reading, waiting for the next readline() command. In the meantime, the cache now has more items in it, and if we start all over again trying to pluralize a new word, each of those items in the cache will be tried before reading the next line from the pattern file. "
     ]
    },
    {
     "cell_type": "markdown",
     "metadata": {},
     "source": [
      "* **Minimal startup cost.** The only thing that happens on import is instantiating a single class and opening a file (but not reading from it).\n",
      "* **Maximum performance.** The previous example would read through the file and build functions dynamically every time you wanted to pluralize a word. This version will cache functions as soon as they\u2019re built, and in the worst case, it will only read through the pattern file once, no matter how many words you pluralize.\n",
      "* **Separation of code and data.** All the patterns are stored in a separate file. Code is code, and data is data, and never the twain shall meet. "
     ]
    },
    {
     "cell_type": "code",
     "collapsed": false,
     "input": [],
     "language": "python",
     "metadata": {},
     "outputs": []
    }
   ],
   "metadata": {}
  }
 ]
}