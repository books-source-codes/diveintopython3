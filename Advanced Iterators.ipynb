{
 "metadata": {
  "name": "",
  "signature": "sha256:e2a829f88d895ac39995db87c239fa6d5dc847666d0ceefac37a4fc84e1a86b5"
 },
 "nbformat": 3,
 "nbformat_minor": 0,
 "worksheets": [
  {
   "cells": [
    {
     "cell_type": "code",
     "collapsed": false,
     "input": [
      "%%writefile alphametics.py\n",
      "\n",
      "import re\n",
      "import itertools\n",
      "\n",
      "def solve(puzzle):\n",
      "    words = re.findall('[A-Z]+', puzzle.upper())\n",
      "    unique_characters = set(''.join(words))\n",
      "    assert len(unique_characters) <= 10, 'Too many letters'\n",
      "    first_letters = {word[0] for word in words}\n",
      "    n = len(first_letters)\n",
      "    sorted_characters = ''.join(first_letters) + \\\n",
      "        ''.join(unique_characters - first_letters)\n",
      "    characters = tuple(ord(c) for c in sorted_characters)\n",
      "    digits = tuple(ord(c) for c in '0123456789')\n",
      "    zero = digits[0]\n",
      "    for guess in itertools.permutations(digits, len(characters)):\n",
      "        if zero not in guess[:n]:\n",
      "            equation = puzzle.translate(dict(zip(characters, guess)))\n",
      "            if eval(equation):\n",
      "                return equation\n",
      "\n",
      "if __name__ == '__main__':\n",
      "    import sys\n",
      "    for puzzle in sys.argv[1:]:\n",
      "        print(puzzle)\n",
      "        solution = solve(puzzle)\n",
      "        if solution:\n",
      "            print(solution)"
     ],
     "language": "python",
     "metadata": {},
     "outputs": [
      {
       "output_type": "stream",
       "stream": "stdout",
       "text": [
        "Writing alphametics.py\n"
       ]
      }
     ],
     "prompt_number": 3
    },
    {
     "cell_type": "code",
     "collapsed": false,
     "input": [
      "import alphametics\n",
      "print(alphametics.solve(\"HAWAII + IDAHO + IOWA + OHIO == STATES\"))"
     ],
     "language": "python",
     "metadata": {},
     "outputs": [
      {
       "output_type": "stream",
       "stream": "stdout",
       "text": [
        "510199 + 98153 + 9301 + 3593 == 621246\n"
       ]
      }
     ],
     "prompt_number": 10
    },
    {
     "cell_type": "code",
     "collapsed": false,
     "input": [
      "# finding all occurences of a pattern\n",
      "import re\n",
      "re.findall('[0-9]+', '16 2-by-4s in rows of 8') "
     ],
     "language": "python",
     "metadata": {},
     "outputs": [
      {
       "metadata": {},
       "output_type": "pyout",
       "prompt_number": 11,
       "text": [
        "['16', '2', '4', '8']"
       ]
      }
     ],
     "prompt_number": 11
    },
    {
     "cell_type": "code",
     "collapsed": false,
     "input": [
      "re.findall(' s.*? s', \"The sixth sick sheikh's sixth sheep's sick.\")\n",
      "# shortest possible series of any character (.*?)\n",
      "# finddall  doesn\u2019t return overlapping matches."
     ],
     "language": "python",
     "metadata": {},
     "outputs": [
      {
       "metadata": {},
       "output_type": "pyout",
       "prompt_number": 12,
       "text": [
        "[' sixth s', \" sheikh's s\", \" sheep's s\"]"
       ]
      }
     ],
     "prompt_number": 12
    },
    {
     "cell_type": "code",
     "collapsed": false,
     "input": [
      "words = ['SEND', 'MORE', 'MONEY']\n",
      "set(''.join(words)) "
     ],
     "language": "python",
     "metadata": {},
     "outputs": [
      {
       "metadata": {},
       "output_type": "pyout",
       "prompt_number": 13,
       "text": [
        "{'D', 'E', 'M', 'N', 'O', 'R', 'S', 'Y'}"
       ]
      }
     ],
     "prompt_number": 13
    },
    {
     "cell_type": "code",
     "collapsed": false,
     "input": [
      "assert 2 + 2 == 5, \"Only for very large values of 2\""
     ],
     "language": "python",
     "metadata": {},
     "outputs": [
      {
       "ename": "AssertionError",
       "evalue": "Only for very large values of 2",
       "output_type": "pyerr",
       "traceback": [
        "\u001b[1;31m---------------------------------------------------------------------------\u001b[0m\n\u001b[1;31mAssertionError\u001b[0m                            Traceback (most recent call last)",
        "\u001b[1;32m<ipython-input-14-e9c4d92e67b6>\u001b[0m in \u001b[0;36m<module>\u001b[1;34m()\u001b[0m\n\u001b[1;32m----> 1\u001b[1;33m \u001b[1;32massert\u001b[0m \u001b[1;36m2\u001b[0m \u001b[1;33m+\u001b[0m \u001b[1;36m2\u001b[0m \u001b[1;33m==\u001b[0m \u001b[1;36m5\u001b[0m\u001b[1;33m,\u001b[0m \u001b[1;34m\"Only for very large values of 2\"\u001b[0m\u001b[1;33m\u001b[0m\u001b[0m\n\u001b[0m",
        "\u001b[1;31mAssertionError\u001b[0m: Only for very large values of 2"
       ]
      }
     ],
     "prompt_number": 14
    },
    {
     "cell_type": "code",
     "collapsed": false,
     "input": [
      "unique_characters = {'E', 'D', 'M', 'O', 'N', 'S', 'R', 'Y'}\n",
      "gen = (ord(c) for c in unique_characters)\n",
      "# A generator expression is like an anonymous function that yields values.\n",
      "# The expression itself looks like a list comprehension, but it\u2019s wrapped in parentheses instead of square brackets. "
     ],
     "language": "python",
     "metadata": {},
     "outputs": [],
     "prompt_number": 15
    },
    {
     "cell_type": "code",
     "collapsed": false,
     "input": [
      "next(gen)\n",
      "# Calling next(gen) returns the next value from the iterator. "
     ],
     "language": "python",
     "metadata": {},
     "outputs": [
      {
       "metadata": {},
       "output_type": "pyout",
       "prompt_number": 17,
       "text": [
        "68"
       ]
      }
     ],
     "prompt_number": 17
    },
    {
     "cell_type": "code",
     "collapsed": false,
     "input": [
      "next(gen)"
     ],
     "language": "python",
     "metadata": {},
     "outputs": [
      {
       "metadata": {},
       "output_type": "pyout",
       "prompt_number": 22,
       "text": [
        "78"
       ]
      }
     ],
     "prompt_number": 22
    },
    {
     "cell_type": "code",
     "collapsed": false,
     "input": [
      "tuple(ord(c) for c in unique_characters) "
     ],
     "language": "python",
     "metadata": {},
     "outputs": [
      {
       "metadata": {},
       "output_type": "pyout",
       "prompt_number": 21,
       "text": [
        "(82, 68, 77, 78, 89, 83, 69, 79)"
       ]
      }
     ],
     "prompt_number": 21
    },
    {
     "cell_type": "code",
     "collapsed": false,
     "input": [
      "def ord_map(a_string):\n",
      "    for c in a_string:\n",
      "        yield ord(c)\n",
      "\n",
      "gen = ord_map(unique_characters)\n",
      "# The generator expression is more compact but functionally equivalent. "
     ],
     "language": "python",
     "metadata": {},
     "outputs": [],
     "prompt_number": 23
    },
    {
     "cell_type": "code",
     "collapsed": false,
     "input": [
      "import itertools    \n",
      "perms = itertools.permutations([1, 2, 3], 2)"
     ],
     "language": "python",
     "metadata": {},
     "outputs": [],
     "prompt_number": 24
    },
    {
     "cell_type": "code",
     "collapsed": false,
     "input": [
      "next(perms)"
     ],
     "language": "python",
     "metadata": {},
     "outputs": [
      {
       "metadata": {},
       "output_type": "pyout",
       "prompt_number": 25,
       "text": [
        "(1, 2)"
       ]
      }
     ],
     "prompt_number": 25
    },
    {
     "cell_type": "code",
     "collapsed": false,
     "input": [
      "next(perms)"
     ],
     "language": "python",
     "metadata": {},
     "outputs": [
      {
       "metadata": {},
       "output_type": "pyout",
       "prompt_number": 26,
       "text": [
        "(1, 3)"
       ]
      }
     ],
     "prompt_number": 26
    },
    {
     "cell_type": "code",
     "collapsed": false,
     "input": [
      "next(perms)"
     ],
     "language": "python",
     "metadata": {},
     "outputs": [
      {
       "metadata": {},
       "output_type": "pyout",
       "prompt_number": 27,
       "text": [
        "(2, 1)"
       ]
      }
     ],
     "prompt_number": 27
    },
    {
     "cell_type": "code",
     "collapsed": false,
     "input": [
      "next(perms)"
     ],
     "language": "python",
     "metadata": {},
     "outputs": [
      {
       "metadata": {},
       "output_type": "pyout",
       "prompt_number": 28,
       "text": [
        "(2, 3)"
       ]
      }
     ],
     "prompt_number": 28
    },
    {
     "cell_type": "code",
     "collapsed": false,
     "input": [
      "next(perms)"
     ],
     "language": "python",
     "metadata": {},
     "outputs": [
      {
       "metadata": {},
       "output_type": "pyout",
       "prompt_number": 29,
       "text": [
        "(3, 1)"
       ]
      }
     ],
     "prompt_number": 29
    },
    {
     "cell_type": "code",
     "collapsed": false,
     "input": [
      "next(perms)"
     ],
     "language": "python",
     "metadata": {},
     "outputs": [
      {
       "metadata": {},
       "output_type": "pyout",
       "prompt_number": 30,
       "text": [
        "(3, 2)"
       ]
      }
     ],
     "prompt_number": 30
    },
    {
     "cell_type": "code",
     "collapsed": false,
     "input": [
      "next(perms)"
     ],
     "language": "python",
     "metadata": {},
     "outputs": [
      {
       "ename": "StopIteration",
       "evalue": "",
       "output_type": "pyerr",
       "traceback": [
        "\u001b[1;31m---------------------------------------------------------------------------\u001b[0m\n\u001b[1;31mStopIteration\u001b[0m                             Traceback (most recent call last)",
        "\u001b[1;32m<ipython-input-31-2f38aa3f83d9>\u001b[0m in \u001b[0;36m<module>\u001b[1;34m()\u001b[0m\n\u001b[1;32m----> 1\u001b[1;33m \u001b[0mnext\u001b[0m\u001b[1;33m(\u001b[0m\u001b[0mperms\u001b[0m\u001b[1;33m)\u001b[0m\u001b[1;33m\u001b[0m\u001b[0m\n\u001b[0m",
        "\u001b[1;31mStopIteration\u001b[0m: "
       ]
      }
     ],
     "prompt_number": 31
    },
    {
     "cell_type": "code",
     "collapsed": false,
     "input": [
      "list(itertools.permutations('ABC', 3))"
     ],
     "language": "python",
     "metadata": {},
     "outputs": [
      {
       "metadata": {},
       "output_type": "pyout",
       "prompt_number": 32,
       "text": [
        "[('A', 'B', 'C'),\n",
        " ('A', 'C', 'B'),\n",
        " ('B', 'A', 'C'),\n",
        " ('B', 'C', 'A'),\n",
        " ('C', 'A', 'B'),\n",
        " ('C', 'B', 'A')]"
       ]
      }
     ],
     "prompt_number": 32
    },
    {
     "cell_type": "code",
     "collapsed": false,
     "input": [
      "list(itertools.product('ABC', '123'))"
     ],
     "language": "python",
     "metadata": {},
     "outputs": [
      {
       "metadata": {},
       "output_type": "pyout",
       "prompt_number": 33,
       "text": [
        "[('A', '1'),\n",
        " ('A', '2'),\n",
        " ('A', '3'),\n",
        " ('B', '1'),\n",
        " ('B', '2'),\n",
        " ('B', '3'),\n",
        " ('C', '1'),\n",
        " ('C', '2'),\n",
        " ('C', '3')]"
       ]
      }
     ],
     "prompt_number": 33
    },
    {
     "cell_type": "code",
     "collapsed": false,
     "input": [
      "list(itertools.combinations('ABC', 2))"
     ],
     "language": "python",
     "metadata": {},
     "outputs": [
      {
       "metadata": {},
       "output_type": "pyout",
       "prompt_number": 36,
       "text": [
        "[('A', 'B'), ('A', 'C'), ('B', 'C')]"
       ]
      }
     ],
     "prompt_number": 36
    },
    {
     "cell_type": "code",
     "collapsed": false,
     "input": [
      "%%writefile favorite-people.txt\n",
      "\n",
      "Dora\n",
      "Ethan\n",
      "Wesley\n",
      "John\n",
      "Anne\n",
      "Mike\n",
      "Chris\n",
      "Sarah\n",
      "Alex\n",
      "Lizzie"
     ],
     "language": "python",
     "metadata": {},
     "outputs": [
      {
       "output_type": "stream",
       "stream": "stdout",
       "text": [
        "Writing favorite-people.txt\n"
       ]
      }
     ],
     "prompt_number": 37
    },
    {
     "cell_type": "code",
     "collapsed": false,
     "input": [
      "names = list(open('examples/favorite-people.txt', encoding='utf-8')) \n",
      "names"
     ],
     "language": "python",
     "metadata": {},
     "outputs": [
      {
       "metadata": {},
       "output_type": "pyout",
       "prompt_number": 38,
       "text": [
        "['Dora\\n',\n",
        " 'Ethan\\n',\n",
        " 'Wesley\\n',\n",
        " 'John\\n',\n",
        " 'Anne\\n',\n",
        " 'Mike\\n',\n",
        " 'Chris\\n',\n",
        " 'Sarah\\n',\n",
        " 'Alex\\n',\n",
        " 'Lizzie\\n']"
       ]
      }
     ],
     "prompt_number": 38
    },
    {
     "cell_type": "code",
     "collapsed": false,
     "input": [
      "names = [name.rstrip() for name in names]\n",
      "names"
     ],
     "language": "python",
     "metadata": {},
     "outputs": [
      {
       "metadata": {},
       "output_type": "pyout",
       "prompt_number": 39,
       "text": [
        "['Dora',\n",
        " 'Ethan',\n",
        " 'Wesley',\n",
        " 'John',\n",
        " 'Anne',\n",
        " 'Mike',\n",
        " 'Chris',\n",
        " 'Sarah',\n",
        " 'Alex',\n",
        " 'Lizzie']"
       ]
      }
     ],
     "prompt_number": 39
    },
    {
     "cell_type": "code",
     "collapsed": false,
     "input": [
      "names = sorted(names)\n",
      "names"
     ],
     "language": "python",
     "metadata": {},
     "outputs": [
      {
       "metadata": {},
       "output_type": "pyout",
       "prompt_number": 40,
       "text": [
        "['Alex',\n",
        " 'Anne',\n",
        " 'Chris',\n",
        " 'Dora',\n",
        " 'Ethan',\n",
        " 'John',\n",
        " 'Lizzie',\n",
        " 'Mike',\n",
        " 'Sarah',\n",
        " 'Wesley']"
       ]
      }
     ],
     "prompt_number": 40
    },
    {
     "cell_type": "code",
     "collapsed": false,
     "input": [
      "names = sorted(names, key=len) \n",
      "names"
     ],
     "language": "python",
     "metadata": {},
     "outputs": [
      {
       "metadata": {},
       "output_type": "pyout",
       "prompt_number": 41,
       "text": [
        "['Alex',\n",
        " 'Anne',\n",
        " 'Dora',\n",
        " 'John',\n",
        " 'Mike',\n",
        " 'Chris',\n",
        " 'Ethan',\n",
        " 'Sarah',\n",
        " 'Lizzie',\n",
        " 'Wesley']"
       ]
      }
     ],
     "prompt_number": 41
    },
    {
     "cell_type": "code",
     "collapsed": false,
     "input": [
      "groups = itertools.groupby(names, len)\n",
      "groups\n",
      "# The itertools.groupby() function takes a sequence and a key function, and returns an iterator that generates pairs.\n",
      "# Each pair contains the result of key_function(each item) and another iterator containing all the items that shared that key result. "
     ],
     "language": "python",
     "metadata": {},
     "outputs": [
      {
       "metadata": {},
       "output_type": "pyout",
       "prompt_number": 42,
       "text": [
        "<itertools.groupby at 0x2e781b0>"
       ]
      }
     ],
     "prompt_number": 42
    },
    {
     "cell_type": "code",
     "collapsed": false,
     "input": [
      "list(groups)"
     ],
     "language": "python",
     "metadata": {},
     "outputs": [
      {
       "metadata": {},
       "output_type": "pyout",
       "prompt_number": 43,
       "text": [
        "[(4, <itertools._grouper at 0x2e1be90>),\n",
        " (5, <itertools._grouper at 0x2e1b6b0>),\n",
        " (6, <itertools._grouper at 0x2e1bad0>)]"
       ]
      }
     ],
     "prompt_number": 43
    },
    {
     "cell_type": "code",
     "collapsed": false,
     "input": [
      "groups = itertools.groupby(names, len) \n",
      "# Calling the list() function \u201cexhausted\u201d the iterator\n",
      "# There\u2019s no \u201creset\u201d button on an iterator"
     ],
     "language": "python",
     "metadata": {},
     "outputs": [],
     "prompt_number": 44
    },
    {
     "cell_type": "code",
     "collapsed": false,
     "input": [
      "for name_length, name_iter in groups:    \n",
      "    print('Names with {0:d} letters:'.format(name_length))\n",
      "    for name in name_iter:\n",
      "        print(name)"
     ],
     "language": "python",
     "metadata": {},
     "outputs": [
      {
       "output_type": "stream",
       "stream": "stdout",
       "text": [
        "Names with 4 letters:\n",
        "Alex\n",
        "Anne\n",
        "Dora\n",
        "John\n",
        "Mike\n",
        "Names with 5 letters:\n",
        "Chris\n",
        "Ethan\n",
        "Sarah\n",
        "Names with 6 letters:\n",
        "Lizzie\n",
        "Wesley\n"
       ]
      }
     ],
     "prompt_number": 45
    },
    {
     "cell_type": "markdown",
     "metadata": {},
     "source": [
      "The itertools.groupby() function only works if the input sequence is already sorted by the grouping function. In the example above, you grouped a list of names by the len() function. That only worked because the input list was already sorted by length. "
     ]
    },
    {
     "cell_type": "code",
     "collapsed": false,
     "input": [
      "list(itertools.chain(range(0, 3), range(10, 13)))"
     ],
     "language": "python",
     "metadata": {},
     "outputs": [
      {
       "metadata": {},
       "output_type": "pyout",
       "prompt_number": 46,
       "text": [
        "[0, 1, 2, 10, 11, 12]"
       ]
      }
     ],
     "prompt_number": 46
    },
    {
     "cell_type": "code",
     "collapsed": false,
     "input": [
      "list(zip(range(0, 3), range(10, 13))) "
     ],
     "language": "python",
     "metadata": {},
     "outputs": [
      {
       "metadata": {},
       "output_type": "pyout",
       "prompt_number": 47,
       "text": [
        "[(0, 10), (1, 11), (2, 12)]"
       ]
      }
     ],
     "prompt_number": 47
    },
    {
     "cell_type": "code",
     "collapsed": false,
     "input": [
      "list(zip(range(0, 3), range(10, 14))) "
     ],
     "language": "python",
     "metadata": {},
     "outputs": [
      {
       "metadata": {},
       "output_type": "pyout",
       "prompt_number": 48,
       "text": [
        "[(0, 10), (1, 11), (2, 12)]"
       ]
      }
     ],
     "prompt_number": 48
    },
    {
     "cell_type": "code",
     "collapsed": false,
     "input": [
      "list(itertools.zip_longest(range(0, 3), range(10, 14))) "
     ],
     "language": "python",
     "metadata": {},
     "outputs": [
      {
       "metadata": {},
       "output_type": "pyout",
       "prompt_number": 49,
       "text": [
        "[(0, 10), (1, 11), (2, 12), (None, 13)]"
       ]
      }
     ],
     "prompt_number": 49
    },
    {
     "cell_type": "code",
     "collapsed": false,
     "input": [
      "characters = ('S', 'M', 'E', 'D', 'O', 'N', 'R', 'Y')\n",
      "guess = ('1', '2', '0', '3', '4', '5', '6', '7')\n",
      "tuple(zip(characters, guess))"
     ],
     "language": "python",
     "metadata": {},
     "outputs": [
      {
       "metadata": {},
       "output_type": "pyout",
       "prompt_number": 50,
       "text": [
        "(('S', '1'),\n",
        " ('M', '2'),\n",
        " ('E', '0'),\n",
        " ('D', '3'),\n",
        " ('O', '4'),\n",
        " ('N', '5'),\n",
        " ('R', '6'),\n",
        " ('Y', '7'))"
       ]
      }
     ],
     "prompt_number": 50
    },
    {
     "cell_type": "code",
     "collapsed": false,
     "input": [
      " dict(zip(characters, guess))"
     ],
     "language": "python",
     "metadata": {},
     "outputs": [
      {
       "metadata": {},
       "output_type": "pyout",
       "prompt_number": 51,
       "text": [
        "{'Y': '7',\n",
        " 'R': '6',\n",
        " 'D': '3',\n",
        " 'S': '1',\n",
        " 'N': '5',\n",
        " 'E': '0',\n",
        " 'O': '4',\n",
        " 'M': '2'}"
       ]
      }
     ],
     "prompt_number": 51
    },
    {
     "cell_type": "code",
     "collapsed": false,
     "input": [
      "translation_table = {ord('A'): ord('O')}  \n",
      "'MARK'.translate(translation_table) "
     ],
     "language": "python",
     "metadata": {},
     "outputs": [
      {
       "metadata": {},
       "output_type": "pyout",
       "prompt_number": 52,
       "text": [
        "'MORK'"
       ]
      }
     ],
     "prompt_number": 52
    },
    {
     "cell_type": "code",
     "collapsed": false,
     "input": [
      "characters = tuple(ord(c) for c in 'SMEDONRY')       \n",
      "guess = tuple(ord(c) for c in '91570682')            \n",
      "translation_table = dict(zip(characters, guess))     \n",
      "'SEND + MORE == MONEY'.translate(translation_table)  "
     ],
     "language": "python",
     "metadata": {},
     "outputs": [
      {
       "metadata": {},
       "output_type": "pyout",
       "prompt_number": 53,
       "text": [
        "'9567 + 1085 == 10652'"
       ]
      }
     ],
     "prompt_number": 53
    },
    {
     "cell_type": "code",
     "collapsed": false,
     "input": [
      "print(characters)\n",
      "print(guess)\n",
      "print(translation_table)"
     ],
     "language": "python",
     "metadata": {},
     "outputs": [
      {
       "output_type": "stream",
       "stream": "stdout",
       "text": [
        "(83, 77, 69, 68, 79, 78, 82, 89)\n",
        "(57, 49, 53, 55, 48, 54, 56, 50)\n",
        "{82: 56, 83: 57, 68: 55, 69: 53, 89: 50, 77: 49, 78: 54, 79: 48}\n"
       ]
      }
     ],
     "prompt_number": 54
    },
    {
     "cell_type": "raw",
     "metadata": {},
     "source": [
      "\u2460\tUsing a generator expression, we quickly compute the byte values for each character in a string. characters is an example of the value of sorted_characters in the alphametics.solve() function.\n",
      "\u2461\tUsing another generator expression, we quickly compute the byte values for each digit in this string. The result, guess, is of the form returned by the itertools.permutations() function in the alphametics.solve() function.\n",
      "\u2462\tThis translation table is generated by zipping characters and guess together and building a dictionary from the resulting sequence of pairs. This is exactly what the alphametics.solve() function does inside the for loop.\n",
      "\u2463\tFinally, we pass this translation table to the translate() method of the original puzzle string. This converts each letter in the string to the corresponding digit (based on the letters in characters and the digits in guess). The result is a valid Python expression, as a string. "
     ]
    },
    {
     "cell_type": "code",
     "collapsed": false,
     "input": [
      "print(eval('9567 + 1085 == 10652'))\n",
      "print(eval('\"A\" + \"B\"'))\n",
      "print(eval('[\"*\"] * 5'))\n",
      "x = 5\n",
      "print(eval(\"x * 5\"))"
     ],
     "language": "python",
     "metadata": {},
     "outputs": [
      {
       "output_type": "stream",
       "stream": "stdout",
       "text": [
        "True\n",
        "AB\n",
        "['*', '*', '*', '*', '*']\n",
        "25\n"
       ]
      }
     ],
     "prompt_number": 56
    },
    {
     "cell_type": "code",
     "collapsed": false,
     "input": [
      "import subprocess\n",
      "# The subprocess module allows you to run arbitrary shell commands and get the result as a Python string. \n",
      "eval(\"subprocess.getoutput('ls ~')\")    "
     ],
     "language": "python",
     "metadata": {},
     "outputs": [
      {
       "metadata": {},
       "output_type": "pyout",
       "prompt_number": 57,
       "text": [
        "\"AppData\\nApplication Data\\nBureau\\nCanopy\\nClose.conf\\nColumn.conf\\nContacts\\nCookies\\nFavoris\\nGoogle\\nIECompatCache\\nIETldCache\\nLocal Settings\\nLuResult.txt\\nMenu Demarrer\\nMenu D\u00c3\u00a9marrer\\nMenu D\u00c3\u00a9marrer.rar\\nMes documents\\nMod\u00c3\u00a8les\\nOSPPREARM\\nP5JavaClientSettings\\nPrivacIE\\nRecent\\nSendTo\\nTracing\\nURPreferences.xml\\nUserData\\nVoisinage d'impression\\nVoisinage r\u00c3\u00a9seau\\nWINDOWS\\nWindow.conf\\nWindow2.conf\\naplayero.conf\\nc.conf\\ndb.conf\\ndimsum\\ndwhelper\\nfstakes15\\ngit-completion.bash\\ngit-prompt.sh\\nntuser.dat\\nntuser.dat.LOG\\nntuser.ini\\npip\\nplayero.conf\\npopopopPreferences.xml\\nport0.conf\\nrules2.conf\\ntableo.conf\""
       ]
      }
     ],
     "prompt_number": 57
    },
    {
     "cell_type": "code",
     "collapsed": false,
     "input": [],
     "language": "python",
     "metadata": {},
     "outputs": []
    }
   ],
   "metadata": {}
  }
 ]
}