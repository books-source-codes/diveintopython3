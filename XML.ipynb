{
 "metadata": {
  "name": "",
  "signature": "sha256:6603da62818b31b0f7156f116282a93cb0550b94cb313abc6e7ace69d700e583"
 },
 "nbformat": 3,
 "nbformat_minor": 0,
 "worksheets": [
  {
   "cells": [
    {
     "cell_type": "code",
     "collapsed": false,
     "input": [
      "%%writefile feed.xml\n",
      "<?xml version='1.0' encoding='utf-8'?>\n",
      "<feed xmlns='http://www.w3.org/2005/Atom' xml:lang='en'>\n",
      "  <title>dive into mark</title>\n",
      "  <subtitle>currently between addictions</subtitle>\n",
      "  <id>tag:diveintomark.org,2001-07-29:/</id>\n",
      "  <updated>2009-03-27T21:56:07Z</updated>\n",
      "  <link rel='alternate' type='text/html' href='http://diveintomark.org/'/>\n",
      "  <link rel='self' type='application/atom+xml' href='http://diveintomark.org/feed/'/>\n",
      "  <entry>\n",
      "    <author>\n",
      "      <name>Mark</name>\n",
      "      <uri>http://diveintomark.org/</uri>\n",
      "    </author>\n",
      "    <title>Dive into history, 2009 edition</title>\n",
      "    <link rel='alternate' type='text/html'\n",
      "      href='http://diveintomark.org/archives/2009/03/27/dive-into-history-2009-edition'/>\n",
      "    <id>tag:diveintomark.org,2009-03-27:/archives/20090327172042</id>\n",
      "    <updated>2009-03-27T21:56:07Z</updated>\n",
      "    <published>2009-03-27T17:20:42Z</published>\n",
      "    <category scheme='http://diveintomark.org' term='diveintopython'/>\n",
      "    <category scheme='http://diveintomark.org' term='docbook'/>\n",
      "    <category scheme='http://diveintomark.org' term='html'/>\n",
      "  <summary type='html'>Putting an entire chapter on one page sounds\n",
      "    bloated, but consider this &amp;mdash; my longest chapter so far\n",
      "    would be 75 printed pages, and it loads in under 5 seconds&amp;hellip;\n",
      "    On dialup.</summary>\n",
      "  </entry>\n",
      "  <entry>\n",
      "    <author>\n",
      "      <name>Mark</name>\n",
      "      <uri>http://diveintomark.org/</uri>\n",
      "    </author>\n",
      "    <title>Accessibility is a harsh mistress</title>\n",
      "    <link rel='alternate' type='text/html'\n",
      "      href='http://diveintomark.org/archives/2009/03/21/accessibility-is-a-harsh-mistress'/>\n",
      "    <id>tag:diveintomark.org,2009-03-21:/archives/20090321200928</id>\n",
      "    <updated>2009-03-22T01:05:37Z</updated>\n",
      "    <published>2009-03-21T20:09:28Z</published>\n",
      "    <category scheme='http://diveintomark.org' term='accessibility'/>\n",
      "    <summary type='html'>The accessibility orthodoxy does not permit people to\n",
      "      question the value of features that are rarely useful and rarely used.</summary>\n",
      "  </entry>\n",
      "  <entry>\n",
      "    <author>\n",
      "      <name>Mark</name>\n",
      "    </author>\n",
      "    <title>A gentle introduction to video encoding, part 1: container formats</title>\n",
      "    <link rel='alternate' type='text/html'\n",
      "      href='http://diveintomark.org/archives/2008/12/18/give-part-1-container-formats'/>\n",
      "    <id>tag:diveintomark.org,2008-12-18:/archives/20081218155422</id>\n",
      "    <updated>2009-01-11T19:39:22Z</updated>\n",
      "    <published>2008-12-18T15:54:22Z</published>\n",
      "    <category scheme='http://diveintomark.org' term='asf'/>\n",
      "    <category scheme='http://diveintomark.org' term='avi'/>\n",
      "    <category scheme='http://diveintomark.org' term='encoding'/>\n",
      "    <category scheme='http://diveintomark.org' term='flv'/>\n",
      "    <category scheme='http://diveintomark.org' term='GIVE'/>\n",
      "    <category scheme='http://diveintomark.org' term='mp4'/>\n",
      "    <category scheme='http://diveintomark.org' term='ogg'/>\n",
      "    <category scheme='http://diveintomark.org' term='video'/>\n",
      "    <summary type='html'>These notes will eventually become part of a\n",
      "      tech talk on video encoding.</summary>\n",
      "  </entry>\n",
      "</feed>"
     ],
     "language": "python",
     "metadata": {},
     "outputs": [
      {
       "output_type": "stream",
       "stream": "stdout",
       "text": [
        "Writing feed.xml\n"
       ]
      }
     ],
     "prompt_number": 2
    },
    {
     "cell_type": "code",
     "collapsed": false,
     "input": [
      "import xml.etree.ElementTree as etree\n",
      "tree = etree.parse('feed.xml')\n",
      "# parse() function can take a filename or a file-like object\n",
      "root = tree.getroot()\n",
      "root"
     ],
     "language": "python",
     "metadata": {},
     "outputs": [
      {
       "metadata": {},
       "output_type": "pyout",
       "prompt_number": 3,
       "text": [
        "<Element '{http://www.w3.org/2005/Atom}feed' at 0x02E23660>"
       ]
      }
     ],
     "prompt_number": 3
    },
    {
     "cell_type": "code",
     "collapsed": false,
     "input": [
      "root.tag\n",
      "# In the ElementTree API, an element acts like a list. The items of the list are the element\u2019s children. "
     ],
     "language": "python",
     "metadata": {},
     "outputs": [
      {
       "metadata": {},
       "output_type": "pyout",
       "prompt_number": 4,
       "text": [
        "'{http://www.w3.org/2005/Atom}feed'"
       ]
      }
     ],
     "prompt_number": 4
    },
    {
     "cell_type": "code",
     "collapsed": false,
     "input": [
      "len(root)"
     ],
     "language": "python",
     "metadata": {},
     "outputs": [
      {
       "metadata": {},
       "output_type": "pyout",
       "prompt_number": 6,
       "text": [
        "9"
       ]
      }
     ],
     "prompt_number": 6
    },
    {
     "cell_type": "code",
     "collapsed": false,
     "input": [
      "for child in root:\n",
      "    print(child)"
     ],
     "language": "python",
     "metadata": {},
     "outputs": [
      {
       "output_type": "stream",
       "stream": "stdout",
       "text": [
        "<Element '{http://www.w3.org/2005/Atom}title' at 0x02E30660>\n",
        "<Element '{http://www.w3.org/2005/Atom}subtitle' at 0x02E30690>\n",
        "<Element '{http://www.w3.org/2005/Atom}id' at 0x02E306F0>\n",
        "<Element '{http://www.w3.org/2005/Atom}updated' at 0x02E30720>\n",
        "<Element '{http://www.w3.org/2005/Atom}link' at 0x02E30780>\n",
        "<Element '{http://www.w3.org/2005/Atom}link' at 0x02E307E0>\n",
        "<Element '{http://www.w3.org/2005/Atom}entry' at 0x02E30810>\n",
        "<Element '{http://www.w3.org/2005/Atom}entry' at 0x02E30C00>\n",
        "<Element '{http://www.w3.org/2005/Atom}entry' at 0x02E30EA0>\n"
       ]
      }
     ],
     "prompt_number": 7
    },
    {
     "cell_type": "code",
     "collapsed": false,
     "input": [
      "# Attributes Are Dictionaries\n",
      "root.attrib"
     ],
     "language": "python",
     "metadata": {},
     "outputs": [
      {
       "metadata": {},
       "output_type": "pyout",
       "prompt_number": 8,
       "text": [
        "{'{http://www.w3.org/XML/1998/namespace}lang': 'en'}"
       ]
      }
     ],
     "prompt_number": 8
    },
    {
     "cell_type": "code",
     "collapsed": false,
     "input": [
      "root[4]"
     ],
     "language": "python",
     "metadata": {},
     "outputs": [
      {
       "metadata": {},
       "output_type": "pyout",
       "prompt_number": 9,
       "text": [
        "<Element '{http://www.w3.org/2005/Atom}link' at 0x02E30780>"
       ]
      }
     ],
     "prompt_number": 9
    },
    {
     "cell_type": "code",
     "collapsed": false,
     "input": [
      "root[4].attrib"
     ],
     "language": "python",
     "metadata": {},
     "outputs": [
      {
       "metadata": {},
       "output_type": "pyout",
       "prompt_number": 10,
       "text": [
        "{'type': 'text/html', 'href': 'http://diveintomark.org/', 'rel': 'alternate'}"
       ]
      }
     ],
     "prompt_number": 10
    },
    {
     "cell_type": "code",
     "collapsed": false,
     "input": [
      "print(root[3])\n",
      "print(root[3].attrib)"
     ],
     "language": "python",
     "metadata": {},
     "outputs": [
      {
       "output_type": "stream",
       "stream": "stdout",
       "text": [
        "<Element '{http://www.w3.org/2005/Atom}updated' at 0x02E30720>\n",
        "{}\n"
       ]
      }
     ],
     "prompt_number": 11
    },
    {
     "cell_type": "code",
     "collapsed": false,
     "input": [
      "import xml.etree.ElementTree as etree\n",
      "tree = etree.parse('feed.xml')\n",
      "root = tree.getroot()\n",
      "root.findall('{http://www.w3.org/2005/Atom}entry')"
     ],
     "language": "python",
     "metadata": {},
     "outputs": [
      {
       "metadata": {},
       "output_type": "pyout",
       "prompt_number": 1,
       "text": [
        "[<Element '{http://www.w3.org/2005/Atom}entry' at 0x02E2B6F0>,\n",
        " <Element '{http://www.w3.org/2005/Atom}entry' at 0x02E2BAE0>,\n",
        " <Element '{http://www.w3.org/2005/Atom}entry' at 0x02E2BD80>]"
       ]
      }
     ],
     "prompt_number": 1
    },
    {
     "cell_type": "code",
     "collapsed": false,
     "input": [
      "root.findall('{http://www.w3.org/2005/Atom}author')\n",
      "# there are three (one in each entry), but those author elements are not direct children of the root element; they are \u201cgrandchildren\u201d"
     ],
     "language": "python",
     "metadata": {},
     "outputs": [
      {
       "metadata": {},
       "output_type": "pyout",
       "prompt_number": 2,
       "text": [
        "[]"
       ]
      }
     ],
     "prompt_number": 2
    },
    {
     "cell_type": "code",
     "collapsed": false,
     "input": [
      "tree.findall('{http://www.w3.org/2005/Atom}entry')\n",
      "# For convenience, the tree object (returned from the etree.parse() function) has\n",
      "# several methods that mirror the methods on the root element. The results are the same\n",
      "# as if you had called the tree.getroot().findall() method. "
     ],
     "language": "python",
     "metadata": {},
     "outputs": [
      {
       "metadata": {},
       "output_type": "pyout",
       "prompt_number": 3,
       "text": [
        "[<Element '{http://www.w3.org/2005/Atom}entry' at 0x02E2B6F0>,\n",
        " <Element '{http://www.w3.org/2005/Atom}entry' at 0x02E2BAE0>,\n",
        " <Element '{http://www.w3.org/2005/Atom}entry' at 0x02E2BD80>]"
       ]
      }
     ],
     "prompt_number": 3
    },
    {
     "cell_type": "code",
     "collapsed": false,
     "input": [
      "entries = tree.findall('{http://www.w3.org/2005/Atom}entry')\n",
      "len(entries)"
     ],
     "language": "python",
     "metadata": {},
     "outputs": [
      {
       "metadata": {},
       "output_type": "pyout",
       "prompt_number": 4,
       "text": [
        "3"
       ]
      }
     ],
     "prompt_number": 4
    },
    {
     "cell_type": "code",
     "collapsed": false,
     "input": [
      "title_element = entries[0].find('{http://www.w3.org/2005/Atom}title')\n",
      "title_element.text"
     ],
     "language": "python",
     "metadata": {},
     "outputs": [
      {
       "metadata": {},
       "output_type": "pyout",
       "prompt_number": 5,
       "text": [
        "'Dive into history, 2009 edition'"
       ]
      }
     ],
     "prompt_number": 5
    },
    {
     "cell_type": "code",
     "collapsed": false,
     "input": [
      "foo_element = entries[0].find('{http://www.w3.org/2005/Atom}foo')      \n",
      "type(foo_element)\n",
      "# There are no elements in this entry named foo, so this returns None. "
     ],
     "language": "python",
     "metadata": {},
     "outputs": [
      {
       "metadata": {},
       "output_type": "pyout",
       "prompt_number": 6,
       "text": [
        "NoneType"
       ]
      }
     ],
     "prompt_number": 6
    },
    {
     "cell_type": "code",
     "collapsed": false,
     "input": [
      "# There is a way to search for descendant elements, i.e. children, grandchildren, and any element at any nesting level. \n",
      "all_links = tree.findall('//{http://www.w3.org/2005/Atom}link')\n",
      "all_links\n",
      "# Those two slashes mean \u201cdon\u2019t just look for direct children; I want any elements, regardless of nesting level.\u201d"
     ],
     "language": "python",
     "metadata": {},
     "outputs": [
      {
       "output_type": "stream",
       "stream": "stderr",
       "text": [
        "-c:1: FutureWarning: This search is broken in 1.3 and earlier, and will be fixed in a future version.  If you rely on the current behaviour, change it to './/{http://www.w3.org/2005/Atom}link'\n"
       ]
      },
      {
       "metadata": {},
       "output_type": "pyout",
       "prompt_number": 7,
       "text": [
        "[<Element '{http://www.w3.org/2005/Atom}link' at 0x02E2B660>,\n",
        " <Element '{http://www.w3.org/2005/Atom}link' at 0x02E2B6C0>,\n",
        " <Element '{http://www.w3.org/2005/Atom}link' at 0x02E2B870>,\n",
        " <Element '{http://www.w3.org/2005/Atom}link' at 0x02E2BBD0>,\n",
        " <Element '{http://www.w3.org/2005/Atom}link' at 0x02E2BE40>]"
       ]
      }
     ],
     "prompt_number": 7
    },
    {
     "cell_type": "code",
     "collapsed": false,
     "input": [
      "all_links[0].attrib"
     ],
     "language": "python",
     "metadata": {},
     "outputs": [
      {
       "metadata": {},
       "output_type": "pyout",
       "prompt_number": 8,
       "text": [
        "{'rel': 'alternate', 'type': 'text/html', 'href': 'http://diveintomark.org/'}"
       ]
      }
     ],
     "prompt_number": 8
    },
    {
     "cell_type": "code",
     "collapsed": false,
     "input": [
      "print(all_links[0].attrib['href'])"
     ],
     "language": "python",
     "metadata": {},
     "outputs": [
      {
       "output_type": "stream",
       "stream": "stdout",
       "text": [
        "http://diveintomark.org/\n"
       ]
      }
     ],
     "prompt_number": 13
    },
    {
     "cell_type": "heading",
     "level": 5,
     "metadata": {},
     "source": [
      "Going Further With lxml"
     ]
    },
    {
     "cell_type": "code",
     "collapsed": false,
     "input": [
      "from lxml import etree                   \n",
      "tree = etree.parse('examples/feed.xml')  \n",
      "root = tree.getroot()                    \n",
      "root.findall('{http://www.w3.org/2005/Atom}entry')\n",
      "# all works the same as xml.etree.ElementTree"
     ],
     "language": "python",
     "metadata": {},
     "outputs": [
      {
       "metadata": {},
       "output_type": "pyout",
       "prompt_number": 14,
       "text": [
        "[<Element {http://www.w3.org/2005/Atom}entry at 0x2f204e0>,\n",
        " <Element {http://www.w3.org/2005/Atom}entry at 0x2f20508>,\n",
        " <Element {http://www.w3.org/2005/Atom}entry at 0x2f20530>]"
       ]
      }
     ],
     "prompt_number": 14
    },
    {
     "cell_type": "markdown",
     "metadata": {},
     "source": [
      "For large XML documents, lxml is significantly faster than the built-in ElementTree library."
     ]
    },
    {
     "cell_type": "code",
     "collapsed": false,
     "input": [
      "tree.findall('//{http://www.w3.org/2005/Atom}*[@href]')"
     ],
     "language": "python",
     "metadata": {},
     "outputs": [
      {
       "metadata": {},
       "output_type": "pyout",
       "prompt_number": 15,
       "text": [
        "[<Element {http://www.w3.org/2005/Atom}link at 0x2f207b0>,\n",
        " <Element {http://www.w3.org/2005/Atom}link at 0x2f207d8>,\n",
        " <Element {http://www.w3.org/2005/Atom}link at 0x2f20800>,\n",
        " <Element {http://www.w3.org/2005/Atom}link at 0x2f20788>]"
       ]
      }
     ],
     "prompt_number": 15
    },
    {
     "cell_type": "raw",
     "metadata": {},
     "source": [
      "This query finds all elements in the Atom namespace, anywhere in the document, that have an href attribute. The // at the beginning of the query means \u201celements anywhere (not just as children of the root element).\u201d {http://www.w3.org/2005/Atom} means \u201conly elements in the Atom namespace.\u201d * means \u201celements with any local name.\u201d And [@href] means \u201chas an href attribute.\u201d "
     ]
    },
    {
     "cell_type": "code",
     "collapsed": false,
     "input": [
      " tree.findall(\"//{http://www.w3.org/2005/Atom}*[@href='http://diveintomark.org/']\")"
     ],
     "language": "python",
     "metadata": {},
     "outputs": [
      {
       "metadata": {},
       "output_type": "pyout",
       "prompt_number": 16,
       "text": [
        "[<Element {http://www.w3.org/2005/Atom}link at 0x2f207b0>]"
       ]
      }
     ],
     "prompt_number": 16
    },
    {
     "cell_type": "code",
     "collapsed": false,
     "input": [
      "NS = '{http://www.w3.org/2005/Atom}'\n",
      "tree.findall('//{NS}author[{NS}uri]'.format(NS=NS))"
     ],
     "language": "python",
     "metadata": {},
     "outputs": [
      {
       "metadata": {},
       "output_type": "pyout",
       "prompt_number": 17,
       "text": [
        "[<Element {http://www.w3.org/2005/Atom}author at 0x2f20940>,\n",
        " <Element {http://www.w3.org/2005/Atom}author at 0x2f20968>]"
       ]
      }
     ],
     "prompt_number": 17
    },
    {
     "cell_type": "raw",
     "metadata": {},
     "source": [
      "After doing some quick string formatting (because otherwise these compound queries get ridiculously long), this query searches for Atom author elements that have an Atom uri element as a child. This only returns two author elements, the ones in the first and second entry. The author in the last entry contains only a name, not a uri. "
     ]
    },
    {
     "cell_type": "heading",
     "level": 5,
     "metadata": {},
     "source": [
      "Generating XML"
     ]
    },
    {
     "cell_type": "code",
     "collapsed": false,
     "input": [
      "import xml.etree.ElementTree as etree\n",
      "new_feed = etree.Element('{http://www.w3.org/2005/Atom}feed', \n",
      "                         attrib={'{http://www.w3.org/XML/1998/namespace}lang': 'en'})\n",
      "print(etree.tostring(new_feed))\n",
      "# tostring serialize any element"
     ],
     "language": "python",
     "metadata": {},
     "outputs": [
      {
       "output_type": "stream",
       "stream": "stdout",
       "text": [
        "b'<ns0:feed xmlns:ns0=\"http://www.w3.org/2005/Atom\" xml:lang=\"en\" />'\n"
       ]
      }
     ],
     "prompt_number": 1
    },
    {
     "cell_type": "raw",
     "metadata": {},
     "source": [
      "The way ElementTree serializes namespaced XML elements is technically accurate but not optimal. The sample XML document at the beginning of this chapter defined a default namespace (xmlns='http://www.w3.org/2005/Atom'). Defining a default namespace is useful for documents \u2014 like Atom feeds \u2014 where every element is in the same namespace, because you can declare the namespace once and declare each element with just its local name (<feed>, <link>, <entry>). There is no need to use any prefixes unless you want to declare elements from another namespace.\n",
      "\n",
      "An XML parser won\u2019t \u201csee\u201d any difference between an XML document with a default namespace and an XML document with a prefixed namespace. The resulting DOM of this serialization:\n",
      "\n",
      "<ns0:feed xmlns:ns0='http://www.w3.org/2005/Atom' xml:lang='en'/>\n",
      "\n",
      "is identical to the DOM of this serialization:\n",
      "\n",
      "<feed xmlns='http://www.w3.org/2005/Atom' xml:lang='en'/>\n",
      "\n",
      "The built-in ElementTree library does not offer this fine-grained control over serializing namespaced elements, but lxml does. "
     ]
    },
    {
     "cell_type": "code",
     "collapsed": false,
     "input": [
      "import lxml.etree\n",
      "NSMAP = {None: 'http://www.w3.org/2005/Atom'}                     \n",
      "new_feed = lxml.etree.Element('feed', nsmap=NSMAP)                \n",
      "print(lxml.etree.tounicode(new_feed))"
     ],
     "language": "python",
     "metadata": {},
     "outputs": [
      {
       "output_type": "stream",
       "stream": "stdout",
       "text": [
        "<feed xmlns=\"http://www.w3.org/2005/Atom\"/>\n"
       ]
      }
     ],
     "prompt_number": 1
    },
    {
     "cell_type": "code",
     "collapsed": false,
     "input": [
      "new_feed.set('{http://www.w3.org/XML/1998/namespace}lang', 'en')  \n",
      "print(lxml.etree.tounicode(new_feed))"
     ],
     "language": "python",
     "metadata": {},
     "outputs": [
      {
       "output_type": "stream",
       "stream": "stdout",
       "text": [
        "<feed xmlns=\"http://www.w3.org/2005/Atom\" xml:lang=\"en\"/>\n"
       ]
      }
     ],
     "prompt_number": 2
    },
    {
     "cell_type": "code",
     "collapsed": false,
     "input": [
      "title = lxml.etree.SubElement(new_feed, 'title', \n",
      "                             attrib={'type':'html'})                               \n",
      "print(lxml.etree.tounicode(new_feed))"
     ],
     "language": "python",
     "metadata": {},
     "outputs": [
      {
       "output_type": "stream",
       "stream": "stdout",
       "text": [
        "<feed xmlns=\"http://www.w3.org/2005/Atom\" xml:lang=\"en\"><title type=\"html\"/></feed>\n"
       ]
      }
     ],
     "prompt_number": 3
    },
    {
     "cell_type": "code",
     "collapsed": false,
     "input": [
      "title.text = 'dive into &hellip;'                         \n",
      "print(lxml.etree.tounicode(new_feed))"
     ],
     "language": "python",
     "metadata": {},
     "outputs": [
      {
       "output_type": "stream",
       "stream": "stdout",
       "text": [
        "<feed xmlns=\"http://www.w3.org/2005/Atom\" xml:lang=\"en\"><title type=\"html\">dive into &amp;hellip;</title></feed>\n"
       ]
      }
     ],
     "prompt_number": 4
    },
    {
     "cell_type": "code",
     "collapsed": false,
     "input": [
      "print(lxml.etree.tounicode(new_feed, pretty_print=True))"
     ],
     "language": "python",
     "metadata": {},
     "outputs": [
      {
       "output_type": "stream",
       "stream": "stdout",
       "text": [
        "<feed xmlns=\"http://www.w3.org/2005/Atom\" xml:lang=\"en\">\n",
        "  <title type=\"html\">dive into &amp;hellip;</title>\n",
        "</feed>\n",
        "\n"
       ]
      }
     ],
     "prompt_number": 5
    },
    {
     "cell_type": "heading",
     "level": 5,
     "metadata": {},
     "source": [
      "Parsing Broken XML"
     ]
    },
    {
     "cell_type": "raw",
     "metadata": {},
     "source": [
      "Here is a fragment of a broken XML document. I\u2019ve highlighted the wellformedness error.\n",
      "\n",
      "<?xml version='1.0' encoding='utf-8'?>\n",
      "<feed xmlns='http://www.w3.org/2005/Atom' xml:lang='en'>\n",
      "  <title>dive into &hellip;</title>\n",
      "...\n",
      "</feed>\n",
      "\n",
      "That\u2019s an error, because the &hellip; entity is not defined in XML. (It is defined in HTML.) If you try to parse this broken feed with the default settings, lxml will choke on the undefined entity.\n"
     ]
    },
    {
     "cell_type": "code",
     "collapsed": false,
     "input": [
      "import lxml.etree\n",
      "tree = lxml.etree.parse('examples/feed-broken.xml')"
     ],
     "language": "python",
     "metadata": {},
     "outputs": [
      {
       "ename": "XMLSyntaxError",
       "evalue": "Entity 'hellip' not defined, line 3, column 28 (<string>)",
       "output_type": "pyerr",
       "traceback": [
        "\u001b[1;36m  File \u001b[1;32m\"<string>\"\u001b[1;36m, line \u001b[1;32munknown\u001b[0m\n\u001b[1;31mXMLSyntaxError\u001b[0m\u001b[1;31m:\u001b[0m Entity 'hellip' not defined, line 3, column 28\n"
       ]
      }
     ],
     "prompt_number": 1
    },
    {
     "cell_type": "markdown",
     "metadata": {},
     "source": [
      "To parse this broken XML document, despite its wellformedness error, you need to create a custom XML parser. "
     ]
    },
    {
     "cell_type": "code",
     "collapsed": false,
     "input": [
      "parser = lxml.etree.XMLParser(recover=True)                  \n",
      "tree = lxml.etree.parse('examples/feed-broken.xml', parser)  \n",
      "parser.error_log"
     ],
     "language": "python",
     "metadata": {},
     "outputs": [
      {
       "metadata": {},
       "output_type": "pyout",
       "prompt_number": 2,
       "text": [
        "examples/feed-broken.xml:3:28:FATAL:PARSER:ERR_UNDECLARED_ENTITY: Entity 'hellip' not defined"
       ]
      }
     ],
     "prompt_number": 2
    },
    {
     "cell_type": "code",
     "collapsed": false,
     "input": [
      "tree.findall('{http://www.w3.org/2005/Atom}title')"
     ],
     "language": "python",
     "metadata": {},
     "outputs": [
      {
       "metadata": {},
       "output_type": "pyout",
       "prompt_number": 3,
       "text": [
        "[<Element {http://www.w3.org/2005/Atom}title at 0x30715d0>]"
       ]
      }
     ],
     "prompt_number": 3
    },
    {
     "cell_type": "code",
     "collapsed": false,
     "input": [
      "title = tree.findall('{http://www.w3.org/2005/Atom}title')[0]\n",
      "title.text"
     ],
     "language": "python",
     "metadata": {},
     "outputs": [
      {
       "metadata": {},
       "output_type": "pyout",
       "prompt_number": 4,
       "text": [
        "'dive into '"
       ]
      }
     ],
     "prompt_number": 4
    },
    {
     "cell_type": "code",
     "collapsed": false,
     "input": [
      " print(lxml.etree.tounicode(tree.getroot()))  "
     ],
     "language": "python",
     "metadata": {},
     "outputs": [
      {
       "output_type": "stream",
       "stream": "stdout",
       "text": [
        "<feed xmlns=\"http://www.w3.org/2005/Atom\" xml:lang=\"en\">\n",
        "  <title>dive into </title>\n",
        "  <subtitle>currently between addictions</subtitle>\n",
        "  <id>tag:diveintomark.org,2001-07-29:/</id>\n",
        "  <updated>2009-03-27T21:56:07Z</updated>\n",
        "  <link rel=\"alternate\" type=\"text/html\" href=\"http://diveintomark.org/\"/>\n",
        "  <entry>\n",
        "    <author>\n",
        "      <name>Mark</name>\n",
        "      <uri>http://diveintomark.org/</uri>\n",
        "    </author>\n",
        "    <title>Dive into history, 2009 edition</title>\n",
        "    <link rel=\"alternate\" type=\"text/html\" href=\"http://diveintomark.org/archives/2009/03/27/dive-into-history-2009-edition\"/>\n",
        "    <id>tag:diveintomark.org,2009-03-27:/archives/20090327172042</id>\n",
        "    <updated>2009-03-27T21:56:07Z</updated>\n",
        "    <published>2009-03-27T17:20:42Z</published>\n",
        "    <category scheme=\"http://diveintomark.org\" term=\"diveintopython\"/>\n",
        "    <category scheme=\"http://diveintomark.org\" term=\"docbook\"/>\n",
        "    <category scheme=\"http://diveintomark.org\" term=\"html\"/>\n",
        "    <summary type=\"html\">Putting an entire chapter on one page sounds\n",
        "      bloated, but consider this mdash; my longest chapter so far\n",
        "      would be 75 printed pages, and it loads in under 5 secondshellip;\n",
        "      On dialup.</summary>\n",
        "  </entry>\n",
        "  <entry>\n",
        "    <author>\n",
        "      <name>Mark</name>\n",
        "      <uri>http://diveintomark.org/</uri>\n",
        "    </author>\n",
        "    <title>Accessibility is a harsh mistress</title>\n",
        "    <link rel=\"alternate\" type=\"text/html\" href=\"http://diveintomark.org/archives/2009/03/21/accessibility-is-a-harsh-mistress\"/>\n",
        "    <id>tag:diveintomark.org,2009-03-21:/archives/20090321200928</id>\n",
        "    <updated>2009-03-22T01:05:37Z</updated>\n",
        "    <published>2009-03-21T20:09:28Z</published>\n",
        "    <category scheme=\"http://diveintomark.org\" term=\"accessibility\"/>\n",
        "    <summary type=\"html\">The accessibility orthodoxy does not permit people to\n",
        "      question the value of features that are rarely useful and rarely used.</summary>\n",
        "  </entry>\n",
        "  <entry>\n",
        "    <author>\n",
        "      <name>Mark</name>\n",
        "    </author>\n",
        "    <title>A gentle introduction to video encoding, part 1: container formats</title>\n",
        "    <link rel=\"alternate\" type=\"text/html\" href=\"http://diveintomark.org/archives/2008/12/18/give-part-1-container-formats\"/>\n",
        "    <id>tag:diveintomark.org,2008-12-18:/archives/20081218155422</id>\n",
        "    <updated>2009-01-11T19:39:22Z</updated>\n",
        "    <published>2008-12-18T15:54:22Z</published>\n",
        "    <category scheme=\"http://diveintomark.org\" term=\"asf\"/>\n",
        "    <category scheme=\"http://diveintomark.org\" term=\"avi\"/>\n",
        "    <category scheme=\"http://diveintomark.org\" term=\"encoding\"/>\n",
        "    <category scheme=\"http://diveintomark.org\" term=\"flv\"/>\n",
        "    <category scheme=\"http://diveintomark.org\" term=\"GIVE\"/>\n",
        "    <category scheme=\"http://diveintomark.org\" term=\"mp4\"/>\n",
        "    <category scheme=\"http://diveintomark.org\" term=\"ogg\"/>\n",
        "    <category scheme=\"http://diveintomark.org\" term=\"video\"/>\n",
        "    <summary type=\"html\">These notes will eventually become part of a\n",
        "      tech talk on video encoding.</summary>\n",
        "  </entry>\n",
        "</feed>\n"
       ]
      }
     ],
     "prompt_number": 5
    },
    {
     "cell_type": "raw",
     "metadata": {},
     "source": [
      "Since the parser didn\u2019t know what to do with the undefined &hellip; entity, the parser just silently dropped it. The text content of the title element becomes 'dive into '.\n",
      "As you can see from the serialization, the &hellip; entity didn\u2019t get moved; it was simply dropped. "
     ]
    },
    {
     "cell_type": "code",
     "collapsed": false,
     "input": [],
     "language": "python",
     "metadata": {},
     "outputs": []
    }
   ],
   "metadata": {}
  }
 ]
}