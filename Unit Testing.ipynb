{
 "metadata": {
  "name": "",
  "signature": "sha256:9025a2edf0cdfa5341d928d838cae835f0f3841f1bbdee032c9884a143aa5fca"
 },
 "nbformat": 3,
 "nbformat_minor": 0,
 "worksheets": [
  {
   "cells": [
    {
     "cell_type": "code",
     "collapsed": false,
     "input": [
      "%%writefile romantest1.py\n",
      "\n",
      "import roman1\n",
      "import unittest\n",
      "\n",
      "class KnownValues(unittest.TestCase):              \n",
      "    known_values = ( (1, 'I'),\n",
      "                     (2, 'II'),\n",
      "                     (3, 'III'),\n",
      "                     (4, 'IV'),\n",
      "                     (5, 'V'),\n",
      "                     (6, 'VI'),\n",
      "                     (7, 'VII'),\n",
      "                     (8, 'VIII'),\n",
      "                     (9, 'IX'),\n",
      "                     (10, 'X'),\n",
      "                     (50, 'L'),\n",
      "                     (100, 'C'),\n",
      "                     (500, 'D'),\n",
      "                     (1000, 'M'),\n",
      "                     (31, 'XXXI'),\n",
      "                     (148, 'CXLVIII'),\n",
      "                     (294, 'CCXCIV'),\n",
      "                     (312, 'CCCXII'),\n",
      "                     (421, 'CDXXI'),\n",
      "                     (528, 'DXXVIII'),\n",
      "                     (621, 'DCXXI'),\n",
      "                     (782, 'DCCLXXXII'),\n",
      "                     (870, 'DCCCLXX'),\n",
      "                     (941, 'CMXLI'),\n",
      "                     (1043, 'MXLIII'),\n",
      "                     (1110, 'MCX'),\n",
      "                     (1226, 'MCCXXVI'),\n",
      "                     (1301, 'MCCCI'),\n",
      "                     (1485, 'MCDLXXXV'),\n",
      "                     (1509, 'MDIX'),\n",
      "                     (1607, 'MDCVII'),\n",
      "                     (1754, 'MDCCLIV'),\n",
      "                     (1832, 'MDCCCXXXII'),\n",
      "                     (1993, 'MCMXCIII'),\n",
      "                     (2074, 'MMLXXIV'),\n",
      "                     (2152, 'MMCLII'),\n",
      "                     (2212, 'MMCCXII'),\n",
      "                     (2343, 'MMCCCXLIII'),\n",
      "                     (2499, 'MMCDXCIX'),\n",
      "                     (2574, 'MMDLXXIV'),\n",
      "                     (2646, 'MMDCXLVI'),\n",
      "                     (2723, 'MMDCCXXIII'),\n",
      "                     (2892, 'MMDCCCXCII'),\n",
      "                     (2975, 'MMCMLXXV'),\n",
      "                     (3051, 'MMMLI'),\n",
      "                     (3185, 'MMMCLXXXV'),\n",
      "                     (3250, 'MMMCCL'),\n",
      "                     (3313, 'MMMCCCXIII'),\n",
      "                     (3408, 'MMMCDVIII'),\n",
      "                     (3501, 'MMMDI'),\n",
      "                     (3610, 'MMMDCX'),\n",
      "                     (3743, 'MMMDCCXLIII'),\n",
      "                     (3844, 'MMMDCCCXLIV'),\n",
      "                     (3888, 'MMMDCCCLXXXVIII'),\n",
      "                     (3940, 'MMMCMXL'),\n",
      "                     (3999, 'MMMCMXCIX'))          \n",
      "\n",
      "    def test_to_roman_known_values(self):          \n",
      "        '''to_roman should give known result with known input'''\n",
      "        for integer, numeral in self.known_values:\n",
      "            result = roman1.to_roman(integer)      \n",
      "            self.assertEqual(numeral, result)      \n",
      "\n",
      "if __name__ == '__main__':\n",
      "    unittest.main()"
     ],
     "language": "python",
     "metadata": {},
     "outputs": [
      {
       "output_type": "stream",
       "stream": "stdout",
       "text": [
        "Writing romantest1.py\n"
       ]
      }
     ],
     "prompt_number": 2
    },
    {
     "cell_type": "code",
     "collapsed": false,
     "input": [
      "%%writefile roman1.py\n",
      "def to_roman(n):\n",
      "    '''convert integer to Roman numeral'''\n",
      "    pass"
     ],
     "language": "python",
     "metadata": {},
     "outputs": [
      {
       "output_type": "stream",
       "stream": "stdout",
       "text": [
        "Writing roman1.py\n"
       ]
      }
     ],
     "prompt_number": 4
    },
    {
     "cell_type": "code",
     "collapsed": false,
     "input": [
      "%run romantest1.py"
     ],
     "language": "python",
     "metadata": {},
     "outputs": [
      {
       "output_type": "stream",
       "stream": "stderr",
       "text": [
        "F"
       ]
      },
      {
       "output_type": "stream",
       "stream": "stderr",
       "text": [
        "\n",
        "======================================================================\n",
        "FAIL: test_to_roman_known_values (__main__.KnownValues)\n",
        "to_roman should give known result with known input\n",
        "----------------------------------------------------------------------\n",
        "Traceback (most recent call last):\n",
        "  File \"C:\\Documents and Settings\\Kevin\\Bureau\\diveintopython3\\romantest1.py\", line 67, in test_to_roman_known_values\n",
        "    self.assertEqual(numeral, result)\n",
        "AssertionError: 'I' != None\n",
        "\n",
        "----------------------------------------------------------------------\n",
        "Ran 1 test in 0.000s\n",
        "\n",
        "FAILED (failures=1)\n"
       ]
      },
      {
       "ename": "SystemExit",
       "evalue": "True",
       "output_type": "pyerr",
       "traceback": [
        "An exception has occurred, use %tb to see the full traceback.\n",
        "\u001b[1;31mSystemExit\u001b[0m\u001b[1;31m:\u001b[0m True\n"
       ]
      }
     ],
     "prompt_number": 6
    },
    {
     "cell_type": "code",
     "collapsed": false,
     "input": [
      "%%writefile roman1.py\n",
      "roman_numeral_map = (('M',  1000),\n",
      "                     ('CM', 900),\n",
      "                     ('D',  500),\n",
      "                     ('CD', 400),\n",
      "                     ('C',  100),\n",
      "                     ('XC', 90),\n",
      "                     ('L',  50),\n",
      "                     ('XL', 40),\n",
      "                     ('X',  10),\n",
      "                     ('IX', 9),\n",
      "                     ('V',  5),\n",
      "                     ('IV', 4),\n",
      "                     ('I',  1))                \n",
      "\n",
      "def to_roman(n):\n",
      "    '''convert integer to Roman numeral'''\n",
      "    result = ''\n",
      "    for numeral, integer in roman_numeral_map:\n",
      "        while n >= integer:                    \n",
      "            result += numeral\n",
      "            n -= integer\n",
      "    return result"
     ],
     "language": "python",
     "metadata": {},
     "outputs": [
      {
       "output_type": "stream",
       "stream": "stdout",
       "text": [
        "Overwriting roman1.py\n"
       ]
      }
     ],
     "prompt_number": 7
    },
    {
     "cell_type": "code",
     "collapsed": false,
     "input": [
      "%run romantest1.py -v"
     ],
     "language": "python",
     "metadata": {},
     "outputs": [
      {
       "output_type": "stream",
       "stream": "stderr",
       "text": [
        "test_to_roman_known_values (__main__.KnownValues)\n",
        "to_roman should give known result with known input ... "
       ]
      },
      {
       "output_type": "stream",
       "stream": "stderr",
       "text": [
        "ok\n",
        "\n",
        "----------------------------------------------------------------------\n",
        "Ran 1 test in 0.000s\n",
        "\n",
        "OK\n"
       ]
      }
     ],
     "prompt_number": 2
    },
    {
     "cell_type": "code",
     "collapsed": false,
     "input": [
      "roman1.to_roman(9000)\n",
      "# too large value"
     ],
     "language": "python",
     "metadata": {},
     "outputs": [
      {
       "metadata": {},
       "output_type": "pyout",
       "prompt_number": 3,
       "text": [
        "'MMMMMMMMM'"
       ]
      }
     ],
     "prompt_number": 3
    },
    {
     "cell_type": "code",
     "collapsed": false,
     "input": [
      "%%writefile romantest2.py\n",
      "import roman2\n",
      "import unittest\n",
      "\n",
      "class KnownValues(unittest.TestCase):\n",
      "    known_values = ( (1, 'I'),\n",
      "                     (2, 'II'),\n",
      "                     (3, 'III'),\n",
      "                     (4, 'IV'),\n",
      "                     (5, 'V'),\n",
      "                     (6, 'VI'),\n",
      "                     (7, 'VII'),\n",
      "                     (8, 'VIII'),\n",
      "                     (9, 'IX'),\n",
      "                     (10, 'X'),\n",
      "                     (50, 'L'),\n",
      "                     (100, 'C'),\n",
      "                     (500, 'D'),\n",
      "                     (1000, 'M'),\n",
      "                     (31, 'XXXI'),\n",
      "                     (148, 'CXLVIII'),\n",
      "                     (294, 'CCXCIV'),\n",
      "                     (312, 'CCCXII'),\n",
      "                     (421, 'CDXXI'),\n",
      "                     (528, 'DXXVIII'),\n",
      "                     (621, 'DCXXI'),\n",
      "                     (782, 'DCCLXXXII'),\n",
      "                     (870, 'DCCCLXX'),\n",
      "                     (941, 'CMXLI'),\n",
      "                     (1043, 'MXLIII'),\n",
      "                     (1110, 'MCX'),\n",
      "                     (1226, 'MCCXXVI'),\n",
      "                     (1301, 'MCCCI'),\n",
      "                     (1485, 'MCDLXXXV'),\n",
      "                     (1509, 'MDIX'),\n",
      "                     (1607, 'MDCVII'),\n",
      "                     (1754, 'MDCCLIV'),\n",
      "                     (1832, 'MDCCCXXXII'),\n",
      "                     (1993, 'MCMXCIII'),\n",
      "                     (2074, 'MMLXXIV'),\n",
      "                     (2152, 'MMCLII'),\n",
      "                     (2212, 'MMCCXII'),\n",
      "                     (2343, 'MMCCCXLIII'),\n",
      "                     (2499, 'MMCDXCIX'),\n",
      "                     (2574, 'MMDLXXIV'),\n",
      "                     (2646, 'MMDCXLVI'),\n",
      "                     (2723, 'MMDCCXXIII'),\n",
      "                     (2892, 'MMDCCCXCII'),\n",
      "                     (2975, 'MMCMLXXV'),\n",
      "                     (3051, 'MMMLI'),\n",
      "                     (3185, 'MMMCLXXXV'),\n",
      "                     (3250, 'MMMCCL'),\n",
      "                     (3313, 'MMMCCCXIII'),\n",
      "                     (3408, 'MMMCDVIII'),\n",
      "                     (3501, 'MMMDI'),\n",
      "                     (3610, 'MMMDCX'),\n",
      "                     (3743, 'MMMDCCXLIII'),\n",
      "                     (3844, 'MMMDCCCXLIV'),\n",
      "                     (3888, 'MMMDCCCLXXXVIII'),\n",
      "                     (3940, 'MMMCMXL'),\n",
      "                     (3999, 'MMMCMXCIX'))\n",
      "\n",
      "    def test_to_roman_known_values(self):\n",
      "        '''to_roman should give known result with known input'''\n",
      "        for integer, numeral in self.known_values:\n",
      "            result = roman2.to_roman(integer)\n",
      "            self.assertEqual(numeral, result)\n",
      "\n",
      "class ToRomanBadInput(unittest.TestCase):\n",
      "    def test_too_large(self):\n",
      "        '''to_roman should fail with large input'''\n",
      "        self.assertRaises(roman2.OutOfRangeError, roman2.to_roman, 4000)\n",
      "\n",
      "if __name__ == '__main__':\n",
      "    unittest.main()"
     ],
     "language": "python",
     "metadata": {},
     "outputs": [
      {
       "output_type": "stream",
       "stream": "stdout",
       "text": [
        "Overwriting romantest2.py\n"
       ]
      }
     ],
     "prompt_number": 4
    },
    {
     "cell_type": "code",
     "collapsed": false,
     "input": [
      "%%writefile roman2.py\n",
      "roman_numeral_map = (('M',  1000),\n",
      "                     ('CM', 900),\n",
      "                     ('D',  500),\n",
      "                     ('CD', 400),\n",
      "                     ('C',  100),\n",
      "                     ('XC', 90),\n",
      "                     ('L',  50),\n",
      "                     ('XL', 40),\n",
      "                     ('X',  10),\n",
      "                     ('IX', 9),\n",
      "                     ('V',  5),\n",
      "                     ('IV', 4),\n",
      "                     ('I',  1))                \n",
      "\n",
      "def to_roman(n):\n",
      "    '''convert integer to Roman numeral'''\n",
      "    result = ''\n",
      "    for numeral, integer in roman_numeral_map:\n",
      "        while n >= integer:                    \n",
      "            result += numeral\n",
      "            n -= integer\n",
      "    return result"
     ],
     "language": "python",
     "metadata": {},
     "outputs": [
      {
       "output_type": "stream",
       "stream": "stdout",
       "text": [
        "Writing roman2.py\n"
       ]
      }
     ],
     "prompt_number": 1
    },
    {
     "cell_type": "code",
     "collapsed": false,
     "input": [
      "%run romantest2.py -v"
     ],
     "language": "python",
     "metadata": {},
     "outputs": [
      {
       "output_type": "stream",
       "stream": "stderr",
       "text": [
        "test_to_roman_known_values (__main__.KnownValues)\n",
        "to_roman should give known result with known input ... "
       ]
      },
      {
       "output_type": "stream",
       "stream": "stderr",
       "text": [
        "ok\n",
        "test_too_large (__main__.ToRomanBadInput)\n",
        "to_roman should fail with large input ... "
       ]
      },
      {
       "output_type": "stream",
       "stream": "stderr",
       "text": [
        "ERROR\n",
        "\n",
        "======================================================================\n",
        "ERROR: test_too_large (__main__.ToRomanBadInput)\n",
        "to_roman should fail with large input\n",
        "----------------------------------------------------------------------\n",
        "Traceback (most recent call last):\n",
        "  File \"C:\\Documents and Settings\\Kevin\\Bureau\\diveintopython3\\romantest2.py\", line 71, in test_too_large\n",
        "    self.assertRaises(roman2.OutOfRangeError, roman2.to_roman, 4000)\n",
        "AttributeError: 'module' object has no attribute 'OutOfRangeError'\n",
        "\n",
        "----------------------------------------------------------------------\n",
        "Ran 2 tests in 0.016s\n",
        "\n",
        "FAILED (errors=1)\n"
       ]
      },
      {
       "ename": "SystemExit",
       "evalue": "True",
       "output_type": "pyerr",
       "traceback": [
        "An exception has occurred, use %tb to see the full traceback.\n",
        "\u001b[1;31mSystemExit\u001b[0m\u001b[1;31m:\u001b[0m True\n"
       ]
      }
     ],
     "prompt_number": 2
    },
    {
     "cell_type": "code",
     "collapsed": false,
     "input": [
      "%%writefile roman2.py\n",
      "roman_numeral_map = (('M',  1000),\n",
      "                     ('CM', 900),\n",
      "                     ('D',  500),\n",
      "                     ('CD', 400),\n",
      "                     ('C',  100),\n",
      "                     ('XC', 90),\n",
      "                     ('L',  50),\n",
      "                     ('XL', 40),\n",
      "                     ('X',  10),\n",
      "                     ('IX', 9),\n",
      "                     ('V',  5),\n",
      "                     ('IV', 4),\n",
      "                     ('I',  1))                \n",
      "\n",
      "def to_roman(n):\n",
      "    '''convert integer to Roman numeral'''\n",
      "    result = ''\n",
      "    for numeral, integer in roman_numeral_map:\n",
      "        while n >= integer:                    \n",
      "            result += numeral\n",
      "            n -= integer\n",
      "    return result\n",
      "\n",
      "class OutOfRangeError(ValueError):  \n",
      "    pass      "
     ],
     "language": "python",
     "metadata": {},
     "outputs": [
      {
       "output_type": "stream",
       "stream": "stdout",
       "text": [
        "Overwriting roman2.py\n"
       ]
      }
     ],
     "prompt_number": 3
    },
    {
     "cell_type": "code",
     "collapsed": false,
     "input": [
      "%run romantest2.py -v"
     ],
     "language": "python",
     "metadata": {},
     "outputs": [
      {
       "output_type": "stream",
       "stream": "stderr",
       "text": [
        "test_to_roman_known_values (__main__.KnownValues)\n",
        "to_roman should give known result with known input ... "
       ]
      },
      {
       "output_type": "stream",
       "stream": "stderr",
       "text": [
        "ok\n",
        "test_too_large (__main__.ToRomanBadInput)\n",
        "to_roman should fail with large input ... "
       ]
      },
      {
       "output_type": "stream",
       "stream": "stderr",
       "text": [
        "FAIL\n",
        "\n",
        "======================================================================\n",
        "FAIL: test_too_large (__main__.ToRomanBadInput)\n",
        "to_roman should fail with large input\n",
        "----------------------------------------------------------------------\n",
        "Traceback (most recent call last):\n",
        "  File \"C:\\Documents and Settings\\Kevin\\Bureau\\diveintopython3\\romantest2.py\", line 71, in test_too_large\n",
        "    self.assertRaises(roman2.OutOfRangeError, roman2.to_roman, 4000)\n",
        "AssertionError: OutOfRangeError not raised by to_roman\n",
        "\n",
        "----------------------------------------------------------------------\n",
        "Ran 2 tests in 0.297s\n",
        "\n",
        "FAILED (failures=1)\n"
       ]
      },
      {
       "ename": "SystemExit",
       "evalue": "True",
       "output_type": "pyerr",
       "traceback": [
        "An exception has occurred, use %tb to see the full traceback.\n",
        "\u001b[1;31mSystemExit\u001b[0m\u001b[1;31m:\u001b[0m True\n"
       ]
      }
     ],
     "prompt_number": 1
    },
    {
     "cell_type": "code",
     "collapsed": false,
     "input": [
      "%%writefile roman2.py\n",
      "class OutOfRangeError(ValueError):\n",
      "    pass\n",
      "\n",
      "roman_numeral_map = (('M',  1000),\n",
      "                     ('CM', 900),\n",
      "                     ('D',  500),\n",
      "                     ('CD', 400),\n",
      "                     ('C',  100),\n",
      "                     ('XC', 90),\n",
      "                     ('L',  50),\n",
      "                     ('XL', 40),\n",
      "                     ('X',  10),\n",
      "                     ('IX', 9),\n",
      "                     ('V',  5),\n",
      "                     ('IV', 4),\n",
      "                     ('I',  1))\n",
      "\n",
      "def to_roman(n):\n",
      "    '''convert integer to Roman numeral'''\n",
      "    if n > 3999:\n",
      "        raise OutOfRangeError('number out of range (must be less than 4000)')\n",
      "\n",
      "    result = ''\n",
      "    for numeral, integer in roman_numeral_map:\n",
      "        while n >= integer:\n",
      "            result += numeral\n",
      "            n -= integer\n",
      "    return result"
     ],
     "language": "python",
     "metadata": {},
     "outputs": [
      {
       "output_type": "stream",
       "stream": "stdout",
       "text": [
        "Overwriting roman2.py\n"
       ]
      }
     ],
     "prompt_number": 2
    },
    {
     "cell_type": "code",
     "collapsed": false,
     "input": [
      "%run romantest2.py -v"
     ],
     "language": "python",
     "metadata": {},
     "outputs": [
      {
       "output_type": "stream",
       "stream": "stderr",
       "text": [
        "test_to_roman_known_values (__main__.KnownValues)\n",
        "to_roman should give known result with known input ... "
       ]
      },
      {
       "output_type": "stream",
       "stream": "stderr",
       "text": [
        "ok\n",
        "test_too_large (__main__.ToRomanBadInput)\n",
        "to_roman should fail with large input ... "
       ]
      },
      {
       "output_type": "stream",
       "stream": "stderr",
       "text": [
        "ok\n",
        "\n",
        "----------------------------------------------------------------------\n",
        "Ran 2 tests in 0.016s\n",
        "\n",
        "OK\n"
       ]
      }
     ],
     "prompt_number": 1
    },
    {
     "cell_type": "code",
     "collapsed": false,
     "input": [
      "roman2.to_roman(-1)\n",
      "# should fail"
     ],
     "language": "python",
     "metadata": {},
     "outputs": [
      {
       "metadata": {},
       "output_type": "pyout",
       "prompt_number": 2,
       "text": [
        "''"
       ]
      }
     ],
     "prompt_number": 2
    },
    {
     "cell_type": "code",
     "collapsed": false,
     "input": [
      "roman2.to_roman(0)\n",
      "# should fail"
     ],
     "language": "python",
     "metadata": {},
     "outputs": [
      {
       "metadata": {},
       "output_type": "pyout",
       "prompt_number": 2,
       "text": [
        "''"
       ]
      }
     ],
     "prompt_number": 2
    },
    {
     "cell_type": "code",
     "collapsed": false,
     "input": [
      "%%writefile romantest3.py\n",
      "import roman3\n",
      "import unittest\n",
      "\n",
      "class KnownValues(unittest.TestCase):\n",
      "    known_values = ( (1, 'I'),\n",
      "                     (2, 'II'),\n",
      "                     (3, 'III'),\n",
      "                     (4, 'IV'),\n",
      "                     (5, 'V'),\n",
      "                     (6, 'VI'),\n",
      "                     (7, 'VII'),\n",
      "                     (8, 'VIII'),\n",
      "                     (9, 'IX'),\n",
      "                     (10, 'X'),\n",
      "                     (50, 'L'),\n",
      "                     (100, 'C'),\n",
      "                     (500, 'D'),\n",
      "                     (1000, 'M'),\n",
      "                     (31, 'XXXI'),\n",
      "                     (148, 'CXLVIII'),\n",
      "                     (294, 'CCXCIV'),\n",
      "                     (312, 'CCCXII'),\n",
      "                     (421, 'CDXXI'),\n",
      "                     (528, 'DXXVIII'),\n",
      "                     (621, 'DCXXI'),\n",
      "                     (782, 'DCCLXXXII'),\n",
      "                     (870, 'DCCCLXX'),\n",
      "                     (941, 'CMXLI'),\n",
      "                     (1043, 'MXLIII'),\n",
      "                     (1110, 'MCX'),\n",
      "                     (1226, 'MCCXXVI'),\n",
      "                     (1301, 'MCCCI'),\n",
      "                     (1485, 'MCDLXXXV'),\n",
      "                     (1509, 'MDIX'),\n",
      "                     (1607, 'MDCVII'),\n",
      "                     (1754, 'MDCCLIV'),\n",
      "                     (1832, 'MDCCCXXXII'),\n",
      "                     (1993, 'MCMXCIII'),\n",
      "                     (2074, 'MMLXXIV'),\n",
      "                     (2152, 'MMCLII'),\n",
      "                     (2212, 'MMCCXII'),\n",
      "                     (2343, 'MMCCCXLIII'),\n",
      "                     (2499, 'MMCDXCIX'),\n",
      "                     (2574, 'MMDLXXIV'),\n",
      "                     (2646, 'MMDCXLVI'),\n",
      "                     (2723, 'MMDCCXXIII'),\n",
      "                     (2892, 'MMDCCCXCII'),\n",
      "                     (2975, 'MMCMLXXV'),\n",
      "                     (3051, 'MMMLI'),\n",
      "                     (3185, 'MMMCLXXXV'),\n",
      "                     (3250, 'MMMCCL'),\n",
      "                     (3313, 'MMMCCCXIII'),\n",
      "                     (3408, 'MMMCDVIII'),\n",
      "                     (3501, 'MMMDI'),\n",
      "                     (3610, 'MMMDCX'),\n",
      "                     (3743, 'MMMDCCXLIII'),\n",
      "                     (3844, 'MMMDCCCXLIV'),\n",
      "                     (3888, 'MMMDCCCLXXXVIII'),\n",
      "                     (3940, 'MMMCMXL'),\n",
      "                     (3999, 'MMMCMXCIX'))\n",
      "\n",
      "    def test_to_roman_known_values(self):\n",
      "        '''to_roman should give known result with known input'''\n",
      "        for integer, numeral in self.known_values:\n",
      "            result = roman3.to_roman(integer)\n",
      "            self.assertEqual(numeral, result)\n",
      "\n",
      "class ToRomanBadInput(unittest.TestCase):\n",
      "    def test_too_large(self):\n",
      "        '''to_roman should fail with large input'''\n",
      "        self.assertRaises(roman3.OutOfRangeError, roman3.to_roman, 4000)\n",
      "\n",
      "    def test_zero(self):\n",
      "        '''to_roman should fail with 0 input'''\n",
      "        self.assertRaises(roman3.OutOfRangeError, roman3.to_roman, 0)\n",
      "\n",
      "    def test_negative(self):\n",
      "        '''to_roman should fail with negative input'''\n",
      "        self.assertRaises(roman3.OutOfRangeError, roman3.to_roman, -1)\n",
      "\n",
      "if __name__ == '__main__':\n",
      "    unittest.main()"
     ],
     "language": "python",
     "metadata": {},
     "outputs": [
      {
       "output_type": "stream",
       "stream": "stdout",
       "text": [
        "Overwriting romantest3.py\n"
       ]
      }
     ],
     "prompt_number": 3
    },
    {
     "cell_type": "code",
     "collapsed": false,
     "input": [
      "%%writefile roman3.py\n",
      "class OutOfRangeError(ValueError):\n",
      "    pass\n",
      "\n",
      "roman_numeral_map = (('M',  1000),\n",
      "                     ('CM', 900),\n",
      "                     ('D',  500),\n",
      "                     ('CD', 400),\n",
      "                     ('C',  100),\n",
      "                     ('XC', 90),\n",
      "                     ('L',  50),\n",
      "                     ('XL', 40),\n",
      "                     ('X',  10),\n",
      "                     ('IX', 9),\n",
      "                     ('V',  5),\n",
      "                     ('IV', 4),\n",
      "                     ('I',  1))\n",
      "\n",
      "def to_roman(n):\n",
      "    '''convert integer to Roman numeral'''\n",
      "    if n > 3999:\n",
      "        raise OutOfRangeError('number out of range (must be less than 4000)')\n",
      "\n",
      "    result = ''\n",
      "    for numeral, integer in roman_numeral_map:\n",
      "        while n >= integer:\n",
      "            result += numeral\n",
      "            n -= integer\n",
      "    return result"
     ],
     "language": "python",
     "metadata": {},
     "outputs": [
      {
       "output_type": "stream",
       "stream": "stdout",
       "text": [
        "Overwriting roman3.py\n"
       ]
      }
     ],
     "prompt_number": 2
    },
    {
     "cell_type": "code",
     "collapsed": false,
     "input": [
      "%run romantest3.py -v"
     ],
     "language": "python",
     "metadata": {},
     "outputs": [
      {
       "output_type": "stream",
       "stream": "stderr",
       "text": [
        "test_to_roman_known_values (__main__.KnownValues)\n",
        "to_roman should give known result with known input ... "
       ]
      },
      {
       "output_type": "stream",
       "stream": "stderr",
       "text": [
        "ok\n",
        "test_negative (__main__.ToRomanBadInput)\n",
        "to_roman should fail with negative input ... "
       ]
      },
      {
       "output_type": "stream",
       "stream": "stderr",
       "text": [
        "FAIL\n",
        "test_too_large (__main__.ToRomanBadInput)\n",
        "to_roman should fail with large input ... "
       ]
      },
      {
       "output_type": "stream",
       "stream": "stderr",
       "text": [
        "ok\n",
        "test_zero (__main__.ToRomanBadInput)\n",
        "to_roman should fail with 0 input ... "
       ]
      },
      {
       "output_type": "stream",
       "stream": "stderr",
       "text": [
        "FAIL\n",
        "\n",
        "======================================================================\n",
        "FAIL: test_negative (__main__.ToRomanBadInput)\n",
        "to_roman should fail with negative input\n",
        "----------------------------------------------------------------------\n",
        "Traceback (most recent call last):\n",
        "  File \"C:\\Documents and Settings\\Kevin\\Bureau\\diveintopython3\\romantest3.py\", line 79, in test_negative\n",
        "    self.assertRaises(roman3.OutOfRangeError, roman3.to_roman, -1)\n",
        "AssertionError: OutOfRangeError not raised by to_roman\n",
        "\n",
        "======================================================================\n",
        "FAIL: test_zero (__main__.ToRomanBadInput)\n",
        "to_roman should fail with 0 input\n",
        "----------------------------------------------------------------------\n",
        "Traceback (most recent call last):\n",
        "  File \"C:\\Documents and Settings\\Kevin\\Bureau\\diveintopython3\\romantest3.py\", line 75, in test_zero\n",
        "    self.assertRaises(roman3.OutOfRangeError, roman3.to_roman, 0)\n",
        "AssertionError: OutOfRangeError not raised by to_roman\n",
        "\n",
        "----------------------------------------------------------------------\n",
        "Ran 4 tests in 0.000s\n",
        "\n",
        "FAILED (failures=2)\n"
       ]
      },
      {
       "ename": "SystemExit",
       "evalue": "True",
       "output_type": "pyerr",
       "traceback": [
        "An exception has occurred, use %tb to see the full traceback.\n",
        "\u001b[1;31mSystemExit\u001b[0m\u001b[1;31m:\u001b[0m True\n"
       ]
      }
     ],
     "prompt_number": 5
    },
    {
     "cell_type": "code",
     "collapsed": false,
     "input": [
      "%%writefile roman3.py\n",
      "class OutOfRangeError(ValueError): pass\n",
      "\n",
      "roman_numeral_map = (('M',  1000),\n",
      "                     ('CM', 900),\n",
      "                     ('D',  500),\n",
      "                     ('CD', 400),\n",
      "                     ('C',  100),\n",
      "                     ('XC', 90),\n",
      "                     ('L',  50),\n",
      "                     ('XL', 40),\n",
      "                     ('X',  10),\n",
      "                     ('IX', 9),\n",
      "                     ('V',  5),\n",
      "                     ('IV', 4),\n",
      "                     ('I',  1))\n",
      "\n",
      "def to_roman(n):\n",
      "    '''convert integer to Roman numeral'''\n",
      "    if not (0 < n < 4000):\n",
      "        raise OutOfRangeError('number out of range (must be 1..3999)')\n",
      "\n",
      "    result = ''\n",
      "    for numeral, integer in roman_numeral_map:\n",
      "        while n >= integer:\n",
      "            result += numeral\n",
      "            n -= integer\n",
      "    return result"
     ],
     "language": "python",
     "metadata": {},
     "outputs": [
      {
       "output_type": "stream",
       "stream": "stdout",
       "text": [
        "Overwriting roman3.py\n"
       ]
      }
     ],
     "prompt_number": 3
    },
    {
     "cell_type": "code",
     "collapsed": false,
     "input": [
      "%run romantest3.py -v"
     ],
     "language": "python",
     "metadata": {},
     "outputs": [
      {
       "output_type": "stream",
       "stream": "stderr",
       "text": [
        "test_to_roman_known_values (__main__.KnownValues)\n",
        "to_roman should give known result with known input ... "
       ]
      },
      {
       "output_type": "stream",
       "stream": "stderr",
       "text": [
        "ok\n",
        "test_negative (__main__.ToRomanBadInput)\n",
        "to_roman should fail with negative input ... "
       ]
      },
      {
       "output_type": "stream",
       "stream": "stderr",
       "text": [
        "ok\n",
        "test_too_large (__main__.ToRomanBadInput)\n",
        "to_roman should fail with large input ... "
       ]
      },
      {
       "output_type": "stream",
       "stream": "stderr",
       "text": [
        "ok\n",
        "test_zero (__main__.ToRomanBadInput)\n",
        "to_roman should fail with 0 input ... "
       ]
      },
      {
       "output_type": "stream",
       "stream": "stderr",
       "text": [
        "ok\n",
        "\n",
        "----------------------------------------------------------------------\n",
        "Ran 4 tests in 0.016s\n",
        "\n",
        "OK\n"
       ]
      }
     ],
     "prompt_number": 4
    },
    {
     "cell_type": "code",
     "collapsed": false,
     "input": [
      "import roman3\n",
      "roman3.to_roman(0.5)\n",
      "# should fail"
     ],
     "language": "python",
     "metadata": {},
     "outputs": [
      {
       "metadata": {},
       "output_type": "pyout",
       "prompt_number": 5,
       "text": [
        "''"
       ]
      }
     ],
     "prompt_number": 5
    },
    {
     "cell_type": "code",
     "collapsed": false,
     "input": [
      "%%writefile roman4.py\n",
      "class OutOfRangeError(ValueError): pass\n",
      "class NotIntegerError(ValueError): pass\n",
      "\n",
      "roman_numeral_map = (('M',  1000),\n",
      "                     ('CM', 900),\n",
      "                     ('D',  500),\n",
      "                     ('CD', 400),\n",
      "                     ('C',  100),\n",
      "                     ('XC', 90),\n",
      "                     ('L',  50),\n",
      "                     ('XL', 40),\n",
      "                     ('X',  10),\n",
      "                     ('IX', 9),\n",
      "                     ('V',  5),\n",
      "                     ('IV', 4),\n",
      "                     ('I',  1))\n",
      "\n",
      "def to_roman(n):\n",
      "    '''convert integer to Roman numeral'''\n",
      "    if not (0 < n < 4000):\n",
      "        raise OutOfRangeError('number out of range (must be 1..3999)')\n",
      "\n",
      "    result = ''\n",
      "    for numeral, integer in roman_numeral_map:\n",
      "        while n >= integer:\n",
      "            result += numeral\n",
      "            n -= integer\n",
      "    return result"
     ],
     "language": "python",
     "metadata": {},
     "outputs": [
      {
       "output_type": "stream",
       "stream": "stdout",
       "text": [
        "Writing roman4.py\n"
       ]
      }
     ],
     "prompt_number": 6
    },
    {
     "cell_type": "code",
     "collapsed": false,
     "input": [
      "%%writefile romantest4.py\n",
      "import roman4\n",
      "import unittest\n",
      "\n",
      "class KnownValues(unittest.TestCase):\n",
      "    known_values = ( (1, 'I'),\n",
      "                     (2, 'II'),\n",
      "                     (3, 'III'),\n",
      "                     (4, 'IV'),\n",
      "                     (5, 'V'),\n",
      "                     (6, 'VI'),\n",
      "                     (7, 'VII'),\n",
      "                     (8, 'VIII'),\n",
      "                     (9, 'IX'),\n",
      "                     (10, 'X'),\n",
      "                     (50, 'L'),\n",
      "                     (100, 'C'),\n",
      "                     (500, 'D'),\n",
      "                     (1000, 'M'),\n",
      "                     (31, 'XXXI'),\n",
      "                     (148, 'CXLVIII'),\n",
      "                     (294, 'CCXCIV'),\n",
      "                     (312, 'CCCXII'),\n",
      "                     (421, 'CDXXI'),\n",
      "                     (528, 'DXXVIII'),\n",
      "                     (621, 'DCXXI'),\n",
      "                     (782, 'DCCLXXXII'),\n",
      "                     (870, 'DCCCLXX'),\n",
      "                     (941, 'CMXLI'),\n",
      "                     (1043, 'MXLIII'),\n",
      "                     (1110, 'MCX'),\n",
      "                     (1226, 'MCCXXVI'),\n",
      "                     (1301, 'MCCCI'),\n",
      "                     (1485, 'MCDLXXXV'),\n",
      "                     (1509, 'MDIX'),\n",
      "                     (1607, 'MDCVII'),\n",
      "                     (1754, 'MDCCLIV'),\n",
      "                     (1832, 'MDCCCXXXII'),\n",
      "                     (1993, 'MCMXCIII'),\n",
      "                     (2074, 'MMLXXIV'),\n",
      "                     (2152, 'MMCLII'),\n",
      "                     (2212, 'MMCCXII'),\n",
      "                     (2343, 'MMCCCXLIII'),\n",
      "                     (2499, 'MMCDXCIX'),\n",
      "                     (2574, 'MMDLXXIV'),\n",
      "                     (2646, 'MMDCXLVI'),\n",
      "                     (2723, 'MMDCCXXIII'),\n",
      "                     (2892, 'MMDCCCXCII'),\n",
      "                     (2975, 'MMCMLXXV'),\n",
      "                     (3051, 'MMMLI'),\n",
      "                     (3185, 'MMMCLXXXV'),\n",
      "                     (3250, 'MMMCCL'),\n",
      "                     (3313, 'MMMCCCXIII'),\n",
      "                     (3408, 'MMMCDVIII'),\n",
      "                     (3501, 'MMMDI'),\n",
      "                     (3610, 'MMMDCX'),\n",
      "                     (3743, 'MMMDCCXLIII'),\n",
      "                     (3844, 'MMMDCCCXLIV'),\n",
      "                     (3888, 'MMMDCCCLXXXVIII'),\n",
      "                     (3940, 'MMMCMXL'),\n",
      "                     (3999, 'MMMCMXCIX'))\n",
      "\n",
      "    def test_to_roman_known_values(self):\n",
      "        '''to_roman should give known result with known input'''\n",
      "        for integer, numeral in self.known_values:\n",
      "            result = roman4.to_roman(integer)\n",
      "            self.assertEqual(numeral, result)\n",
      "\n",
      "class ToRomanBadInput(unittest.TestCase):\n",
      "    def test_too_large(self):\n",
      "        '''to_roman should fail with large input'''\n",
      "        self.assertRaises(roman4.OutOfRangeError, roman4.to_roman, 4000)\n",
      "\n",
      "    def test_zero(self):\n",
      "        '''to_roman should fail with 0 input'''\n",
      "        self.assertRaises(roman4.OutOfRangeError, roman4.to_roman, 0)\n",
      "\n",
      "    def test_negative(self):\n",
      "        '''to_roman should fail with negative input'''\n",
      "        self.assertRaises(roman4.OutOfRangeError, roman4.to_roman, -1)\n",
      "\n",
      "    def test_non_integer(self):\n",
      "        '''to_roman should fail with non-integer input'''\n",
      "        self.assertRaises(roman4.NotIntegerError, roman4.to_roman, 0.5)\n",
      "\n",
      "if __name__ == '__main__':\n",
      "    unittest.main()"
     ],
     "language": "python",
     "metadata": {},
     "outputs": [
      {
       "output_type": "stream",
       "stream": "stdout",
       "text": [
        "Writing romantest4.py\n"
       ]
      }
     ],
     "prompt_number": 7
    },
    {
     "cell_type": "code",
     "collapsed": false,
     "input": [
      "%run romantest4.py -v"
     ],
     "language": "python",
     "metadata": {},
     "outputs": [
      {
       "output_type": "stream",
       "stream": "stderr",
       "text": [
        "test_to_roman_known_values (__main__.KnownValues)\n",
        "to_roman should give known result with known input ... "
       ]
      },
      {
       "output_type": "stream",
       "stream": "stderr",
       "text": [
        "ok\n",
        "test_negative (__main__.ToRomanBadInput)\n",
        "to_roman should fail with negative input ... "
       ]
      },
      {
       "output_type": "stream",
       "stream": "stderr",
       "text": [
        "ok\n",
        "test_non_integer (__main__.ToRomanBadInput)\n",
        "to_roman should fail with non-integer input ... "
       ]
      },
      {
       "output_type": "stream",
       "stream": "stderr",
       "text": [
        "FAIL\n",
        "test_too_large (__main__.ToRomanBadInput)\n",
        "to_roman should fail with large input ... "
       ]
      },
      {
       "output_type": "stream",
       "stream": "stderr",
       "text": [
        "ok\n",
        "test_zero (__main__.ToRomanBadInput)\n",
        "to_roman should fail with 0 input ... "
       ]
      },
      {
       "output_type": "stream",
       "stream": "stderr",
       "text": [
        "ok\n",
        "\n",
        "======================================================================\n",
        "FAIL: test_non_integer (__main__.ToRomanBadInput)\n",
        "to_roman should fail with non-integer input\n",
        "----------------------------------------------------------------------\n",
        "Traceback (most recent call last):\n",
        "  File \"C:\\Documents and Settings\\Kevin\\Bureau\\diveintopython3\\romantest4.py\", line 83, in test_non_integer\n",
        "    self.assertRaises(roman4.NotIntegerError, roman4.to_roman, 0.5)\n",
        "AssertionError: NotIntegerError not raised by to_roman\n",
        "\n",
        "----------------------------------------------------------------------\n",
        "Ran 5 tests in 0.000s\n",
        "\n",
        "FAILED (failures=1)\n"
       ]
      },
      {
       "ename": "SystemExit",
       "evalue": "True",
       "output_type": "pyerr",
       "traceback": [
        "An exception has occurred, use %tb to see the full traceback.\n",
        "\u001b[1;31mSystemExit\u001b[0m\u001b[1;31m:\u001b[0m True\n"
       ]
      }
     ],
     "prompt_number": 8
    },
    {
     "cell_type": "code",
     "collapsed": false,
     "input": [
      "%%writefile roman4.py\n",
      "class OutOfRangeError(ValueError): pass\n",
      "class NotIntegerError(ValueError): pass\n",
      "\n",
      "roman_numeral_map = (('M',  1000),\n",
      "                     ('CM', 900),\n",
      "                     ('D',  500),\n",
      "                     ('CD', 400),\n",
      "                     ('C',  100),\n",
      "                     ('XC', 90),\n",
      "                     ('L',  50),\n",
      "                     ('XL', 40),\n",
      "                     ('X',  10),\n",
      "                     ('IX', 9),\n",
      "                     ('V',  5),\n",
      "                     ('IV', 4),\n",
      "                     ('I',  1))\n",
      "\n",
      "def to_roman(n):\n",
      "    '''convert integer to Roman numeral'''\n",
      "    if not (0 < n < 4000):\n",
      "        raise OutOfRangeError('number out of range (must be 1..3999)')\n",
      "    if not isinstance(n, int):\n",
      "        raise NotIntegerError('non-integers can not be converted')\n",
      "\n",
      "    result = ''\n",
      "    for numeral, integer in roman_numeral_map:\n",
      "        while n >= integer:\n",
      "            result += numeral\n",
      "            n -= integer\n",
      "    return result"
     ],
     "language": "python",
     "metadata": {},
     "outputs": [
      {
       "output_type": "stream",
       "stream": "stdout",
       "text": [
        "Overwriting roman4.py\n"
       ]
      }
     ],
     "prompt_number": 9
    },
    {
     "cell_type": "code",
     "collapsed": false,
     "input": [
      "%run romantest4.py -v"
     ],
     "language": "python",
     "metadata": {},
     "outputs": [
      {
       "output_type": "stream",
       "stream": "stderr",
       "text": [
        "test_to_roman_known_values (__main__.KnownValues)\n",
        "to_roman should give known result with known input ... "
       ]
      },
      {
       "output_type": "stream",
       "stream": "stderr",
       "text": [
        "ok\n",
        "test_negative (__main__.ToRomanBadInput)\n",
        "to_roman should fail with negative input ... "
       ]
      },
      {
       "output_type": "stream",
       "stream": "stderr",
       "text": [
        "ok\n",
        "test_non_integer (__main__.ToRomanBadInput)\n",
        "to_roman should fail with non-integer input ... "
       ]
      },
      {
       "output_type": "stream",
       "stream": "stderr",
       "text": [
        "ok\n",
        "test_too_large (__main__.ToRomanBadInput)\n",
        "to_roman should fail with large input ... "
       ]
      },
      {
       "output_type": "stream",
       "stream": "stderr",
       "text": [
        "ok\n",
        "test_zero (__main__.ToRomanBadInput)\n",
        "to_roman should fail with 0 input ... "
       ]
      },
      {
       "output_type": "stream",
       "stream": "stderr",
       "text": [
        "ok\n",
        "\n",
        "----------------------------------------------------------------------\n",
        "Ran 5 tests in 0.016s\n",
        "\n",
        "OK\n"
       ]
      }
     ],
     "prompt_number": 1
    },
    {
     "cell_type": "code",
     "collapsed": false,
     "input": [
      "%%writefile romantest5.py\n",
      "import roman5\n",
      "import unittest\n",
      "\n",
      "class KnownValues(unittest.TestCase):\n",
      "    known_values = ( (1, 'I'),\n",
      "                     (2, 'II'),\n",
      "                     (3, 'III'),\n",
      "                     (4, 'IV'),\n",
      "                     (5, 'V'),\n",
      "                     (6, 'VI'),\n",
      "                     (7, 'VII'),\n",
      "                     (8, 'VIII'),\n",
      "                     (9, 'IX'),\n",
      "                     (10, 'X'),\n",
      "                     (50, 'L'),\n",
      "                     (100, 'C'),\n",
      "                     (500, 'D'),\n",
      "                     (1000, 'M'),\n",
      "                     (31, 'XXXI'),\n",
      "                     (148, 'CXLVIII'),\n",
      "                     (294, 'CCXCIV'),\n",
      "                     (312, 'CCCXII'),\n",
      "                     (421, 'CDXXI'),\n",
      "                     (528, 'DXXVIII'),\n",
      "                     (621, 'DCXXI'),\n",
      "                     (782, 'DCCLXXXII'),\n",
      "                     (870, 'DCCCLXX'),\n",
      "                     (941, 'CMXLI'),\n",
      "                     (1043, 'MXLIII'),\n",
      "                     (1110, 'MCX'),\n",
      "                     (1226, 'MCCXXVI'),\n",
      "                     (1301, 'MCCCI'),\n",
      "                     (1485, 'MCDLXXXV'),\n",
      "                     (1509, 'MDIX'),\n",
      "                     (1607, 'MDCVII'),\n",
      "                     (1754, 'MDCCLIV'),\n",
      "                     (1832, 'MDCCCXXXII'),\n",
      "                     (1993, 'MCMXCIII'),\n",
      "                     (2074, 'MMLXXIV'),\n",
      "                     (2152, 'MMCLII'),\n",
      "                     (2212, 'MMCCXII'),\n",
      "                     (2343, 'MMCCCXLIII'),\n",
      "                     (2499, 'MMCDXCIX'),\n",
      "                     (2574, 'MMDLXXIV'),\n",
      "                     (2646, 'MMDCXLVI'),\n",
      "                     (2723, 'MMDCCXXIII'),\n",
      "                     (2892, 'MMDCCCXCII'),\n",
      "                     (2975, 'MMCMLXXV'),\n",
      "                     (3051, 'MMMLI'),\n",
      "                     (3185, 'MMMCLXXXV'),\n",
      "                     (3250, 'MMMCCL'),\n",
      "                     (3313, 'MMMCCCXIII'),\n",
      "                     (3408, 'MMMCDVIII'),\n",
      "                     (3501, 'MMMDI'),\n",
      "                     (3610, 'MMMDCX'),\n",
      "                     (3743, 'MMMDCCXLIII'),\n",
      "                     (3844, 'MMMDCCCXLIV'),\n",
      "                     (3888, 'MMMDCCCLXXXVIII'),\n",
      "                     (3940, 'MMMCMXL'),\n",
      "                     (3999, 'MMMCMXCIX'))\n",
      "\n",
      "    def test_to_roman_known_values(self):\n",
      "        '''to_roman should give known result with known input'''\n",
      "        for integer, numeral in self.known_values:\n",
      "            result = roman5.to_roman(integer)\n",
      "            self.assertEqual(numeral, result)\n",
      "\n",
      "    def test_from_roman_known_values(self):\n",
      "        '''from_roman should give known result with known input'''\n",
      "        for integer, numeral in self.known_values:\n",
      "            result = roman5.from_roman(numeral)\n",
      "            self.assertEqual(integer, result)\n",
      "\n",
      "class ToRomanBadInput(unittest.TestCase):\n",
      "    def test_too_large(self):\n",
      "        '''to_roman should fail with large input'''\n",
      "        self.assertRaises(roman5.OutOfRangeError, roman5.to_roman, 4000)\n",
      "\n",
      "    def test_zero(self):\n",
      "        '''to_roman should fail with 0 input'''\n",
      "        self.assertRaises(roman5.OutOfRangeError, roman5.to_roman, 0)\n",
      "\n",
      "    def test_negative(self):\n",
      "        '''to_roman should fail with negative input'''\n",
      "        self.assertRaises(roman5.OutOfRangeError, roman5.to_roman, -1)\n",
      "\n",
      "    def test_non_integer(self):\n",
      "        '''to_roman should fail with non-integer input'''\n",
      "        self.assertRaises(roman5.NotIntegerError, roman5.to_roman, 0.5)\n",
      "\n",
      "class RoundtripCheck(unittest.TestCase):\n",
      "    def test_roundtrip(self):\n",
      "        '''from_roman(to_roman(n))==n for all n'''\n",
      "        for integer in range(1, 4000):\n",
      "            numeral = roman5.to_roman(integer)\n",
      "            result = roman5.from_roman(numeral)\n",
      "            self.assertEqual(integer, result)\n",
      "\n",
      "if __name__ == '__main__':\n",
      "    unittest.main()"
     ],
     "language": "python",
     "metadata": {},
     "outputs": [
      {
       "output_type": "stream",
       "stream": "stdout",
       "text": [
        "Writing romantest5.py\n"
       ]
      }
     ],
     "prompt_number": 2
    },
    {
     "cell_type": "code",
     "collapsed": false,
     "input": [
      "%%writefile roman5.py\n",
      "class OutOfRangeError(ValueError): pass\n",
      "class NotIntegerError(ValueError): pass\n",
      "\n",
      "roman_numeral_map = (('M',  1000),\n",
      "                     ('CM', 900),\n",
      "                     ('D',  500),\n",
      "                     ('CD', 400),\n",
      "                     ('C',  100),\n",
      "                     ('XC', 90),\n",
      "                     ('L',  50),\n",
      "                     ('XL', 40),\n",
      "                     ('X',  10),\n",
      "                     ('IX', 9),\n",
      "                     ('V',  5),\n",
      "                     ('IV', 4),\n",
      "                     ('I',  1))\n",
      "\n",
      "def to_roman(n):\n",
      "    '''convert integer to Roman numeral'''\n",
      "    if not (0 < n < 4000):\n",
      "        raise OutOfRangeError('number out of range (must be 1..3999)')\n",
      "    if not isinstance(n, int):\n",
      "        raise NotIntegerError('non-integers can not be converted')\n",
      "\n",
      "    result = ''\n",
      "    for numeral, integer in roman_numeral_map:\n",
      "        while n >= integer:\n",
      "            result += numeral\n",
      "            n -= integer\n",
      "    return result"
     ],
     "language": "python",
     "metadata": {},
     "outputs": [
      {
       "output_type": "stream",
       "stream": "stdout",
       "text": [
        "Writing roman5.py\n"
       ]
      }
     ],
     "prompt_number": 3
    },
    {
     "cell_type": "code",
     "collapsed": false,
     "input": [
      "%run romantest5.py -v"
     ],
     "language": "python",
     "metadata": {},
     "outputs": [
      {
       "output_type": "stream",
       "stream": "stderr",
       "text": [
        "test_from_roman_known_values (__main__.KnownValues)\n",
        "from_roman should give known result with known input ... "
       ]
      },
      {
       "output_type": "stream",
       "stream": "stderr",
       "text": [
        "ERROR\n",
        "test_to_roman_known_values (__main__.KnownValues)\n",
        "to_roman should give known result with known input ... "
       ]
      },
      {
       "output_type": "stream",
       "stream": "stderr",
       "text": [
        "ok\n",
        "test_roundtrip (__main__.RoundtripCheck)\n",
        "from_roman(to_roman(n))==n for all n ... "
       ]
      },
      {
       "output_type": "stream",
       "stream": "stderr",
       "text": [
        "ERROR\n",
        "test_negative (__main__.ToRomanBadInput)\n",
        "to_roman should fail with negative input ... "
       ]
      },
      {
       "output_type": "stream",
       "stream": "stderr",
       "text": [
        "ok\n",
        "test_non_integer (__main__.ToRomanBadInput)\n",
        "to_roman should fail with non-integer input ... "
       ]
      },
      {
       "output_type": "stream",
       "stream": "stderr",
       "text": [
        "ok\n",
        "test_too_large (__main__.ToRomanBadInput)\n",
        "to_roman should fail with large input ... "
       ]
      },
      {
       "output_type": "stream",
       "stream": "stderr",
       "text": [
        "ok\n",
        "test_zero (__main__.ToRomanBadInput)\n",
        "to_roman should fail with 0 input ... "
       ]
      },
      {
       "output_type": "stream",
       "stream": "stderr",
       "text": [
        "ok\n",
        "\n",
        "======================================================================\n",
        "ERROR: test_from_roman_known_values (__main__.KnownValues)\n",
        "from_roman should give known result with known input\n",
        "----------------------------------------------------------------------\n",
        "Traceback (most recent call last):\n",
        "  File \"C:\\Documents and Settings\\Kevin\\Bureau\\diveintopython3\\romantest5.py\", line 71, in test_from_roman_known_values\n",
        "    result = roman5.from_roman(numeral)\n",
        "AttributeError: 'module' object has no attribute 'from_roman'\n",
        "\n",
        "======================================================================\n",
        "ERROR: test_roundtrip (__main__.RoundtripCheck)\n",
        "from_roman(to_roman(n))==n for all n\n",
        "----------------------------------------------------------------------\n",
        "Traceback (most recent call last):\n",
        "  File \"C:\\Documents and Settings\\Kevin\\Bureau\\diveintopython3\\romantest5.py\", line 96, in test_roundtrip\n",
        "    result = roman5.from_roman(numeral)\n",
        "AttributeError: 'module' object has no attribute 'from_roman'\n",
        "\n",
        "----------------------------------------------------------------------\n",
        "Ran 7 tests in 0.016s\n",
        "\n",
        "FAILED (errors=2)\n"
       ]
      },
      {
       "ename": "SystemExit",
       "evalue": "True",
       "output_type": "pyerr",
       "traceback": [
        "An exception has occurred, use %tb to see the full traceback.\n",
        "\u001b[1;31mSystemExit\u001b[0m\u001b[1;31m:\u001b[0m True\n"
       ]
      }
     ],
     "prompt_number": 4
    },
    {
     "cell_type": "code",
     "collapsed": false,
     "input": [
      "%%writefile roman5.py\n",
      "class OutOfRangeError(ValueError): pass\n",
      "class NotIntegerError(ValueError): pass\n",
      "\n",
      "roman_numeral_map = (('M',  1000),\n",
      "                     ('CM', 900),\n",
      "                     ('D',  500),\n",
      "                     ('CD', 400),\n",
      "                     ('C',  100),\n",
      "                     ('XC', 90),\n",
      "                     ('L',  50),\n",
      "                     ('XL', 40),\n",
      "                     ('X',  10),\n",
      "                     ('IX', 9),\n",
      "                     ('V',  5),\n",
      "                     ('IV', 4),\n",
      "                     ('I',  1))\n",
      "\n",
      "def to_roman(n):\n",
      "    '''convert integer to Roman numeral'''\n",
      "    if not (0 < n < 4000):\n",
      "        raise OutOfRangeError('number out of range (must be 1..3999)')\n",
      "    if not isinstance(n, int):\n",
      "        raise NotIntegerError('non-integers can not be converted')\n",
      "\n",
      "    result = ''\n",
      "    for numeral, integer in roman_numeral_map:\n",
      "        while n >= integer:\n",
      "            result += numeral\n",
      "            n -= integer\n",
      "    return result\n",
      "\n",
      "def from_roman(s):\n",
      "    '''convert Roman numeral to integer'''"
     ],
     "language": "python",
     "metadata": {},
     "outputs": [
      {
       "output_type": "stream",
       "stream": "stdout",
       "text": [
        "Overwriting roman5.py\n"
       ]
      }
     ],
     "prompt_number": 5
    },
    {
     "cell_type": "code",
     "collapsed": false,
     "input": [
      "%run romantest5.py -v"
     ],
     "language": "python",
     "metadata": {},
     "outputs": [
      {
       "output_type": "stream",
       "stream": "stderr",
       "text": [
        "test_from_roman_known_values (__main__.KnownValues)\n",
        "from_roman should give known result with known input ... "
       ]
      },
      {
       "output_type": "stream",
       "stream": "stderr",
       "text": [
        "FAIL\n",
        "test_to_roman_known_values (__main__.KnownValues)\n",
        "to_roman should give known result with known input ... "
       ]
      },
      {
       "output_type": "stream",
       "stream": "stderr",
       "text": [
        "ok\n",
        "test_roundtrip (__main__.RoundtripCheck)\n",
        "from_roman(to_roman(n))==n for all n ... "
       ]
      },
      {
       "output_type": "stream",
       "stream": "stderr",
       "text": [
        "FAIL\n",
        "test_negative (__main__.ToRomanBadInput)\n",
        "to_roman should fail with negative input ... "
       ]
      },
      {
       "output_type": "stream",
       "stream": "stderr",
       "text": [
        "ok\n",
        "test_non_integer (__main__.ToRomanBadInput)\n",
        "to_roman should fail with non-integer input ... "
       ]
      },
      {
       "output_type": "stream",
       "stream": "stderr",
       "text": [
        "ok\n",
        "test_too_large (__main__.ToRomanBadInput)\n",
        "to_roman should fail with large input ... "
       ]
      },
      {
       "output_type": "stream",
       "stream": "stderr",
       "text": [
        "ok\n",
        "test_zero (__main__.ToRomanBadInput)\n",
        "to_roman should fail with 0 input ... "
       ]
      },
      {
       "output_type": "stream",
       "stream": "stderr",
       "text": [
        "ok\n",
        "\n",
        "======================================================================\n",
        "FAIL: test_from_roman_known_values (__main__.KnownValues)\n",
        "from_roman should give known result with known input\n",
        "----------------------------------------------------------------------\n",
        "Traceback (most recent call last):\n",
        "  File \"C:\\Documents and Settings\\Kevin\\Bureau\\diveintopython3\\romantest5.py\", line 72, in test_from_roman_known_values\n",
        "    self.assertEqual(integer, result)\n",
        "AssertionError: 1 != None\n",
        "\n",
        "======================================================================\n",
        "FAIL: test_roundtrip (__main__.RoundtripCheck)\n",
        "from_roman(to_roman(n))==n for all n\n",
        "----------------------------------------------------------------------\n",
        "Traceback (most recent call last):\n",
        "  File \"C:\\Documents and Settings\\Kevin\\Bureau\\diveintopython3\\romantest5.py\", line 97, in test_roundtrip\n",
        "    self.assertEqual(integer, result)\n",
        "AssertionError: 1 != None\n",
        "\n",
        "----------------------------------------------------------------------\n",
        "Ran 7 tests in 0.031s\n",
        "\n",
        "FAILED (failures=2)\n"
       ]
      },
      {
       "ename": "SystemExit",
       "evalue": "True",
       "output_type": "pyerr",
       "traceback": [
        "An exception has occurred, use %tb to see the full traceback.\n",
        "\u001b[1;31mSystemExit\u001b[0m\u001b[1;31m:\u001b[0m True\n"
       ]
      }
     ],
     "prompt_number": 1
    },
    {
     "cell_type": "code",
     "collapsed": false,
     "input": [
      "%%writefile roman5.py\n",
      "class OutOfRangeError(ValueError): pass\n",
      "class NotIntegerError(ValueError): pass\n",
      "\n",
      "roman_numeral_map = (('M',  1000),\n",
      "                     ('CM', 900),\n",
      "                     ('D',  500),\n",
      "                     ('CD', 400),\n",
      "                     ('C',  100),\n",
      "                     ('XC', 90),\n",
      "                     ('L',  50),\n",
      "                     ('XL', 40),\n",
      "                     ('X',  10),\n",
      "                     ('IX', 9),\n",
      "                     ('V',  5),\n",
      "                     ('IV', 4),\n",
      "                     ('I',  1))\n",
      "\n",
      "def to_roman(n):\n",
      "    '''convert integer to Roman numeral'''\n",
      "    if not (0 < n < 4000):\n",
      "        raise OutOfRangeError('number out of range (must be 1..3999)')\n",
      "    if not isinstance(n, int):\n",
      "        raise NotIntegerError('non-integers can not be converted')\n",
      "\n",
      "    result = ''\n",
      "    for numeral, integer in roman_numeral_map:\n",
      "        while n >= integer:\n",
      "            result += numeral\n",
      "            n -= integer\n",
      "    return result\n",
      "\n",
      "def from_roman(s):\n",
      "    '''convert Roman numeral to integer'''\n",
      "    result = 0\n",
      "    index = 0\n",
      "    for numeral, integer in roman_numeral_map:\n",
      "        while s[index : index + len(numeral)] == numeral:\n",
      "            result += integer\n",
      "            index += len(numeral)\n",
      "    return result"
     ],
     "language": "python",
     "metadata": {},
     "outputs": [
      {
       "output_type": "stream",
       "stream": "stdout",
       "text": [
        "Overwriting roman5.py\n"
       ]
      }
     ],
     "prompt_number": 3
    },
    {
     "cell_type": "code",
     "collapsed": false,
     "input": [
      "%run romantest5.py -v"
     ],
     "language": "python",
     "metadata": {},
     "outputs": [
      {
       "output_type": "stream",
       "stream": "stderr",
       "text": [
        "test_from_roman_known_values (__main__.KnownValues)\n",
        "from_roman should give known result with known input ... "
       ]
      },
      {
       "output_type": "stream",
       "stream": "stderr",
       "text": [
        "ok\n",
        "test_to_roman_known_values (__main__.KnownValues)\n",
        "to_roman should give known result with known input ... "
       ]
      },
      {
       "output_type": "stream",
       "stream": "stderr",
       "text": [
        "ok\n",
        "test_roundtrip (__main__.RoundtripCheck)\n",
        "from_roman(to_roman(n))==n for all n ... "
       ]
      },
      {
       "output_type": "stream",
       "stream": "stderr",
       "text": [
        "ok\n",
        "test_negative (__main__.ToRomanBadInput)\n",
        "to_roman should fail with negative input ... "
       ]
      },
      {
       "output_type": "stream",
       "stream": "stderr",
       "text": [
        "ok\n",
        "test_non_integer (__main__.ToRomanBadInput)\n",
        "to_roman should fail with non-integer input ... "
       ]
      },
      {
       "output_type": "stream",
       "stream": "stderr",
       "text": [
        "ok\n",
        "test_too_large (__main__.ToRomanBadInput)\n",
        "to_roman should fail with large input ... "
       ]
      },
      {
       "output_type": "stream",
       "stream": "stderr",
       "text": [
        "ok\n",
        "test_zero (__main__.ToRomanBadInput)\n",
        "to_roman should fail with 0 input ... "
       ]
      },
      {
       "output_type": "stream",
       "stream": "stderr",
       "text": [
        "ok\n",
        "\n",
        "----------------------------------------------------------------------\n",
        "Ran 7 tests in 0.141s\n",
        "\n",
        "OK\n"
       ]
      }
     ],
     "prompt_number": 1
    },
    {
     "cell_type": "raw",
     "metadata": {},
     "source": [
      "#how roman5 works:\n",
      "def from_roman(s):\n",
      "    \"\"\"convert Roman numeral to integer\"\"\"\n",
      "    result = 0\n",
      "    index = 0\n",
      "    for numeral, integer in roman_numeral_map:\n",
      "        while s[index:index+len(numeral)] == numeral:\n",
      "            result += integer\n",
      "            index += len(numeral)\n",
      "            print('found', numeral, 'of length', len(numeral), ', adding', integer)\n",
      "\n",
      ">>> import roman5\n",
      ">>> roman5.from_roman('MCMLXXII')\n",
      "found M of length 1, adding 1000\n",
      "found CM of length 2, adding 900\n",
      "found L of length 1, adding 50\n",
      "found X of length 1, adding 10\n",
      "found X of length 1, adding 10\n",
      "found I of length 1, adding 1\n",
      "found I of length 1, adding 1\n",
      "1972"
     ]
    },
    {
     "cell_type": "code",
     "collapsed": false,
     "input": [
      "%%writefile romantest6.py\n",
      "import roman6\n",
      "import unittest\n",
      "\n",
      "class KnownValues(unittest.TestCase):\n",
      "    known_values = ( (1, 'I'),\n",
      "                     (2, 'II'),\n",
      "                     (3, 'III'),\n",
      "                     (4, 'IV'),\n",
      "                     (5, 'V'),\n",
      "                     (6, 'VI'),\n",
      "                     (7, 'VII'),\n",
      "                     (8, 'VIII'),\n",
      "                     (9, 'IX'),\n",
      "                     (10, 'X'),\n",
      "                     (50, 'L'),\n",
      "                     (100, 'C'),\n",
      "                     (500, 'D'),\n",
      "                     (1000, 'M'),\n",
      "                     (31, 'XXXI'),\n",
      "                     (148, 'CXLVIII'),\n",
      "                     (294, 'CCXCIV'),\n",
      "                     (312, 'CCCXII'),\n",
      "                     (421, 'CDXXI'),\n",
      "                     (528, 'DXXVIII'),\n",
      "                     (621, 'DCXXI'),\n",
      "                     (782, 'DCCLXXXII'),\n",
      "                     (870, 'DCCCLXX'),\n",
      "                     (941, 'CMXLI'),\n",
      "                     (1043, 'MXLIII'),\n",
      "                     (1110, 'MCX'),\n",
      "                     (1226, 'MCCXXVI'),\n",
      "                     (1301, 'MCCCI'),\n",
      "                     (1485, 'MCDLXXXV'),\n",
      "                     (1509, 'MDIX'),\n",
      "                     (1607, 'MDCVII'),\n",
      "                     (1754, 'MDCCLIV'),\n",
      "                     (1832, 'MDCCCXXXII'),\n",
      "                     (1993, 'MCMXCIII'),\n",
      "                     (2074, 'MMLXXIV'),\n",
      "                     (2152, 'MMCLII'),\n",
      "                     (2212, 'MMCCXII'),\n",
      "                     (2343, 'MMCCCXLIII'),\n",
      "                     (2499, 'MMCDXCIX'),\n",
      "                     (2574, 'MMDLXXIV'),\n",
      "                     (2646, 'MMDCXLVI'),\n",
      "                     (2723, 'MMDCCXXIII'),\n",
      "                     (2892, 'MMDCCCXCII'),\n",
      "                     (2975, 'MMCMLXXV'),\n",
      "                     (3051, 'MMMLI'),\n",
      "                     (3185, 'MMMCLXXXV'),\n",
      "                     (3250, 'MMMCCL'),\n",
      "                     (3313, 'MMMCCCXIII'),\n",
      "                     (3408, 'MMMCDVIII'),\n",
      "                     (3501, 'MMMDI'),\n",
      "                     (3610, 'MMMDCX'),\n",
      "                     (3743, 'MMMDCCXLIII'),\n",
      "                     (3844, 'MMMDCCCXLIV'),\n",
      "                     (3888, 'MMMDCCCLXXXVIII'),\n",
      "                     (3940, 'MMMCMXL'),\n",
      "                     (3999, 'MMMCMXCIX'))\n",
      "\n",
      "    def test_to_roman_known_values(self):\n",
      "        '''to_roman should give known result with known input'''\n",
      "        for integer, numeral in self.known_values:\n",
      "            result = roman6.to_roman(integer)\n",
      "            self.assertEqual(numeral, result)\n",
      "\n",
      "    def test_from_roman_known_values(self):\n",
      "        '''from_roman should give known result with known input'''\n",
      "        for integer, numeral in self.known_values:\n",
      "            result = roman6.from_roman(numeral)\n",
      "            self.assertEqual(integer, result)\n",
      "\n",
      "class ToRomanBadInput(unittest.TestCase):\n",
      "    def test_too_large(self):\n",
      "        '''to_roman should fail with large input'''\n",
      "        self.assertRaises(roman6.OutOfRangeError, roman6.to_roman, 4000)\n",
      "\n",
      "    def test_zero(self):\n",
      "        '''to_roman should fail with 0 input'''\n",
      "        self.assertRaises(roman6.OutOfRangeError, roman6.to_roman, 0)\n",
      "\n",
      "    def test_negative(self):\n",
      "        '''to_roman should fail with negative input'''\n",
      "        self.assertRaises(roman6.OutOfRangeError, roman6.to_roman, -1)\n",
      "\n",
      "    def test_non_integer(self):\n",
      "        '''to_roman should fail with non-integer input'''\n",
      "        self.assertRaises(roman6.NotIntegerError, roman6.to_roman, 0.5)\n",
      "\n",
      "class FromRomanBadInput(unittest.TestCase):\n",
      "    def test_too_many_repeated_numerals(self):\n",
      "        '''from_roman should fail with too many repeated numerals'''\n",
      "        for s in ('MMMM', 'DD', 'CCCC', 'LL', 'XXXX', 'VV', 'IIII'):\n",
      "            self.assertRaises(roman6.InvalidRomanNumeralError, roman6.from_roman, s)\n",
      "\n",
      "    def test_repeated_pairs(self):\n",
      "        '''from_roman should fail with repeated pairs of numerals'''\n",
      "        for s in ('CMCM', 'CDCD', 'XCXC', 'XLXL', 'IXIX', 'IVIV'):\n",
      "            self.assertRaises(roman6.InvalidRomanNumeralError, roman6.from_roman, s)\n",
      "\n",
      "    def test_malformed_antecedents(self):\n",
      "        '''from_roman should fail with malformed antecedents'''\n",
      "        for s in ('IIMXCC', 'VX', 'DCM', 'CMM', 'IXIV',\n",
      "                  'MCMC', 'XCX', 'IVI', 'LM', 'LD', 'LC'):\n",
      "            self.assertRaises(roman6.InvalidRomanNumeralError, roman6.from_roman, s)\n",
      "\n",
      "class RoundtripCheck(unittest.TestCase):\n",
      "    def test_roundtrip(self):\n",
      "        '''from_roman(to_roman(n))==n for all n'''\n",
      "        for integer in range(1, 4000):\n",
      "            numeral = roman6.to_roman(integer)\n",
      "            result = roman6.from_roman(numeral)\n",
      "            self.assertEqual(integer, result)\n",
      "\n",
      "if __name__ == '__main__':\n",
      "    unittest.main()"
     ],
     "language": "python",
     "metadata": {},
     "outputs": [
      {
       "output_type": "stream",
       "stream": "stdout",
       "text": [
        "Writing romantest6.py\n"
       ]
      }
     ],
     "prompt_number": 2
    },
    {
     "cell_type": "code",
     "collapsed": false,
     "input": [
      "%%writefile roman6.py\n",
      "class OutOfRangeError(ValueError): pass\n",
      "class NotIntegerError(ValueError): pass\n",
      "class InvalidRomanNumeralError(ValueError): pass\n",
      "\n",
      "roman_numeral_map = (('M',  1000),\n",
      "                     ('CM', 900),\n",
      "                     ('D',  500),\n",
      "                     ('CD', 400),\n",
      "                     ('C',  100),\n",
      "                     ('XC', 90),\n",
      "                     ('L',  50),\n",
      "                     ('XL', 40),\n",
      "                     ('X',  10),\n",
      "                     ('IX', 9),\n",
      "                     ('V',  5),\n",
      "                     ('IV', 4),\n",
      "                     ('I',  1))\n",
      "\n",
      "def to_roman(n):\n",
      "    '''convert integer to Roman numeral'''\n",
      "    if not (0 < n < 4000):\n",
      "        raise OutOfRangeError('number out of range (must be 1..3999)')\n",
      "    if not isinstance(n, int):\n",
      "        raise NotIntegerError('non-integers can not be converted')\n",
      "\n",
      "    result = ''\n",
      "    for numeral, integer in roman_numeral_map:\n",
      "        while n >= integer:\n",
      "            result += numeral\n",
      "            n -= integer\n",
      "    return result\n",
      "\n",
      "def from_roman(s):\n",
      "    '''convert Roman numeral to integer'''\n",
      "    result = 0\n",
      "    index = 0\n",
      "    for numeral, integer in roman_numeral_map:\n",
      "        while s[index : index + len(numeral)] == numeral:\n",
      "            result += integer\n",
      "            index += len(numeral)\n",
      "    return result"
     ],
     "language": "python",
     "metadata": {},
     "outputs": [
      {
       "output_type": "stream",
       "stream": "stdout",
       "text": [
        "Writing roman6.py\n"
       ]
      }
     ],
     "prompt_number": 3
    },
    {
     "cell_type": "code",
     "collapsed": false,
     "input": [
      "%run romantest6.py -v"
     ],
     "language": "python",
     "metadata": {},
     "outputs": [
      {
       "output_type": "stream",
       "stream": "stderr",
       "text": [
        "test_malformed_antecedents (__main__.FromRomanBadInput)\n",
        "from_roman should fail with malformed antecedents ... "
       ]
      },
      {
       "output_type": "stream",
       "stream": "stderr",
       "text": [
        "FAIL\n",
        "test_repeated_pairs (__main__.FromRomanBadInput)\n",
        "from_roman should fail with repeated pairs of numerals ... "
       ]
      },
      {
       "output_type": "stream",
       "stream": "stderr",
       "text": [
        "FAIL\n",
        "test_too_many_repeated_numerals (__main__.FromRomanBadInput)\n",
        "from_roman should fail with too many repeated numerals ... "
       ]
      },
      {
       "output_type": "stream",
       "stream": "stderr",
       "text": [
        "FAIL\n",
        "test_from_roman_known_values (__main__.KnownValues)\n",
        "from_roman should give known result with known input ... "
       ]
      },
      {
       "output_type": "stream",
       "stream": "stderr",
       "text": [
        "ok\n",
        "test_to_roman_known_values (__main__.KnownValues)\n",
        "to_roman should give known result with known input ... "
       ]
      },
      {
       "output_type": "stream",
       "stream": "stderr",
       "text": [
        "ok\n",
        "test_roundtrip (__main__.RoundtripCheck)\n",
        "from_roman(to_roman(n))==n for all n ... "
       ]
      },
      {
       "output_type": "stream",
       "stream": "stderr",
       "text": [
        "ok\n",
        "test_negative (__main__.ToRomanBadInput)\n",
        "to_roman should fail with negative input ... "
       ]
      },
      {
       "output_type": "stream",
       "stream": "stderr",
       "text": [
        "ok\n",
        "test_non_integer (__main__.ToRomanBadInput)\n",
        "to_roman should fail with non-integer input ... "
       ]
      },
      {
       "output_type": "stream",
       "stream": "stderr",
       "text": [
        "ok\n",
        "test_too_large (__main__.ToRomanBadInput)\n",
        "to_roman should fail with large input ... "
       ]
      },
      {
       "output_type": "stream",
       "stream": "stderr",
       "text": [
        "ok\n",
        "test_zero (__main__.ToRomanBadInput)\n",
        "to_roman should fail with 0 input ... "
       ]
      },
      {
       "output_type": "stream",
       "stream": "stderr",
       "text": [
        "ok\n",
        "\n",
        "======================================================================\n",
        "FAIL: test_malformed_antecedents (__main__.FromRomanBadInput)\n",
        "from_roman should fail with malformed antecedents\n",
        "----------------------------------------------------------------------\n",
        "Traceback (most recent call last):\n",
        "  File \"C:\\Documents and Settings\\Kevin\\Bureau\\diveintopython3\\romantest6.py\", line 106, in test_malformed_antecedents\n",
        "    self.assertRaises(roman6.InvalidRomanNumeralError, roman6.from_roman, s)\n",
        "AssertionError: InvalidRomanNumeralError not raised by from_roman\n",
        "\n",
        "======================================================================\n",
        "FAIL: test_repeated_pairs (__main__.FromRomanBadInput)\n",
        "from_roman should fail with repeated pairs of numerals\n",
        "----------------------------------------------------------------------\n",
        "Traceback (most recent call last):\n",
        "  File \"C:\\Documents and Settings\\Kevin\\Bureau\\diveintopython3\\romantest6.py\", line 100, in test_repeated_pairs\n",
        "    self.assertRaises(roman6.InvalidRomanNumeralError, roman6.from_roman, s)\n",
        "AssertionError: InvalidRomanNumeralError not raised by from_roman\n",
        "\n",
        "======================================================================\n",
        "FAIL: test_too_many_repeated_numerals (__main__.FromRomanBadInput)\n",
        "from_roman should fail with too many repeated numerals\n",
        "----------------------------------------------------------------------\n",
        "Traceback (most recent call last):\n",
        "  File \"C:\\Documents and Settings\\Kevin\\Bureau\\diveintopython3\\romantest6.py\", line 95, in test_too_many_repeated_numerals\n",
        "    self.assertRaises(roman6.InvalidRomanNumeralError, roman6.from_roman, s)\n",
        "AssertionError: InvalidRomanNumeralError not raised by from_roman\n",
        "\n",
        "----------------------------------------------------------------------\n",
        "Ran 10 tests in 0.156s\n",
        "\n",
        "FAILED (failures=3)\n"
       ]
      },
      {
       "ename": "SystemExit",
       "evalue": "True",
       "output_type": "pyerr",
       "traceback": [
        "An exception has occurred, use %tb to see the full traceback.\n",
        "\u001b[1;31mSystemExit\u001b[0m\u001b[1;31m:\u001b[0m True\n"
       ]
      }
     ],
     "prompt_number": 4
    },
    {
     "cell_type": "code",
     "collapsed": false,
     "input": [
      "%%writefile roman6.py\n",
      "import re\n",
      "\n",
      "class OutOfRangeError(ValueError): pass\n",
      "class NotIntegerError(ValueError): pass\n",
      "class InvalidRomanNumeralError(ValueError): pass\n",
      "\n",
      "roman_numeral_map = (('M',  1000),\n",
      "                     ('CM', 900),\n",
      "                     ('D',  500),\n",
      "                     ('CD', 400),\n",
      "                     ('C',  100),\n",
      "                     ('XC', 90),\n",
      "                     ('L',  50),\n",
      "                     ('XL', 40),\n",
      "                     ('X',  10),\n",
      "                     ('IX', 9),\n",
      "                     ('V',  5),\n",
      "                     ('IV', 4),\n",
      "                     ('I',  1))\n",
      "\n",
      "roman_numeral_pattern = re.compile('''\n",
      "    ^                   # beginning of string\n",
      "    M{0,3}              # thousands - 0 to 3 M's\n",
      "    (CM|CD|D?C{0,3})    # hundreds - 900 (CM), 400 (CD), 0-300 (0 to 3 C's),\n",
      "                        #            or 500-800 (D, followed by 0 to 3 C's)\n",
      "    (XC|XL|L?X{0,3})    # tens - 90 (XC), 40 (XL), 0-30 (0 to 3 X's),\n",
      "                        #        or 50-80 (L, followed by 0 to 3 X's)\n",
      "    (IX|IV|V?I{0,3})    # ones - 9 (IX), 4 (IV), 0-3 (0 to 3 I's),\n",
      "                        #        or 5-8 (V, followed by 0 to 3 I's)\n",
      "    $                   # end of string\n",
      "    ''', re.VERBOSE)\n",
      "\n",
      "def to_roman(n):\n",
      "    '''convert integer to Roman numeral'''\n",
      "    if not (0 < n < 4000):\n",
      "        raise OutOfRangeError('number out of range (must be 1..3999)')\n",
      "    if not isinstance(n, int):\n",
      "        raise NotIntegerError('non-integers can not be converted')\n",
      "\n",
      "    result = ''\n",
      "    for numeral, integer in roman_numeral_map:\n",
      "        while n >= integer:\n",
      "            result += numeral\n",
      "            n -= integer\n",
      "    return result\n",
      "\n",
      "def from_roman(s):\n",
      "    '''convert Roman numeral to integer'''\n",
      "    if not roman_numeral_pattern.search(s):\n",
      "        raise InvalidRomanNumeralError('Invalid Roman numeral: {0}'.format(s))\n",
      "\n",
      "    result = 0\n",
      "    index = 0\n",
      "    for numeral, integer in roman_numeral_map:\n",
      "        while s[index : index + len(numeral)] == numeral:\n",
      "            result += integer\n",
      "            index += len(numeral)\n",
      "    return result"
     ],
     "language": "python",
     "metadata": {},
     "outputs": [
      {
       "output_type": "stream",
       "stream": "stdout",
       "text": [
        "Overwriting roman6.py\n"
       ]
      }
     ],
     "prompt_number": 5
    },
    {
     "cell_type": "code",
     "collapsed": false,
     "input": [
      "%run romantest6.py -v"
     ],
     "language": "python",
     "metadata": {},
     "outputs": [
      {
       "output_type": "stream",
       "stream": "stderr",
       "text": [
        "test_malformed_antecedents (__main__.FromRomanBadInput)\n",
        "from_roman should fail with malformed antecedents ... "
       ]
      },
      {
       "output_type": "stream",
       "stream": "stderr",
       "text": [
        "ok\n",
        "test_repeated_pairs (__main__.FromRomanBadInput)\n",
        "from_roman should fail with repeated pairs of numerals ... "
       ]
      },
      {
       "output_type": "stream",
       "stream": "stderr",
       "text": [
        "ok\n",
        "test_too_many_repeated_numerals (__main__.FromRomanBadInput)\n",
        "from_roman should fail with too many repeated numerals ... "
       ]
      },
      {
       "output_type": "stream",
       "stream": "stderr",
       "text": [
        "ok\n",
        "test_from_roman_known_values (__main__.KnownValues)\n",
        "from_roman should give known result with known input ... "
       ]
      },
      {
       "output_type": "stream",
       "stream": "stderr",
       "text": [
        "ok\n",
        "test_to_roman_known_values (__main__.KnownValues)\n",
        "to_roman should give known result with known input ... "
       ]
      },
      {
       "output_type": "stream",
       "stream": "stderr",
       "text": [
        "ok\n",
        "test_roundtrip (__main__.RoundtripCheck)\n",
        "from_roman(to_roman(n))==n for all n ... "
       ]
      },
      {
       "output_type": "stream",
       "stream": "stderr",
       "text": [
        "ok\n",
        "test_negative (__main__.ToRomanBadInput)\n",
        "to_roman should fail with negative input ... "
       ]
      },
      {
       "output_type": "stream",
       "stream": "stderr",
       "text": [
        "ok\n",
        "test_non_integer (__main__.ToRomanBadInput)\n",
        "to_roman should fail with non-integer input ... "
       ]
      },
      {
       "output_type": "stream",
       "stream": "stderr",
       "text": [
        "ok\n",
        "test_too_large (__main__.ToRomanBadInput)\n",
        "to_roman should fail with large input ... "
       ]
      },
      {
       "output_type": "stream",
       "stream": "stderr",
       "text": [
        "ok\n",
        "test_zero (__main__.ToRomanBadInput)\n",
        "to_roman should fail with 0 input ... "
       ]
      },
      {
       "output_type": "stream",
       "stream": "stderr",
       "text": [
        "ok\n",
        "\n",
        "----------------------------------------------------------------------\n",
        "Ran 10 tests in 0.172s\n",
        "\n",
        "OK\n"
       ]
      }
     ],
     "prompt_number": 1
    },
    {
     "cell_type": "code",
     "collapsed": false,
     "input": [],
     "language": "python",
     "metadata": {},
     "outputs": []
    }
   ],
   "metadata": {}
  }
 ]
}