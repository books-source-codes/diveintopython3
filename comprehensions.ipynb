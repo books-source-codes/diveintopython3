{
 "metadata": {
  "name": "",
  "signature": "sha256:acc05398731ab156a15db42ae303322367085cbd7fb4fa09f07de185e31bc076"
 },
 "nbformat": 3,
 "nbformat_minor": 0,
 "worksheets": [
  {
   "cells": [
    {
     "cell_type": "heading",
     "level": 1,
     "metadata": {},
     "source": [
      "Working With Files And Directories"
     ]
    },
    {
     "cell_type": "code",
     "collapsed": false,
     "input": [
      "import os\n",
      "print(os.getcwd())"
     ],
     "language": "python",
     "metadata": {},
     "outputs": [
      {
       "output_type": "stream",
       "stream": "stdout",
       "text": [
        "c:\\Documents and Settings\\Kevin\n"
       ]
      }
     ],
     "prompt_number": 19
    },
    {
     "cell_type": "code",
     "collapsed": false,
     "input": [
      "os.chdir('Bureau\\diveintopython3\\examples')"
     ],
     "language": "python",
     "metadata": {},
     "outputs": [],
     "prompt_number": 21
    },
    {
     "cell_type": "code",
     "collapsed": false,
     "input": [
      "print(os.getcwd())"
     ],
     "language": "python",
     "metadata": {},
     "outputs": [
      {
       "output_type": "stream",
       "stream": "stdout",
       "text": [
        "c:\\Documents and Settings\\Kevin\\Bureau\\diveintopython3\\examples\n"
       ]
      }
     ],
     "prompt_number": 22
    },
    {
     "cell_type": "code",
     "collapsed": false,
     "input": [
      "print(os.path.join('Documents and Settings/Kevin/Bureau/diveintopython3/examples/', 'humansize.py')) "
     ],
     "language": "python",
     "metadata": {},
     "outputs": [
      {
       "output_type": "stream",
       "stream": "stdout",
       "text": [
        "Documents and Settings/Kevin/Bureau/diveintopython3/examples/humansize.py\n"
       ]
      }
     ],
     "prompt_number": 12
    },
    {
     "cell_type": "code",
     "collapsed": false,
     "input": [
      "print(os.path.expanduser('~'))"
     ],
     "language": "python",
     "metadata": {},
     "outputs": [
      {
       "output_type": "stream",
       "stream": "stdout",
       "text": [
        "c:/Documents and Settings/Kevin\n"
       ]
      }
     ],
     "prompt_number": 13
    },
    {
     "cell_type": "code",
     "collapsed": false,
     "input": [
      "print(os.path.join(os.path.expanduser('~'), 'bureau', 'diveintopython3', 'examples', 'humansize.py')) "
     ],
     "language": "python",
     "metadata": {},
     "outputs": [
      {
       "output_type": "stream",
       "stream": "stdout",
       "text": [
        "c:/Documents and Settings/Kevin\\bureau\\diveintopython3\\examples\\humansize.py\n"
       ]
      }
     ],
     "prompt_number": 14
    },
    {
     "cell_type": "code",
     "collapsed": false,
     "input": [
      "os.chdir(os.path.join(os.path.expanduser('~'), 'bureau', 'diveintopython3'))\n",
      "os.getcwd()"
     ],
     "language": "python",
     "metadata": {},
     "outputs": [
      {
       "metadata": {},
       "output_type": "pyout",
       "prompt_number": 25,
       "text": [
        "'c:\\\\Documents and Settings\\\\Kevin\\\\bureau\\\\diveintopython3'"
       ]
      }
     ],
     "prompt_number": 25
    },
    {
     "cell_type": "code",
     "collapsed": false,
     "input": [
      "import glob\n",
      "glob.glob('examples/*.xml')"
     ],
     "language": "python",
     "metadata": {},
     "outputs": [
      {
       "metadata": {},
       "output_type": "pyout",
       "prompt_number": 26,
       "text": [
        "['examples\\\\feed-broken.xml', 'examples\\\\feed-ns0.xml', 'examples\\\\feed.xml']"
       ]
      }
     ],
     "prompt_number": 26
    },
    {
     "cell_type": "code",
     "collapsed": false,
     "input": [
      "os.chdir('examples/') \n",
      "glob.glob('*test*.py') "
     ],
     "language": "python",
     "metadata": {},
     "outputs": [
      {
       "metadata": {},
       "output_type": "pyout",
       "prompt_number": 27,
       "text": [
        "['alphameticstest.py',\n",
        " 'pluraltest1.py',\n",
        " 'pluraltest2.py',\n",
        " 'pluraltest3.py',\n",
        " 'pluraltest4.py',\n",
        " 'pluraltest5.py',\n",
        " 'pluraltest6.py',\n",
        " 'romantest1.py',\n",
        " 'romantest10.py',\n",
        " 'romantest2.py',\n",
        " 'romantest3.py',\n",
        " 'romantest4.py',\n",
        " 'romantest5.py',\n",
        " 'romantest6.py',\n",
        " 'romantest7.py',\n",
        " 'romantest8.py',\n",
        " 'romantest9.py']"
       ]
      }
     ],
     "prompt_number": 27
    },
    {
     "cell_type": "code",
     "collapsed": false,
     "input": [
      "metadata = os.stat('feed.xml')\n",
      "metadata.st_mtime"
     ],
     "language": "python",
     "metadata": {},
     "outputs": [
      {
       "metadata": {},
       "output_type": "pyout",
       "prompt_number": 28,
       "text": [
        "1403531578.0"
       ]
      }
     ],
     "prompt_number": 28
    },
    {
     "cell_type": "code",
     "collapsed": false,
     "input": [
      "import time\n",
      "time.localtime(metadata.st_mtime)"
     ],
     "language": "python",
     "metadata": {},
     "outputs": [
      {
       "metadata": {},
       "output_type": "pyout",
       "prompt_number": 29,
       "text": [
        "time.struct_time(tm_year=2014, tm_mon=6, tm_mday=23, tm_hour=15, tm_min=52, tm_sec=58, tm_wday=0, tm_yday=174, tm_isdst=1)"
       ]
      }
     ],
     "prompt_number": 29
    },
    {
     "cell_type": "code",
     "collapsed": false,
     "input": [
      "metadata.st_size\n",
      "import humansize\n",
      "humansize.approximate_size(metadata.st_size)"
     ],
     "language": "python",
     "metadata": {},
     "outputs": [
      {
       "metadata": {},
       "output_type": "pyout",
       "prompt_number": 30,
       "text": [
        "'3.0 KiB'"
       ]
      }
     ],
     "prompt_number": 30
    },
    {
     "cell_type": "code",
     "collapsed": false,
     "input": [
      "print(os.path.realpath('feed.xml'))"
     ],
     "language": "python",
     "metadata": {},
     "outputs": [
      {
       "output_type": "stream",
       "stream": "stdout",
       "text": [
        "c:\\Documents and Settings\\Kevin\\bureau\\diveintopython3\\examples\\feed.xml\n"
       ]
      }
     ],
     "prompt_number": 31
    },
    {
     "cell_type": "heading",
     "level": 1,
     "metadata": {},
     "source": [
      "Comprehensions"
     ]
    },
    {
     "cell_type": "code",
     "collapsed": false,
     "input": [
      "a_list = [1, 9, 8, 4]"
     ],
     "language": "python",
     "metadata": {},
     "outputs": [],
     "prompt_number": 34
    },
    {
     "cell_type": "code",
     "collapsed": false,
     "input": [
      "a_list = [element * 2 for element in a_list]\n",
      "print(a_list)"
     ],
     "language": "python",
     "metadata": {},
     "outputs": [
      {
       "output_type": "stream",
       "stream": "stdout",
       "text": [
        "[2, 18, 16, 8]\n"
       ]
      }
     ],
     "prompt_number": 35
    },
    {
     "cell_type": "code",
     "collapsed": false,
     "input": [
      "[os.path.realpath(f) for f in glob.glob('*.xml')] "
     ],
     "language": "python",
     "metadata": {},
     "outputs": [
      {
       "metadata": {},
       "output_type": "pyout",
       "prompt_number": 37,
       "text": [
        "['c:\\\\Documents and Settings\\\\Kevin\\\\bureau\\\\diveintopython3\\\\examples\\\\feed-broken.xml',\n",
        " 'c:\\\\Documents and Settings\\\\Kevin\\\\bureau\\\\diveintopython3\\\\examples\\\\feed-ns0.xml',\n",
        " 'c:\\\\Documents and Settings\\\\Kevin\\\\bureau\\\\diveintopython3\\\\examples\\\\feed.xml']"
       ]
      }
     ],
     "prompt_number": 37
    },
    {
     "cell_type": "code",
     "collapsed": false,
     "input": [
      "[f for f in glob.glob('*.py') if os.stat(f).st_size > 6000] "
     ],
     "language": "python",
     "metadata": {},
     "outputs": [
      {
       "metadata": {},
       "output_type": "pyout",
       "prompt_number": 38,
       "text": [
        "['pluraltest6.py',\n",
        " 'romantest10.py',\n",
        " 'romantest6.py',\n",
        " 'romantest7.py',\n",
        " 'romantest8.py',\n",
        " 'romantest9.py']"
       ]
      }
     ],
     "prompt_number": 38
    },
    {
     "cell_type": "code",
     "collapsed": false,
     "input": [
      " [(os.stat(f).st_size, os.path.realpath(f)) for f in glob.glob('*.xml')]  "
     ],
     "language": "python",
     "metadata": {},
     "outputs": [
      {
       "metadata": {},
       "output_type": "pyout",
       "prompt_number": 39,
       "text": [
        "[(3074,\n",
        "  'c:\\\\Documents and Settings\\\\Kevin\\\\bureau\\\\diveintopython3\\\\examples\\\\feed-broken.xml'),\n",
        " (3386,\n",
        "  'c:\\\\Documents and Settings\\\\Kevin\\\\bureau\\\\diveintopython3\\\\examples\\\\feed-ns0.xml'),\n",
        " (3070,\n",
        "  'c:\\\\Documents and Settings\\\\Kevin\\\\bureau\\\\diveintopython3\\\\examples\\\\feed.xml')]"
       ]
      }
     ],
     "prompt_number": 39
    },
    {
     "cell_type": "code",
     "collapsed": false,
     "input": [
      " [(humansize.approximate_size(os.stat(f).st_size), f) for f in glob.glob('*.xml')] "
     ],
     "language": "python",
     "metadata": {},
     "outputs": [
      {
       "metadata": {},
       "output_type": "pyout",
       "prompt_number": 40,
       "text": [
        "[('3.0 KiB', 'feed-broken.xml'),\n",
        " ('3.3 KiB', 'feed-ns0.xml'),\n",
        " ('3.0 KiB', 'feed.xml')]"
       ]
      }
     ],
     "prompt_number": 40
    },
    {
     "cell_type": "code",
     "collapsed": false,
     "input": [
      "metadata = [(f, os.stat(f)) for f in glob.glob('*test*.py')]\n",
      "#constructs a tuple of the filename and the file metadata \n",
      "metadata[0]"
     ],
     "language": "python",
     "metadata": {},
     "outputs": [
      {
       "metadata": {},
       "output_type": "pyout",
       "prompt_number": 42,
       "text": [
        "('alphameticstest.py',\n",
        " os.stat_result(st_mode=33206, st_ino=298082000336637678, st_dev=1420136176, st_nlink=1, st_uid=0, st_gid=0, st_size=2509, st_atime=1421876088, st_mtime=1403531578, st_ctime=1421873546))"
       ]
      }
     ],
     "prompt_number": 42
    },
    {
     "cell_type": "code",
     "collapsed": false,
     "input": [
      "metadata_dict = {f:os.stat(f) for f in glob.glob('*test*.py')}"
     ],
     "language": "python",
     "metadata": {},
     "outputs": [],
     "prompt_number": 43
    },
    {
     "cell_type": "code",
     "collapsed": false,
     "input": [
      "list(metadata_dict.keys()) "
     ],
     "language": "python",
     "metadata": {},
     "outputs": [
      {
       "metadata": {},
       "output_type": "pyout",
       "prompt_number": 44,
       "text": [
        "['romantest1.py',\n",
        " 'romantest8.py',\n",
        " 'romantest7.py',\n",
        " 'pluraltest6.py',\n",
        " 'romantest3.py',\n",
        " 'romantest10.py',\n",
        " 'pluraltest2.py',\n",
        " 'romantest2.py',\n",
        " 'pluraltest4.py',\n",
        " 'pluraltest5.py',\n",
        " 'romantest4.py',\n",
        " 'pluraltest3.py',\n",
        " 'romantest5.py',\n",
        " 'romantest9.py',\n",
        " 'romantest6.py',\n",
        " 'pluraltest1.py',\n",
        " 'alphameticstest.py']"
       ]
      }
     ],
     "prompt_number": 44
    },
    {
     "cell_type": "code",
     "collapsed": false,
     "input": [
      "metadata_dict['alphameticstest.py'].st_size"
     ],
     "language": "python",
     "metadata": {},
     "outputs": [
      {
       "metadata": {},
       "output_type": "pyout",
       "prompt_number": 45,
       "text": [
        "2509"
       ]
      }
     ],
     "prompt_number": 45
    },
    {
     "cell_type": "code",
     "collapsed": false,
     "input": [
      "metadata_dict = {f:os.stat(f) for f in glob.glob('*')}\n",
      "humansize_dict = {os.path.splitext(f)[0]:humansize.approximate_size(meta.st_size) \\\n",
      "                  for f, meta in metadata_dict.items() if meta.st_size > 6000}    \n",
      "#keys are the filename minus the extension (os.path.splitext(f)[0]) \n",
      "list(humansize_dict.keys())    "
     ],
     "language": "python",
     "metadata": {},
     "outputs": [
      {
       "metadata": {},
       "output_type": "pyout",
       "prompt_number": 46,
       "text": [
        "['romantest10',\n",
        " 'pluraltest6',\n",
        " 'romantest6',\n",
        " 'romantest8',\n",
        " 'romantest7',\n",
        " 'romantest9']"
       ]
      }
     ],
     "prompt_number": 46
    },
    {
     "cell_type": "code",
     "collapsed": false,
     "input": [
      "humansize_dict['romantest9']"
     ],
     "language": "python",
     "metadata": {},
     "outputs": [
      {
       "metadata": {},
       "output_type": "pyout",
       "prompt_number": 47,
       "text": [
        "'6.5 KiB'"
       ]
      }
     ],
     "prompt_number": 47
    },
    {
     "cell_type": "code",
     "collapsed": false,
     "input": [
      "a_dict = {'a': 1, 'b': 2, 'c': 3}\n",
      "{value:key for key, value in a_dict.items()}"
     ],
     "language": "python",
     "metadata": {},
     "outputs": [
      {
       "metadata": {},
       "output_type": "pyout",
       "prompt_number": 48,
       "text": [
        "{1: 'a', 2: 'b', 3: 'c'}"
       ]
      }
     ],
     "prompt_number": 48
    },
    {
     "cell_type": "code",
     "collapsed": false,
     "input": [
      "a_set = set(range(10))"
     ],
     "language": "python",
     "metadata": {},
     "outputs": [],
     "prompt_number": 49
    },
    {
     "cell_type": "code",
     "collapsed": false,
     "input": [
      "a_set = {x ** 2 for x in a_set}\n",
      "print(a_set)"
     ],
     "language": "python",
     "metadata": {},
     "outputs": [
      {
       "output_type": "stream",
       "stream": "stdout",
       "text": [
        "{0, 1, 64, 4, 36, 9, 16, 49, 81, 25}\n"
       ]
      }
     ],
     "prompt_number": 50
    },
    {
     "cell_type": "code",
     "collapsed": false,
     "input": [
      "{x for x in a_set if x % 2 == 0} "
     ],
     "language": "python",
     "metadata": {},
     "outputs": [
      {
       "metadata": {},
       "output_type": "pyout",
       "prompt_number": 51,
       "text": [
        "{0, 4, 16, 36, 64}"
       ]
      }
     ],
     "prompt_number": 51
    },
    {
     "cell_type": "code",
     "collapsed": false,
     "input": [
      "{2**x for x in range(10)} "
     ],
     "language": "python",
     "metadata": {},
     "outputs": [
      {
       "metadata": {},
       "output_type": "pyout",
       "prompt_number": 52,
       "text": [
        "{1, 2, 4, 8, 16, 32, 64, 128, 256, 512}"
       ]
      }
     ],
     "prompt_number": 52
    },
    {
     "cell_type": "code",
     "collapsed": false,
     "input": [],
     "language": "python",
     "metadata": {},
     "outputs": []
    }
   ],
   "metadata": {}
  }
 ]
}