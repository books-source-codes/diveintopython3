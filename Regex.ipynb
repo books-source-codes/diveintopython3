{
 "metadata": {
  "name": "",
  "signature": "sha256:9b3e432e7e47a50f73c19f0e0a20a29b0bcd031df2b03c77e7a4004e1a47de4c"
 },
 "nbformat": 3,
 "nbformat_minor": 0,
 "worksheets": [
  {
   "cells": [
    {
     "cell_type": "code",
     "collapsed": false,
     "input": [
      "import re\n",
      "s = '100 NORTH MAIN ROAD'\n",
      "re.sub('ROAD$', 'RD.', s) \n",
      "# $ means \u201cend of the string.\u201d\n",
      "# caret ^ means \u201cbeginning of the string.\u201d"
     ],
     "language": "python",
     "metadata": {},
     "outputs": [
      {
       "metadata": {},
       "output_type": "pyout",
       "prompt_number": 2,
       "text": [
        "'100 NORTH MAIN RD.'"
       ]
      }
     ],
     "prompt_number": 2
    },
    {
     "cell_type": "code",
     "collapsed": false,
     "input": [
      "s = '100 BROAD'\n",
      "re.sub('ROAD$', 'RD.', s)"
     ],
     "language": "python",
     "metadata": {},
     "outputs": [
      {
       "metadata": {},
       "output_type": "pyout",
       "prompt_number": 3,
       "text": [
        "'100 BRD.'"
       ]
      }
     ],
     "prompt_number": 3
    },
    {
     "cell_type": "code",
     "collapsed": false,
     "input": [
      "re.sub('\\\\bROAD$', 'RD.', s)\n",
      "# \\b, means \u201ca word boundary must occur right here.\u201d  + \\ escape character"
     ],
     "language": "python",
     "metadata": {},
     "outputs": [
      {
       "metadata": {},
       "output_type": "pyout",
       "prompt_number": 4,
       "text": [
        "'100 BROAD'"
       ]
      }
     ],
     "prompt_number": 4
    },
    {
     "cell_type": "code",
     "collapsed": false,
     "input": [
      "re.sub(r'\\bROAD$', 'RD.', s) \n",
      "# raw string, tells Python that nothing in this string should be escaped"
     ],
     "language": "python",
     "metadata": {},
     "outputs": [
      {
       "metadata": {},
       "output_type": "pyout",
       "prompt_number": 5,
       "text": [
        "'100 BROAD'"
       ]
      }
     ],
     "prompt_number": 5
    },
    {
     "cell_type": "code",
     "collapsed": false,
     "input": [
      "s = '100 BROAD ROAD APT. 3'\n",
      "re.sub(r'\\bROAD$', 'RD.', s)"
     ],
     "language": "python",
     "metadata": {},
     "outputs": [
      {
       "metadata": {},
       "output_type": "pyout",
       "prompt_number": 6,
       "text": [
        "'100 BROAD ROAD APT. 3'"
       ]
      }
     ],
     "prompt_number": 6
    },
    {
     "cell_type": "code",
     "collapsed": false,
     "input": [
      "re.sub(r'\\bROAD\\b', 'RD.', s) "
     ],
     "language": "python",
     "metadata": {},
     "outputs": [
      {
       "metadata": {},
       "output_type": "pyout",
       "prompt_number": 7,
       "text": [
        "'100 BROAD RD. APT. 3'"
       ]
      }
     ],
     "prompt_number": 7
    },
    {
     "cell_type": "markdown",
     "metadata": {},
     "source": [
      "Roman Numerals\n",
      "==============\n",
      "    I = 1\n",
      "    V = 5\n",
      "    X = 10\n",
      "    L = 50\n",
      "    C = 100\n",
      "    D = 500\n",
      "    M = 1000 "
     ]
    },
    {
     "cell_type": "code",
     "collapsed": false,
     "input": [
      "pattern = '^M?M?M?$'\n",
      "# M? optionally matches a single M character. \n",
      "re.search(pattern, 'M') "
     ],
     "language": "python",
     "metadata": {},
     "outputs": [
      {
       "metadata": {},
       "output_type": "pyout",
       "prompt_number": 8,
       "text": [
        "<_sre.SRE_Match object; span=(0, 1), match='M'>"
       ]
      }
     ],
     "prompt_number": 8
    },
    {
     "cell_type": "code",
     "collapsed": false,
     "input": [
      "re.search(pattern, '')\n",
      "# all the M characters are optional. "
     ],
     "language": "python",
     "metadata": {},
     "outputs": [
      {
       "metadata": {},
       "output_type": "pyout",
       "prompt_number": 9,
       "text": [
        "<_sre.SRE_Match object; span=(0, 0), match=''>"
       ]
      }
     ],
     "prompt_number": 9
    },
    {
     "cell_type": "code",
     "collapsed": false,
     "input": [
      "pattern = '^M?M?M?(CM|CD|D?C?C?C?)$' \n",
      "# set of three mutually exclusive patterns, separated by vertical bars\n",
      "# regex parser checks for each of these patterns in order, takes the first one that matches, and ignores the rest. \n",
      "re.search(pattern, 'MMMCCC')     \n",
      "\n",
      "\"\"\"possible patterns:\n",
      "    CM\n",
      "    CD\n",
      "    an optional D, followed by zero to three C characters \"\"\""
     ],
     "language": "python",
     "metadata": {},
     "outputs": [
      {
       "metadata": {},
       "output_type": "pyout",
       "prompt_number": 10,
       "text": [
        "<_sre.SRE_Match object; span=(0, 6), match='MMMCCC'>"
       ]
      }
     ],
     "prompt_number": 10
    },
    {
     "cell_type": "code",
     "collapsed": false,
     "input": [
      "pattern = '^M{0,3}$'\n",
      "# Match the start of the string, then anywhere from zero to three M characters, then the end of the string.\n",
      "re.search(pattern, 'MMM') "
     ],
     "language": "python",
     "metadata": {},
     "outputs": [
      {
       "metadata": {},
       "output_type": "pyout",
       "prompt_number": 11,
       "text": [
        "<_sre.SRE_Match object; span=(0, 3), match='MMM'>"
       ]
      }
     ],
     "prompt_number": 11
    },
    {
     "cell_type": "code",
     "collapsed": false,
     "input": [
      "pattern = '^M?M?M?(CM|CD|D?C?C?C?)(XC|XL|L?X?X?X?)$'\n",
      ">>> re.search(pattern, 'MCMXL') "
     ],
     "language": "python",
     "metadata": {},
     "outputs": [
      {
       "metadata": {},
       "output_type": "pyout",
       "prompt_number": 12,
       "text": [
        "<_sre.SRE_Match object; span=(0, 5), match='MCMXL'>"
       ]
      }
     ],
     "prompt_number": 12
    },
    {
     "cell_type": "code",
     "collapsed": false,
     "input": [
      "pattern = '^M{0,3}(CM|CD|D?C{0,3})(XC|XL|L?X{0,3})(IX|IV|V?I{0,3})$'\n",
      "re.search(pattern, 'MDLV')      "
     ],
     "language": "python",
     "metadata": {},
     "outputs": [
      {
       "metadata": {},
       "output_type": "pyout",
       "prompt_number": 13,
       "text": [
        "<_sre.SRE_Match object; span=(0, 4), match='MDLV'>"
       ]
      }
     ],
     "prompt_number": 13
    },
    {
     "cell_type": "code",
     "collapsed": false,
     "input": [
      "re.search(pattern, 'MMMDCCCLXXXVIII') "
     ],
     "language": "python",
     "metadata": {},
     "outputs": [
      {
       "metadata": {},
       "output_type": "pyout",
       "prompt_number": 14,
       "text": [
        "<_sre.SRE_Match object; span=(0, 15), match='MMMDCCCLXXXVIII'>"
       ]
      }
     ],
     "prompt_number": 14
    },
    {
     "cell_type": "code",
     "collapsed": false,
     "input": [
      "pattern = '''\n",
      "    ^                   # beginning of string\n",
      "    M{0,3}              # thousands - 0 to 3 Ms\n",
      "    (CM|CD|D?C{0,3})    # hundreds - 900 (CM), 400 (CD), 0-300 (0 to 3 Cs),\n",
      "                        #            or 500-800 (D, followed by 0 to 3 Cs)\n",
      "    (XC|XL|L?X{0,3})    # tens - 90 (XC), 40 (XL), 0-30 (0 to 3 Xs),\n",
      "                        #        or 50-80 (L, followed by 0 to 3 Xs)\n",
      "    (IX|IV|V?I{0,3})    # ones - 9 (IX), 4 (IV), 0-3 (0 to 3 Is),\n",
      "                        #        or 5-8 (V, followed by 0 to 3 Is)\n",
      "    $                   # end of string\n",
      "    '''\n",
      "re.search(pattern, 'M', re.VERBOSE) "
     ],
     "language": "python",
     "metadata": {},
     "outputs": [
      {
       "metadata": {},
       "output_type": "pyout",
       "prompt_number": 15,
       "text": [
        "<_sre.SRE_Match object; span=(0, 1), match='M'>"
       ]
      }
     ],
     "prompt_number": 15
    },
    {
     "cell_type": "markdown",
     "metadata": {},
     "source": [
      "Parsing Phone Numbers\n",
      "====================="
     ]
    },
    {
     "cell_type": "code",
     "collapsed": false,
     "input": [
      "phonePattern = re.compile(r'^(\\d{3})-(\\d{3})-(\\d{4})$') \n",
      "# \\d means \u201cany numeric digit\u201d (0 through 9). The {3} means \u201cmatch exactly three numeric digits\u201d\n",
      "# Putting it in parentheses means \u201cmatch exactly three numeric digits, and then remember them as a group that I can ask for later\u201d. "
     ],
     "language": "python",
     "metadata": {},
     "outputs": [],
     "prompt_number": 16
    },
    {
     "cell_type": "code",
     "collapsed": false,
     "input": [
      "phonePattern.search('800-555-1212').groups() "
     ],
     "language": "python",
     "metadata": {},
     "outputs": [
      {
       "metadata": {},
       "output_type": "pyout",
       "prompt_number": 17,
       "text": [
        "('800', '555', '1212')"
       ]
      }
     ],
     "prompt_number": 17
    },
    {
     "cell_type": "code",
     "collapsed": false,
     "input": [
      "phonePattern = re.compile(r'^(\\d{3})-(\\d{3})-(\\d{4})-(\\d+)$')\n",
      "# \\d+ remembered group of one or more digits\n",
      "phonePattern.search('800-555-1212-1234').groups() "
     ],
     "language": "python",
     "metadata": {},
     "outputs": [
      {
       "metadata": {},
       "output_type": "pyout",
       "prompt_number": 18,
       "text": [
        "('800', '555', '1212', '1234')"
       ]
      }
     ],
     "prompt_number": 18
    },
    {
     "cell_type": "code",
     "collapsed": false,
     "input": [
      "phonePattern = re.compile(r'^(\\d{3})\\D+(\\d{3})\\D+(\\d{4})\\D+(\\d+)$')  \n",
      "# \\D+ matches one or more characters that are not digits\n",
      "phonePattern.search('800 555 1212 1234').groups()"
     ],
     "language": "python",
     "metadata": {},
     "outputs": [
      {
       "metadata": {},
       "output_type": "pyout",
       "prompt_number": 19,
       "text": [
        "('800', '555', '1212', '1234')"
       ]
      }
     ],
     "prompt_number": 19
    },
    {
     "cell_type": "code",
     "collapsed": false,
     "input": [
      "phonePattern = re.compile(r'^(\\d{3})\\D*(\\d{3})\\D*(\\d{4})\\D*(\\d*)$')  \n",
      "# * means \u201czero or more\u201d.\n",
      "phonePattern.search('80055512121234').groups() "
     ],
     "language": "python",
     "metadata": {},
     "outputs": [
      {
       "metadata": {},
       "output_type": "pyout",
       "prompt_number": 20,
       "text": [
        "('800', '555', '1212', '1234')"
       ]
      }
     ],
     "prompt_number": 20
    },
    {
     "cell_type": "code",
     "collapsed": false,
     "input": [
      "phonePattern = re.compile(r'^\\D*(\\d{3})\\D*(\\d{3})\\D*(\\d{4})\\D*(\\d*)$')  \n",
      "phonePattern.search('(800)5551212 ext. 1234').groups()"
     ],
     "language": "python",
     "metadata": {},
     "outputs": [
      {
       "metadata": {},
       "output_type": "pyout",
       "prompt_number": 21,
       "text": [
        "('800', '555', '1212', '1234')"
       ]
      }
     ],
     "prompt_number": 21
    },
    {
     "cell_type": "code",
     "collapsed": false,
     "input": [
      "phonePattern = re.compile(r'(\\d{3})\\D*(\\d{3})\\D*(\\d{4})\\D*(\\d*)$') \n",
      "phonePattern.search('work 1-(800) 555.1212 #1234').groups()  "
     ],
     "language": "python",
     "metadata": {},
     "outputs": [
      {
       "metadata": {},
       "output_type": "pyout",
       "prompt_number": 23,
       "text": [
        "('800', '555', '1212', '1234')"
       ]
      }
     ],
     "prompt_number": 23
    },
    {
     "cell_type": "code",
     "collapsed": false,
     "input": [
      "phonePattern = re.compile(r'''\n",
      "                # don't match beginning of string, number can start anywhere\n",
      "    (\\d{3})     # area code is 3 digits (e.g. '800')\n",
      "    \\D*         # optional separator is any number of non-digits\n",
      "    (\\d{3})     # trunk is 3 digits (e.g. '555')\n",
      "    \\D*         # optional separator\n",
      "    (\\d{4})     # rest of number is 4 digits (e.g. '1212')\n",
      "    \\D*         # optional separator\n",
      "    (\\d*)       # extension is optional and can be any number of digits\n",
      "    $           # end of string\n",
      "    ''', re.VERBOSE)\n",
      "phonePattern.search('work 1-(800) 555.1212 #1234').groups()"
     ],
     "language": "python",
     "metadata": {},
     "outputs": [
      {
       "metadata": {},
       "output_type": "pyout",
       "prompt_number": 24,
       "text": [
        "('800', '555', '1212', '1234')"
       ]
      }
     ],
     "prompt_number": 24
    },
    {
     "cell_type": "markdown",
     "metadata": {},
     "source": [
      "\n",
      "    ^ matches the beginning of a string.\n",
      "    $ matches the end of a string.\n",
      "    \\b matches a word boundary.\n",
      "    \\d matches any numeric digit.\n",
      "    \\D matches any non-numeric character.\n",
      "    x? matches an optional x character (in other words, it matches an x zero or one times).\n",
      "    x* matches x zero or more times.\n",
      "    x+ matches x one or more times.\n",
      "    x{n,m} matches an x character at least n times, but not more than m times.\n",
      "    (a|b|c) matches exactly one of a, b or c.\n",
      "    (x) in general is a remembered group. You can get the value of what matched by using the groups() method of the object returned by re.search. "
     ]
    },
    {
     "cell_type": "code",
     "collapsed": false,
     "input": [],
     "language": "python",
     "metadata": {},
     "outputs": []
    }
   ],
   "metadata": {}
  }
 ]
}