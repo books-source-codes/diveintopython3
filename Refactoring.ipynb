{
 "metadata": {
  "name": "",
  "signature": "sha256:31f23351e8de2b59274edc622e8cf273df9f4bd1f03ca2b4bbc3088cf99fe453"
 },
 "nbformat": 3,
 "nbformat_minor": 0,
 "worksheets": [
  {
   "cells": [
    {
     "cell_type": "code",
     "collapsed": false,
     "input": [
      "%%writefile roman7.py\n",
      "import re\n",
      "\n",
      "class OutOfRangeError(ValueError): pass\n",
      "class NotIntegerError(ValueError): pass\n",
      "class InvalidRomanNumeralError(ValueError): pass\n",
      "\n",
      "roman_numeral_map = (('M',  1000),\n",
      "                     ('CM', 900),\n",
      "                     ('D',  500),\n",
      "                     ('CD', 400),\n",
      "                     ('C',  100),\n",
      "                     ('XC', 90),\n",
      "                     ('L',  50),\n",
      "                     ('XL', 40),\n",
      "                     ('X',  10),\n",
      "                     ('IX', 9),\n",
      "                     ('V',  5),\n",
      "                     ('IV', 4),\n",
      "                     ('I',  1))\n",
      "\n",
      "roman_numeral_pattern = re.compile('''\n",
      "    ^                   # beginning of string\n",
      "    M{0,3}              # thousands - 0 to 3 M's\n",
      "    (CM|CD|D?C{0,3})    # hundreds - 900 (CM), 400 (CD), 0-300 (0 to 3 C's),\n",
      "                        #            or 500-800 (D, followed by 0 to 3 C's)\n",
      "    (XC|XL|L?X{0,3})    # tens - 90 (XC), 40 (XL), 0-30 (0 to 3 X's),\n",
      "                        #        or 50-80 (L, followed by 0 to 3 X's)\n",
      "    (IX|IV|V?I{0,3})    # ones - 9 (IX), 4 (IV), 0-3 (0 to 3 I's),\n",
      "                        #        or 5-8 (V, followed by 0 to 3 I's)\n",
      "    $                   # end of string\n",
      "    ''', re.VERBOSE)\n",
      "\n",
      "def to_roman(n):\n",
      "    '''convert integer to Roman numeral'''\n",
      "    if not (0 < n < 4000):\n",
      "        raise OutOfRangeError('number out of range (must be 1..3999)')\n",
      "    if not isinstance(n, int):\n",
      "        raise NotIntegerError('non-integers can not be converted')\n",
      "\n",
      "    result = ''\n",
      "    for numeral, integer in roman_numeral_map:\n",
      "        while n >= integer:\n",
      "            result += numeral\n",
      "            n -= integer\n",
      "    return result\n",
      "\n",
      "def from_roman(s):\n",
      "    '''convert Roman numeral to integer'''\n",
      "    if not roman_numeral_pattern.search(s):\n",
      "        raise InvalidRomanNumeralError('Invalid Roman numeral: {0}'.format(s))\n",
      "\n",
      "    result = 0\n",
      "    index = 0\n",
      "    for numeral, integer in roman_numeral_map:\n",
      "        while s[index : index + len(numeral)] == numeral:\n",
      "            result += integer\n",
      "            index += len(numeral)\n",
      "    return result"
     ],
     "language": "python",
     "metadata": {},
     "outputs": [
      {
       "output_type": "stream",
       "stream": "stdout",
       "text": [
        "Writing roman7.py\n"
       ]
      }
     ],
     "prompt_number": 1
    },
    {
     "cell_type": "code",
     "collapsed": false,
     "input": [
      "import roman7\n",
      "roman7.from_roman('')\n",
      "#should fail"
     ],
     "language": "python",
     "metadata": {},
     "outputs": [
      {
       "metadata": {},
       "output_type": "pyout",
       "prompt_number": 2,
       "text": [
        "0"
       ]
      }
     ],
     "prompt_number": 2
    },
    {
     "cell_type": "code",
     "collapsed": false,
     "input": [
      "%%writefile romantest7.py\n",
      "import roman7\n",
      "import unittest\n",
      "\n",
      "class KnownValues(unittest.TestCase):\n",
      "    known_values = ( (1, 'I'),\n",
      "                     (2, 'II'),\n",
      "                     (3, 'III'),\n",
      "                     (4, 'IV'),\n",
      "                     (5, 'V'),\n",
      "                     (6, 'VI'),\n",
      "                     (7, 'VII'),\n",
      "                     (8, 'VIII'),\n",
      "                     (9, 'IX'),\n",
      "                     (10, 'X'),\n",
      "                     (50, 'L'),\n",
      "                     (100, 'C'),\n",
      "                     (500, 'D'),\n",
      "                     (1000, 'M'),\n",
      "                     (31, 'XXXI'),\n",
      "                     (148, 'CXLVIII'),\n",
      "                     (294, 'CCXCIV'),\n",
      "                     (312, 'CCCXII'),\n",
      "                     (421, 'CDXXI'),\n",
      "                     (528, 'DXXVIII'),\n",
      "                     (621, 'DCXXI'),\n",
      "                     (782, 'DCCLXXXII'),\n",
      "                     (870, 'DCCCLXX'),\n",
      "                     (941, 'CMXLI'),\n",
      "                     (1043, 'MXLIII'),\n",
      "                     (1110, 'MCX'),\n",
      "                     (1226, 'MCCXXVI'),\n",
      "                     (1301, 'MCCCI'),\n",
      "                     (1485, 'MCDLXXXV'),\n",
      "                     (1509, 'MDIX'),\n",
      "                     (1607, 'MDCVII'),\n",
      "                     (1754, 'MDCCLIV'),\n",
      "                     (1832, 'MDCCCXXXII'),\n",
      "                     (1993, 'MCMXCIII'),\n",
      "                     (2074, 'MMLXXIV'),\n",
      "                     (2152, 'MMCLII'),\n",
      "                     (2212, 'MMCCXII'),\n",
      "                     (2343, 'MMCCCXLIII'),\n",
      "                     (2499, 'MMCDXCIX'),\n",
      "                     (2574, 'MMDLXXIV'),\n",
      "                     (2646, 'MMDCXLVI'),\n",
      "                     (2723, 'MMDCCXXIII'),\n",
      "                     (2892, 'MMDCCCXCII'),\n",
      "                     (2975, 'MMCMLXXV'),\n",
      "                     (3051, 'MMMLI'),\n",
      "                     (3185, 'MMMCLXXXV'),\n",
      "                     (3250, 'MMMCCL'),\n",
      "                     (3313, 'MMMCCCXIII'),\n",
      "                     (3408, 'MMMCDVIII'),\n",
      "                     (3501, 'MMMDI'),\n",
      "                     (3610, 'MMMDCX'),\n",
      "                     (3743, 'MMMDCCXLIII'),\n",
      "                     (3844, 'MMMDCCCXLIV'),\n",
      "                     (3888, 'MMMDCCCLXXXVIII'),\n",
      "                     (3940, 'MMMCMXL'),\n",
      "                     (3999, 'MMMCMXCIX'))\n",
      "\n",
      "    def test_to_roman_known_values(self):\n",
      "        '''to_roman should give known result with known input'''\n",
      "        for integer, numeral in self.known_values:\n",
      "            result = roman7.to_roman(integer)\n",
      "            self.assertEqual(numeral, result)\n",
      "\n",
      "    def test_from_roman_known_values(self):\n",
      "        '''from_roman should give known result with known input'''\n",
      "        for integer, numeral in self.known_values:\n",
      "            result = roman7.from_roman(numeral)\n",
      "            self.assertEqual(integer, result)\n",
      "\n",
      "class ToRomanBadInput(unittest.TestCase):\n",
      "    def test_too_large(self):\n",
      "        '''to_roman should fail with large input'''\n",
      "        self.assertRaises(roman7.OutOfRangeError, roman7.to_roman, 4000)\n",
      "\n",
      "    def test_zero(self):\n",
      "        '''to_roman should fail with 0 input'''\n",
      "        self.assertRaises(roman7.OutOfRangeError, roman7.to_roman, 0)\n",
      "\n",
      "    def test_negative(self):\n",
      "        '''to_roman should fail with negative input'''\n",
      "        self.assertRaises(roman7.OutOfRangeError, roman7.to_roman, -1)\n",
      "\n",
      "    def test_non_integer(self):\n",
      "        '''to_roman should fail with non-integer input'''\n",
      "        self.assertRaises(roman7.NotIntegerError, roman7.to_roman, 0.5)\n",
      "\n",
      "class FromRomanBadInput(unittest.TestCase):\n",
      "    def test_too_many_repeated_numerals(self):\n",
      "        '''from_roman should fail with too many repeated numerals'''\n",
      "        for s in ('MMMM', 'DD', 'CCCC', 'LL', 'XXXX', 'VV', 'IIII'):\n",
      "            self.assertRaises(roman7.InvalidRomanNumeralError, roman7.from_roman, s)\n",
      "\n",
      "    def test_repeated_pairs(self):\n",
      "        '''from_roman should fail with repeated pairs of numerals'''\n",
      "        for s in ('CMCM', 'CDCD', 'XCXC', 'XLXL', 'IXIX', 'IVIV'):\n",
      "            self.assertRaises(roman7.InvalidRomanNumeralError, roman7.from_roman, s)\n",
      "\n",
      "    def test_malformed_antecedents(self):\n",
      "        '''from_roman should fail with malformed antecedents'''\n",
      "        for s in ('IIMXCC', 'VX', 'DCM', 'CMM', 'IXIV',\n",
      "                  'MCMC', 'XCX', 'IVI', 'LM', 'LD', 'LC'):\n",
      "            self.assertRaises(roman7.InvalidRomanNumeralError, roman7.from_roman, s)\n",
      "\n",
      "    def test_non_string(self):\n",
      "        '''from_roman should fail with non-string input'''\n",
      "        self.assertRaises(roman7.InvalidRomanNumeralError, roman7.from_roman, 1)\n",
      "\n",
      "class RoundtripCheck(unittest.TestCase):\n",
      "    def test_roundtrip(self):\n",
      "        '''from_roman(to_roman(n))==n for all n'''\n",
      "        for integer in range(1, 4000):\n",
      "            numeral = roman7.to_roman(integer)\n",
      "            result = roman7.from_roman(numeral)\n",
      "            self.assertEqual(integer, result)\n",
      "\n",
      "if __name__ == '__main__':\n",
      "    unittest.main()"
     ],
     "language": "python",
     "metadata": {},
     "outputs": [
      {
       "output_type": "stream",
       "stream": "stdout",
       "text": [
        "Writing romantest7.py\n"
       ]
      }
     ],
     "prompt_number": 3
    },
    {
     "cell_type": "code",
     "collapsed": false,
     "input": [
      "%%writefile romantest8.py\n",
      "import roman8\n",
      "import unittest\n",
      "\n",
      "class KnownValues(unittest.TestCase):\n",
      "    known_values = ( (1, 'I'),\n",
      "                     (2, 'II'),\n",
      "                     (3, 'III'),\n",
      "                     (4, 'IV'),\n",
      "                     (5, 'V'),\n",
      "                     (6, 'VI'),\n",
      "                     (7, 'VII'),\n",
      "                     (8, 'VIII'),\n",
      "                     (9, 'IX'),\n",
      "                     (10, 'X'),\n",
      "                     (50, 'L'),\n",
      "                     (100, 'C'),\n",
      "                     (500, 'D'),\n",
      "                     (1000, 'M'),\n",
      "                     (31, 'XXXI'),\n",
      "                     (148, 'CXLVIII'),\n",
      "                     (294, 'CCXCIV'),\n",
      "                     (312, 'CCCXII'),\n",
      "                     (421, 'CDXXI'),\n",
      "                     (528, 'DXXVIII'),\n",
      "                     (621, 'DCXXI'),\n",
      "                     (782, 'DCCLXXXII'),\n",
      "                     (870, 'DCCCLXX'),\n",
      "                     (941, 'CMXLI'),\n",
      "                     (1043, 'MXLIII'),\n",
      "                     (1110, 'MCX'),\n",
      "                     (1226, 'MCCXXVI'),\n",
      "                     (1301, 'MCCCI'),\n",
      "                     (1485, 'MCDLXXXV'),\n",
      "                     (1509, 'MDIX'),\n",
      "                     (1607, 'MDCVII'),\n",
      "                     (1754, 'MDCCLIV'),\n",
      "                     (1832, 'MDCCCXXXII'),\n",
      "                     (1993, 'MCMXCIII'),\n",
      "                     (2074, 'MMLXXIV'),\n",
      "                     (2152, 'MMCLII'),\n",
      "                     (2212, 'MMCCXII'),\n",
      "                     (2343, 'MMCCCXLIII'),\n",
      "                     (2499, 'MMCDXCIX'),\n",
      "                     (2574, 'MMDLXXIV'),\n",
      "                     (2646, 'MMDCXLVI'),\n",
      "                     (2723, 'MMDCCXXIII'),\n",
      "                     (2892, 'MMDCCCXCII'),\n",
      "                     (2975, 'MMCMLXXV'),\n",
      "                     (3051, 'MMMLI'),\n",
      "                     (3185, 'MMMCLXXXV'),\n",
      "                     (3250, 'MMMCCL'),\n",
      "                     (3313, 'MMMCCCXIII'),\n",
      "                     (3408, 'MMMCDVIII'),\n",
      "                     (3501, 'MMMDI'),\n",
      "                     (3610, 'MMMDCX'),\n",
      "                     (3743, 'MMMDCCXLIII'),\n",
      "                     (3844, 'MMMDCCCXLIV'),\n",
      "                     (3888, 'MMMDCCCLXXXVIII'),\n",
      "                     (3940, 'MMMCMXL'),\n",
      "                     (3999, 'MMMCMXCIX'))\n",
      "\n",
      "    def test_to_roman_known_values(self):\n",
      "        '''to_roman should give known result with known input'''\n",
      "        for integer, numeral in self.known_values:\n",
      "            result = roman8.to_roman(integer)\n",
      "            self.assertEqual(numeral, result)\n",
      "\n",
      "    def test_from_roman_known_values(self):\n",
      "        '''from_roman should give known result with known input'''\n",
      "        for integer, numeral in self.known_values:\n",
      "            result = roman8.from_roman(numeral)\n",
      "            self.assertEqual(integer, result)\n",
      "\n",
      "class ToRomanBadInput(unittest.TestCase):\n",
      "    def test_too_large(self):\n",
      "        '''to_roman should fail with large input'''\n",
      "        self.assertRaises(roman8.OutOfRangeError, roman8.to_roman, 4000)\n",
      "\n",
      "    def test_zero(self):\n",
      "        '''to_roman should fail with 0 input'''\n",
      "        self.assertRaises(roman8.OutOfRangeError, roman8.to_roman, 0)\n",
      "\n",
      "    def test_negative(self):\n",
      "        '''to_roman should fail with negative input'''\n",
      "        self.assertRaises(roman8.OutOfRangeError, roman8.to_roman, -1)\n",
      "\n",
      "    def test_non_integer(self):\n",
      "        '''to_roman should fail with non-integer input'''\n",
      "        self.assertRaises(roman8.NotIntegerError, roman8.to_roman, 0.5)\n",
      "\n",
      "class FromRomanBadInput(unittest.TestCase):\n",
      "    def test_too_many_repeated_numerals(self):\n",
      "        '''from_roman should fail with too many repeated numerals'''\n",
      "        for s in ('MMMM', 'DD', 'CCCC', 'LL', 'XXXX', 'VV', 'IIII'):\n",
      "            self.assertRaises(roman8.InvalidRomanNumeralError, roman8.from_roman, s)\n",
      "\n",
      "    def test_repeated_pairs(self):\n",
      "        '''from_roman should fail with repeated pairs of numerals'''\n",
      "        for s in ('CMCM', 'CDCD', 'XCXC', 'XLXL', 'IXIX', 'IVIV'):\n",
      "            self.assertRaises(roman8.InvalidRomanNumeralError, roman8.from_roman, s)\n",
      "\n",
      "    def test_malformed_antecedents(self):\n",
      "        '''from_roman should fail with malformed antecedents'''\n",
      "        for s in ('IIMXCC', 'VX', 'DCM', 'CMM', 'IXIV',\n",
      "                  'MCMC', 'XCX', 'IVI', 'LM', 'LD', 'LC'):\n",
      "            self.assertRaises(roman8.InvalidRomanNumeralError, roman8.from_roman, s)\n",
      "\n",
      "    def test_blank(self):\n",
      "        '''from_roman should fail with blank string'''\n",
      "        self.assertRaises(roman8.InvalidRomanNumeralError, roman8.from_roman, '')\n",
      "\n",
      "    def test_non_string(self):\n",
      "        '''from_roman should fail with non-string input'''\n",
      "        self.assertRaises(roman8.InvalidRomanNumeralError, roman8.from_roman, 1)\n",
      "\n",
      "class RoundtripCheck(unittest.TestCase):\n",
      "    def test_roundtrip(self):\n",
      "        '''from_roman(to_roman(n))==n for all n'''\n",
      "        for integer in range(1, 4000):\n",
      "            numeral = roman8.to_roman(integer)\n",
      "            result = roman8.from_roman(numeral)\n",
      "            self.assertEqual(integer, result)\n",
      "\n",
      "if __name__ == '__main__':\n",
      "    unittest.main()"
     ],
     "language": "python",
     "metadata": {},
     "outputs": [
      {
       "output_type": "stream",
       "stream": "stdout",
       "text": [
        "Writing romantest8.py\n"
       ]
      }
     ],
     "prompt_number": 4
    },
    {
     "cell_type": "code",
     "collapsed": false,
     "input": [
      "%%writefile roman8.py\n",
      "import re\n",
      "\n",
      "class OutOfRangeError(ValueError): pass\n",
      "class NotIntegerError(ValueError): pass\n",
      "class InvalidRomanNumeralError(ValueError): pass\n",
      "\n",
      "roman_numeral_map = (('M',  1000),\n",
      "                     ('CM', 900),\n",
      "                     ('D',  500),\n",
      "                     ('CD', 400),\n",
      "                     ('C',  100),\n",
      "                     ('XC', 90),\n",
      "                     ('L',  50),\n",
      "                     ('XL', 40),\n",
      "                     ('X',  10),\n",
      "                     ('IX', 9),\n",
      "                     ('V',  5),\n",
      "                     ('IV', 4),\n",
      "                     ('I',  1))\n",
      "\n",
      "roman_numeral_pattern = re.compile('''\n",
      "    ^                   # beginning of string\n",
      "    M{0,3}              # thousands - 0 to 3 M's\n",
      "    (CM|CD|D?C{0,3})    # hundreds - 900 (CM), 400 (CD), 0-300 (0 to 3 C's),\n",
      "                        #            or 500-800 (D, followed by 0 to 3 C's)\n",
      "    (XC|XL|L?X{0,3})    # tens - 90 (XC), 40 (XL), 0-30 (0 to 3 X's),\n",
      "                        #        or 50-80 (L, followed by 0 to 3 X's)\n",
      "    (IX|IV|V?I{0,3})    # ones - 9 (IX), 4 (IV), 0-3 (0 to 3 I's),\n",
      "                        #        or 5-8 (V, followed by 0 to 3 I's)\n",
      "    $                   # end of string\n",
      "    ''', re.VERBOSE)\n",
      "\n",
      "def to_roman(n):\n",
      "    '''convert integer to Roman numeral'''\n",
      "    if not (0 < n < 4000):\n",
      "        raise OutOfRangeError('number out of range (must be 1..3999)')\n",
      "    if not isinstance(n, int):\n",
      "        raise NotIntegerError('non-integers can not be converted')\n",
      "\n",
      "    result = ''\n",
      "    for numeral, integer in roman_numeral_map:\n",
      "        while n >= integer:\n",
      "            result += numeral\n",
      "            n -= integer\n",
      "    return result\n",
      "\n",
      "def from_roman(s):\n",
      "    '''convert Roman numeral to integer'''\n",
      "    if not isinstance(s, str):\n",
      "        raise InvalidRomanNumeralError('Input must be a string')\n",
      "    if not roman_numeral_pattern.search(s):\n",
      "        raise InvalidRomanNumeralError('Invalid Roman numeral: {0}'.format(s))\n",
      "\n",
      "    result = 0\n",
      "    index = 0\n",
      "    for numeral, integer in roman_numeral_map:\n",
      "        while s[index : index + len(numeral)] == numeral:\n",
      "            result += integer\n",
      "            index += len(numeral)\n",
      "    return result"
     ],
     "language": "python",
     "metadata": {},
     "outputs": [
      {
       "output_type": "stream",
       "stream": "stdout",
       "text": [
        "Writing roman8.py\n"
       ]
      }
     ],
     "prompt_number": 5
    },
    {
     "cell_type": "code",
     "collapsed": false,
     "input": [
      "%run romantest8.py"
     ],
     "language": "python",
     "metadata": {},
     "outputs": [
      {
       "output_type": "stream",
       "stream": "stderr",
       "text": [
        "F"
       ]
      },
      {
       "output_type": "stream",
       "stream": "stderr",
       "text": [
        "."
       ]
      },
      {
       "output_type": "stream",
       "stream": "stderr",
       "text": [
        "."
       ]
      },
      {
       "output_type": "stream",
       "stream": "stderr",
       "text": [
        "."
       ]
      },
      {
       "output_type": "stream",
       "stream": "stderr",
       "text": [
        "."
       ]
      },
      {
       "output_type": "stream",
       "stream": "stderr",
       "text": [
        "."
       ]
      },
      {
       "output_type": "stream",
       "stream": "stderr",
       "text": [
        "."
       ]
      },
      {
       "output_type": "stream",
       "stream": "stderr",
       "text": [
        "."
       ]
      },
      {
       "output_type": "stream",
       "stream": "stderr",
       "text": [
        "."
       ]
      },
      {
       "output_type": "stream",
       "stream": "stderr",
       "text": [
        "."
       ]
      },
      {
       "output_type": "stream",
       "stream": "stderr",
       "text": [
        "."
       ]
      },
      {
       "output_type": "stream",
       "stream": "stderr",
       "text": [
        "."
       ]
      },
      {
       "output_type": "stream",
       "stream": "stderr",
       "text": [
        "\n",
        "======================================================================\n",
        "FAIL: test_blank (__main__.FromRomanBadInput)\n",
        "from_roman should fail with blank string\n",
        "----------------------------------------------------------------------\n",
        "Traceback (most recent call last):\n",
        "  File \"C:\\Documents and Settings\\Kevin\\Bureau\\diveintopython3\\romantest8.py\", line 110, in test_blank\n",
        "    self.assertRaises(roman8.InvalidRomanNumeralError, roman8.from_roman, '')\n",
        "AssertionError: InvalidRomanNumeralError not raised by from_roman\n",
        "\n",
        "----------------------------------------------------------------------\n",
        "Ran 12 tests in 0.172s\n",
        "\n",
        "FAILED (failures=1)\n"
       ]
      },
      {
       "ename": "SystemExit",
       "evalue": "True",
       "output_type": "pyerr",
       "traceback": [
        "An exception has occurred, use %tb to see the full traceback.\n",
        "\u001b[1;31mSystemExit\u001b[0m\u001b[1;31m:\u001b[0m True\n"
       ]
      }
     ],
     "prompt_number": 6
    },
    {
     "cell_type": "code",
     "collapsed": false,
     "input": [
      "%%writefile roman8.py\n",
      "import re\n",
      "\n",
      "class OutOfRangeError(ValueError): pass\n",
      "class NotIntegerError(ValueError): pass\n",
      "class InvalidRomanNumeralError(ValueError): pass\n",
      "\n",
      "roman_numeral_map = (('M',  1000),\n",
      "                     ('CM', 900),\n",
      "                     ('D',  500),\n",
      "                     ('CD', 400),\n",
      "                     ('C',  100),\n",
      "                     ('XC', 90),\n",
      "                     ('L',  50),\n",
      "                     ('XL', 40),\n",
      "                     ('X',  10),\n",
      "                     ('IX', 9),\n",
      "                     ('V',  5),\n",
      "                     ('IV', 4),\n",
      "                     ('I',  1))\n",
      "\n",
      "roman_numeral_pattern = re.compile('''\n",
      "    ^                   # beginning of string\n",
      "    M{0,3}              # thousands - 0 to 3 M's\n",
      "    (CM|CD|D?C{0,3})    # hundreds - 900 (CM), 400 (CD), 0-300 (0 to 3 C's),\n",
      "                        #            or 500-800 (D, followed by 0 to 3 C's)\n",
      "    (XC|XL|L?X{0,3})    # tens - 90 (XC), 40 (XL), 0-30 (0 to 3 X's),\n",
      "                        #        or 50-80 (L, followed by 0 to 3 X's)\n",
      "    (IX|IV|V?I{0,3})    # ones - 9 (IX), 4 (IV), 0-3 (0 to 3 I's),\n",
      "                        #        or 5-8 (V, followed by 0 to 3 I's)\n",
      "    $                   # end of string\n",
      "    ''', re.VERBOSE)\n",
      "\n",
      "def to_roman(n):\n",
      "    '''convert integer to Roman numeral'''\n",
      "    if not (0 < n < 4000):\n",
      "        raise OutOfRangeError('number out of range (must be 1..3999)')\n",
      "    if not isinstance(n, int):\n",
      "        raise NotIntegerError('non-integers can not be converted')\n",
      "\n",
      "    result = ''\n",
      "    for numeral, integer in roman_numeral_map:\n",
      "        while n >= integer:\n",
      "            result += numeral\n",
      "            n -= integer\n",
      "    return result\n",
      "\n",
      "def from_roman(s):\n",
      "    '''convert Roman numeral to integer'''\n",
      "    if not isinstance(s, str):\n",
      "        raise InvalidRomanNumeralError('Input must be a string')\n",
      "    if not s:\n",
      "        raise InvalidRomanNumeralError('Input can not be blank')\n",
      "    if not roman_numeral_pattern.search(s):\n",
      "        raise InvalidRomanNumeralError('Invalid Roman numeral: {0}'.format(s))\n",
      "\n",
      "    result = 0\n",
      "    index = 0\n",
      "    for numeral, integer in roman_numeral_map:\n",
      "        while s[index : index + len(numeral)] == numeral:\n",
      "            result += integer\n",
      "            index += len(numeral)\n",
      "    return result"
     ],
     "language": "python",
     "metadata": {},
     "outputs": [
      {
       "output_type": "stream",
       "stream": "stdout",
       "text": [
        "Overwriting roman8.py\n"
       ]
      }
     ],
     "prompt_number": 7
    },
    {
     "cell_type": "code",
     "collapsed": false,
     "input": [
      "%run romantest8.py -v"
     ],
     "language": "python",
     "metadata": {},
     "outputs": [
      {
       "output_type": "stream",
       "stream": "stderr",
       "text": [
        "test_blank (__main__.FromRomanBadInput)\n",
        "from_roman should fail with blank string ... "
       ]
      },
      {
       "output_type": "stream",
       "stream": "stderr",
       "text": [
        "ok\n",
        "test_malformed_antecedents (__main__.FromRomanBadInput)\n",
        "from_roman should fail with malformed antecedents ... "
       ]
      },
      {
       "output_type": "stream",
       "stream": "stderr",
       "text": [
        "ok\n",
        "test_non_string (__main__.FromRomanBadInput)\n",
        "from_roman should fail with non-string input ... "
       ]
      },
      {
       "output_type": "stream",
       "stream": "stderr",
       "text": [
        "ok\n",
        "test_repeated_pairs (__main__.FromRomanBadInput)\n",
        "from_roman should fail with repeated pairs of numerals ... "
       ]
      },
      {
       "output_type": "stream",
       "stream": "stderr",
       "text": [
        "ok\n",
        "test_too_many_repeated_numerals (__main__.FromRomanBadInput)\n",
        "from_roman should fail with too many repeated numerals ... "
       ]
      },
      {
       "output_type": "stream",
       "stream": "stderr",
       "text": [
        "ok\n",
        "test_from_roman_known_values (__main__.KnownValues)\n",
        "from_roman should give known result with known input ... "
       ]
      },
      {
       "output_type": "stream",
       "stream": "stderr",
       "text": [
        "ok\n",
        "test_to_roman_known_values (__main__.KnownValues)\n",
        "to_roman should give known result with known input ... "
       ]
      },
      {
       "output_type": "stream",
       "stream": "stderr",
       "text": [
        "ok\n",
        "test_roundtrip (__main__.RoundtripCheck)\n",
        "from_roman(to_roman(n))==n for all n ... "
       ]
      },
      {
       "output_type": "stream",
       "stream": "stderr",
       "text": [
        "ok\n",
        "test_negative (__main__.ToRomanBadInput)\n",
        "to_roman should fail with negative input ... "
       ]
      },
      {
       "output_type": "stream",
       "stream": "stderr",
       "text": [
        "ok\n",
        "test_non_integer (__main__.ToRomanBadInput)\n",
        "to_roman should fail with non-integer input ... "
       ]
      },
      {
       "output_type": "stream",
       "stream": "stderr",
       "text": [
        "ok\n",
        "test_too_large (__main__.ToRomanBadInput)\n",
        "to_roman should fail with large input ... "
       ]
      },
      {
       "output_type": "stream",
       "stream": "stderr",
       "text": [
        "ok\n",
        "test_zero (__main__.ToRomanBadInput)\n",
        "to_roman should fail with 0 input ... "
       ]
      },
      {
       "output_type": "stream",
       "stream": "stderr",
       "text": [
        "ok\n",
        "\n",
        "----------------------------------------------------------------------\n",
        "Ran 12 tests in 0.172s\n",
        "\n",
        "OK\n"
       ]
      }
     ],
     "prompt_number": 1
    },
    {
     "cell_type": "markdown",
     "metadata": {},
     "source": [
      "Coding this way does not make fixing bugs any easier. Simple bugs (like this one) require simple test cases; complex bugs will require complex test cases. In a testing-centric environment, it may seem like it takes longer to fix a bug, since you need to articulate in code exactly what the bug is (to write the test case), then fix the bug itself. Then if the test case doesn\u2019t pass right away, you need to figure out whether the fix was wrong, or whether the test case itself has a bug in it. However, in the long run, this back-and-forth between test code and code tested pays for itself, because it makes it more likely that bugs are fixed correctly the first time. Also, since you can easily re-run all the test cases along with your new one, you are much less likely to break old code when fixing new code. Today\u2019s unit test is tomorrow\u2019s regression test. "
     ]
    },
    {
     "cell_type": "raw",
     "metadata": {},
     "source": [
      "Handling Changing Requirements\n",
      "\n",
      "Suppose, for instance, that you wanted to expand the range of the Roman numeral conversion functions. Normally, no character in a Roman numeral can be repeated more than three times in a row. But the Romans were willing to make an exception to that rule by having 4 M characters in a row to represent 4000. If you make this change, you\u2019ll be able to expand the range of convertible numbers from 1..3999 to 1..4999. But first, you need to make some changes to your test cases. "
     ]
    },
    {
     "cell_type": "code",
     "collapsed": false,
     "input": [
      "%%writefile romantest9.py\n",
      "import roman9\n",
      "import unittest\n",
      "\n",
      "class KnownValues(unittest.TestCase):\n",
      "    known_values = ( (1, 'I'),\n",
      "                     (2, 'II'),\n",
      "                     (3, 'III'),\n",
      "                     (4, 'IV'),\n",
      "                     (5, 'V'),\n",
      "                     (6, 'VI'),\n",
      "                     (7, 'VII'),\n",
      "                     (8, 'VIII'),\n",
      "                     (9, 'IX'),\n",
      "                     (10, 'X'),\n",
      "                     (50, 'L'),\n",
      "                     (100, 'C'),\n",
      "                     (500, 'D'),\n",
      "                     (1000, 'M'),\n",
      "                     (31, 'XXXI'),\n",
      "                     (148, 'CXLVIII'),\n",
      "                     (294, 'CCXCIV'),\n",
      "                     (312, 'CCCXII'),\n",
      "                     (421, 'CDXXI'),\n",
      "                     (528, 'DXXVIII'),\n",
      "                     (621, 'DCXXI'),\n",
      "                     (782, 'DCCLXXXII'),\n",
      "                     (870, 'DCCCLXX'),\n",
      "                     (941, 'CMXLI'),\n",
      "                     (1043, 'MXLIII'),\n",
      "                     (1110, 'MCX'),\n",
      "                     (1226, 'MCCXXVI'),\n",
      "                     (1301, 'MCCCI'),\n",
      "                     (1485, 'MCDLXXXV'),\n",
      "                     (1509, 'MDIX'),\n",
      "                     (1607, 'MDCVII'),\n",
      "                     (1754, 'MDCCLIV'),\n",
      "                     (1832, 'MDCCCXXXII'),\n",
      "                     (1993, 'MCMXCIII'),\n",
      "                     (2074, 'MMLXXIV'),\n",
      "                     (2152, 'MMCLII'),\n",
      "                     (2212, 'MMCCXII'),\n",
      "                     (2343, 'MMCCCXLIII'),\n",
      "                     (2499, 'MMCDXCIX'),\n",
      "                     (2574, 'MMDLXXIV'),\n",
      "                     (2646, 'MMDCXLVI'),\n",
      "                     (2723, 'MMDCCXXIII'),\n",
      "                     (2892, 'MMDCCCXCII'),\n",
      "                     (2975, 'MMCMLXXV'),\n",
      "                     (3051, 'MMMLI'),\n",
      "                     (3185, 'MMMCLXXXV'),\n",
      "                     (3250, 'MMMCCL'),\n",
      "                     (3313, 'MMMCCCXIII'),\n",
      "                     (3408, 'MMMCDVIII'),\n",
      "                     (3501, 'MMMDI'),\n",
      "                     (3610, 'MMMDCX'),\n",
      "                     (3743, 'MMMDCCXLIII'),\n",
      "                     (3844, 'MMMDCCCXLIV'),\n",
      "                     (3888, 'MMMDCCCLXXXVIII'),\n",
      "                     (3940, 'MMMCMXL'),\n",
      "                     (3999, 'MMMCMXCIX'),\n",
      "                     (4000, 'MMMM'),\n",
      "                     (4500, 'MMMMD'),\n",
      "                     (4888, 'MMMMDCCCLXXXVIII'), # CHANGE\n",
      "                     (4999, 'MMMMCMXCIX'))\n",
      "\n",
      "    def test_to_roman_known_values(self):\n",
      "        '''to_roman should give known result with known input'''\n",
      "        for integer, numeral in self.known_values:\n",
      "            result = roman9.to_roman(integer)\n",
      "            self.assertEqual(numeral, result)\n",
      "\n",
      "    def test_from_roman_known_values(self):\n",
      "        '''from_roman should give known result with known input'''\n",
      "        for integer, numeral in self.known_values:\n",
      "            result = roman9.from_roman(numeral)\n",
      "            self.assertEqual(integer, result)\n",
      "\n",
      "class ToRomanBadInput(unittest.TestCase):\n",
      "    def test_too_large(self):\n",
      "        '''to_roman should fail with large input'''\n",
      "        self.assertRaises(roman9.OutOfRangeError, roman9.to_roman, 5000) # CHANGE\n",
      "\n",
      "    def test_zero(self):\n",
      "        '''to_roman should fail with 0 input'''\n",
      "        self.assertRaises(roman9.OutOfRangeError, roman9.to_roman, 0)\n",
      "\n",
      "    def test_negative(self):\n",
      "        '''to_roman should fail with negative input'''\n",
      "        self.assertRaises(roman9.OutOfRangeError, roman9.to_roman, -1)\n",
      "\n",
      "    def test_non_integer(self):\n",
      "        '''to_roman should fail with non-integer input'''\n",
      "        self.assertRaises(roman9.NotIntegerError, roman9.to_roman, 0.5)\n",
      "\n",
      "class FromRomanBadInput(unittest.TestCase):\n",
      "    def test_too_many_repeated_numerals(self):\n",
      "        '''from_roman should fail with too many repeated numerals'''\n",
      "        for s in ('MMMMM', 'DD', 'CCCC', 'LL', 'XXXX', 'VV', 'IIII'): # CHANGE\n",
      "            self.assertRaises(roman9.InvalidRomanNumeralError, roman9.from_roman, s)\n",
      "\n",
      "    def test_repeated_pairs(self):\n",
      "        '''from_roman should fail with repeated pairs of numerals'''\n",
      "        for s in ('CMCM', 'CDCD', 'XCXC', 'XLXL', 'IXIX', 'IVIV'):\n",
      "            self.assertRaises(roman9.InvalidRomanNumeralError, roman9.from_roman, s)\n",
      "\n",
      "    def test_malformed_antecedents(self):\n",
      "        '''from_roman should fail with malformed antecedents'''\n",
      "        for s in ('IIMXCC', 'VX', 'DCM', 'CMM', 'IXIV',\n",
      "                  'MCMC', 'XCX', 'IVI', 'LM', 'LD', 'LC'):\n",
      "            self.assertRaises(roman9.InvalidRomanNumeralError, roman9.from_roman, s)\n",
      "\n",
      "    def test_blank(self):\n",
      "        '''from_roman should fail with blank string'''\n",
      "        self.assertRaises(roman9.InvalidRomanNumeralError, roman9.from_roman, '')\n",
      "\n",
      "    def test_non_string(self):\n",
      "        '''from_roman should fail with non-string input'''\n",
      "        self.assertRaises(roman9.InvalidRomanNumeralError, roman9.from_roman, 1)\n",
      "\n",
      "class RoundtripCheck(unittest.TestCase):\n",
      "    def test_roundtrip(self):\n",
      "        '''from_roman(to_roman(n))==n for all n'''\n",
      "        for integer in range(1, 5000): # CHANGE\n",
      "            numeral = roman9.to_roman(integer)\n",
      "            result = roman9.from_roman(numeral)\n",
      "            self.assertEqual(integer, result)\n",
      "\n",
      "if __name__ == '__main__':\n",
      "    unittest.main()"
     ],
     "language": "python",
     "metadata": {},
     "outputs": [
      {
       "output_type": "stream",
       "stream": "stdout",
       "text": [
        "Writing romantest9.py\n"
       ]
      }
     ],
     "prompt_number": 3
    },
    {
     "cell_type": "code",
     "collapsed": false,
     "input": [
      "%%writefile roman9.py\n",
      "import re\n",
      "\n",
      "class OutOfRangeError(ValueError): pass\n",
      "class NotIntegerError(ValueError): pass\n",
      "class InvalidRomanNumeralError(ValueError): pass\n",
      "\n",
      "roman_numeral_map = (('M',  1000),\n",
      "                     ('CM', 900),\n",
      "                     ('D',  500),\n",
      "                     ('CD', 400),\n",
      "                     ('C',  100),\n",
      "                     ('XC', 90),\n",
      "                     ('L',  50),\n",
      "                     ('XL', 40),\n",
      "                     ('X',  10),\n",
      "                     ('IX', 9),\n",
      "                     ('V',  5),\n",
      "                     ('IV', 4),\n",
      "                     ('I',  1))\n",
      "\n",
      "roman_numeral_pattern = re.compile('''\n",
      "    ^                   # beginning of string\n",
      "    M{0,3}              # thousands - 0 to 3 M's\n",
      "    (CM|CD|D?C{0,3})    # hundreds - 900 (CM), 400 (CD), 0-300 (0 to 3 C's),\n",
      "                        #            or 500-800 (D, followed by 0 to 3 C's)\n",
      "    (XC|XL|L?X{0,3})    # tens - 90 (XC), 40 (XL), 0-30 (0 to 3 X's),\n",
      "                        #        or 50-80 (L, followed by 0 to 3 X's)\n",
      "    (IX|IV|V?I{0,3})    # ones - 9 (IX), 4 (IV), 0-3 (0 to 3 I's),\n",
      "                        #        or 5-8 (V, followed by 0 to 3 I's)\n",
      "    $                   # end of string\n",
      "    ''', re.VERBOSE)\n",
      "\n",
      "def to_roman(n):\n",
      "    '''convert integer to Roman numeral'''\n",
      "    if not (0 < n < 4000):\n",
      "        raise OutOfRangeError('number out of range (must be 1..3999)')\n",
      "    if not isinstance(n, int):\n",
      "        raise NotIntegerError('non-integers can not be converted')\n",
      "\n",
      "    result = ''\n",
      "    for numeral, integer in roman_numeral_map:\n",
      "        while n >= integer:\n",
      "            result += numeral\n",
      "            n -= integer\n",
      "    return result\n",
      "\n",
      "def from_roman(s):\n",
      "    '''convert Roman numeral to integer'''\n",
      "    if not isinstance(s, str):\n",
      "        raise InvalidRomanNumeralError('Input must be a string')\n",
      "    if not s:\n",
      "        raise InvalidRomanNumeralError('Input can not be blank')\n",
      "    if not roman_numeral_pattern.search(s):\n",
      "        raise InvalidRomanNumeralError('Invalid Roman numeral: {0}'.format(s))\n",
      "\n",
      "    result = 0\n",
      "    index = 0\n",
      "    for numeral, integer in roman_numeral_map:\n",
      "        while s[index : index + len(numeral)] == numeral:\n",
      "            result += integer\n",
      "            index += len(numeral)\n",
      "    return result"
     ],
     "language": "python",
     "metadata": {},
     "outputs": [
      {
       "output_type": "stream",
       "stream": "stdout",
       "text": [
        "Writing roman9.py\n"
       ]
      }
     ],
     "prompt_number": 4
    },
    {
     "cell_type": "code",
     "collapsed": false,
     "input": [
      "%run romantest9.py"
     ],
     "language": "python",
     "metadata": {},
     "outputs": [
      {
       "output_type": "stream",
       "stream": "stderr",
       "text": [
        "."
       ]
      },
      {
       "output_type": "stream",
       "stream": "stderr",
       "text": [
        "."
       ]
      },
      {
       "output_type": "stream",
       "stream": "stderr",
       "text": [
        "."
       ]
      },
      {
       "output_type": "stream",
       "stream": "stderr",
       "text": [
        "."
       ]
      },
      {
       "output_type": "stream",
       "stream": "stderr",
       "text": [
        "."
       ]
      },
      {
       "output_type": "stream",
       "stream": "stderr",
       "text": [
        "E"
       ]
      },
      {
       "output_type": "stream",
       "stream": "stderr",
       "text": [
        "E"
       ]
      },
      {
       "output_type": "stream",
       "stream": "stderr",
       "text": [
        "E"
       ]
      },
      {
       "output_type": "stream",
       "stream": "stderr",
       "text": [
        "."
       ]
      },
      {
       "output_type": "stream",
       "stream": "stderr",
       "text": [
        "."
       ]
      },
      {
       "output_type": "stream",
       "stream": "stderr",
       "text": [
        "."
       ]
      },
      {
       "output_type": "stream",
       "stream": "stderr",
       "text": [
        "."
       ]
      },
      {
       "output_type": "stream",
       "stream": "stderr",
       "text": [
        "\n",
        "======================================================================\n",
        "ERROR: test_from_roman_known_values (__main__.KnownValues)\n",
        "from_roman should give known result with known input\n",
        "----------------------------------------------------------------------\n",
        "Traceback (most recent call last):\n",
        "  File \"C:\\Documents and Settings\\Kevin\\Bureau\\diveintopython3\\romantest9.py\", line 75, in test_from_roman_known_values\n",
        "    result = roman9.from_roman(numeral)\n",
        "  File \"C:\\Documents and Settings\\Kevin\\Bureau\\diveintopython3\\roman9.py\", line 54, in from_roman\n",
        "    raise InvalidRomanNumeralError('Invalid Roman numeral: {0}'.format(s))\n",
        "roman9.InvalidRomanNumeralError: Invalid Roman numeral: MMMM\n",
        "\n",
        "======================================================================\n",
        "ERROR: test_to_roman_known_values (__main__.KnownValues)\n",
        "to_roman should give known result with known input\n",
        "----------------------------------------------------------------------\n",
        "Traceback (most recent call last):\n",
        "  File \"C:\\Documents and Settings\\Kevin\\Bureau\\diveintopython3\\romantest9.py\", line 69, in test_to_roman_known_values\n",
        "    result = roman9.to_roman(integer)\n",
        "  File \"C:\\Documents and Settings\\Kevin\\Bureau\\diveintopython3\\roman9.py\", line 36, in to_roman\n",
        "    raise OutOfRangeError('number out of range (must be 1..3999)')\n",
        "roman9.OutOfRangeError: number out of range (must be 1..3999)\n",
        "\n",
        "======================================================================\n",
        "ERROR: test_roundtrip (__main__.RoundtripCheck)\n",
        "from_roman(to_roman(n))==n for all n\n",
        "----------------------------------------------------------------------\n",
        "Traceback (most recent call last):\n",
        "  File \"C:\\Documents and Settings\\Kevin\\Bureau\\diveintopython3\\romantest9.py\", line 124, in test_roundtrip\n",
        "    numeral = roman9.to_roman(integer)\n",
        "  File \"C:\\Documents and Settings\\Kevin\\Bureau\\diveintopython3\\roman9.py\", line 36, in to_roman\n",
        "    raise OutOfRangeError('number out of range (must be 1..3999)')\n",
        "roman9.OutOfRangeError: number out of range (must be 1..3999)\n",
        "\n",
        "----------------------------------------------------------------------\n",
        "Ran 12 tests in 0.172s\n",
        "\n",
        "FAILED (errors=3)\n"
       ]
      },
      {
       "ename": "SystemExit",
       "evalue": "True",
       "output_type": "pyerr",
       "traceback": [
        "An exception has occurred, use %tb to see the full traceback.\n",
        "\u001b[1;31mSystemExit\u001b[0m\u001b[1;31m:\u001b[0m True\n"
       ]
      }
     ],
     "prompt_number": 5
    },
    {
     "cell_type": "code",
     "collapsed": false,
     "input": [
      "%%writefile roman9.py\n",
      "import re\n",
      "\n",
      "class OutOfRangeError(ValueError): pass\n",
      "class NotIntegerError(ValueError): pass\n",
      "class InvalidRomanNumeralError(ValueError): pass\n",
      "\n",
      "roman_numeral_map = (('M',  1000),\n",
      "                     ('CM', 900),\n",
      "                     ('D',  500),\n",
      "                     ('CD', 400),\n",
      "                     ('C',  100),\n",
      "                     ('XC', 90),\n",
      "                     ('L',  50),\n",
      "                     ('XL', 40),\n",
      "                     ('X',  10),\n",
      "                     ('IX', 9),\n",
      "                     ('V',  5),\n",
      "                     ('IV', 4),\n",
      "                     ('I',  1))\n",
      "\n",
      "roman_numeral_pattern = re.compile('''\n",
      "    ^                   # beginning of string\n",
      "    M{0,4}              # thousands - 0 to 4 M's\n",
      "    (CM|CD|D?C{0,3})    # hundreds - 900 (CM), 400 (CD), 0-300 (0 to 3 C's),\n",
      "                        #            or 500-800 (D, followed by 0 to 3 C's)\n",
      "    (XC|XL|L?X{0,3})    # tens - 90 (XC), 40 (XL), 0-30 (0 to 3 X's),\n",
      "                        #        or 50-80 (L, followed by 0 to 3 X's)\n",
      "    (IX|IV|V?I{0,3})    # ones - 9 (IX), 4 (IV), 0-3 (0 to 3 I's),\n",
      "                        #        or 5-8 (V, followed by 0 to 3 I's)\n",
      "    $                   # end of string\n",
      "    ''', re.VERBOSE)\n",
      "\n",
      "def to_roman(n):\n",
      "    '''convert integer to Roman numeral'''\n",
      "    if not isinstance(n, int):\n",
      "        raise NotIntegerError('non-integers can not be converted')\n",
      "    if not (0 < n < 5000):\n",
      "        raise OutOfRangeError('number out of range (must be 1..4999)')\n",
      "\n",
      "    result = ''\n",
      "    for numeral, integer in roman_numeral_map:\n",
      "        while n >= integer:\n",
      "            result += numeral\n",
      "            n -= integer\n",
      "    return result\n",
      "\n",
      "def from_roman(s):\n",
      "    '''convert Roman numeral to integer'''\n",
      "    if not isinstance(s, str):\n",
      "        raise InvalidRomanNumeralError('Input must be a string')\n",
      "    if not s:\n",
      "        raise InvalidRomanNumeralError('Input can not be blank')\n",
      "    if not roman_numeral_pattern.search(s):\n",
      "        raise InvalidRomanNumeralError('Invalid Roman numeral: {0}'.format(s))\n",
      "\n",
      "    result = 0\n",
      "    index = 0\n",
      "    for numeral, integer in roman_numeral_map:\n",
      "        while s[index : index + len(numeral)] == numeral:\n",
      "            result += integer\n",
      "            index += len(numeral)\n",
      "    return result"
     ],
     "language": "python",
     "metadata": {},
     "outputs": [
      {
       "output_type": "stream",
       "stream": "stdout",
       "text": [
        "Overwriting roman9.py\n"
       ]
      }
     ],
     "prompt_number": 6
    },
    {
     "cell_type": "code",
     "collapsed": false,
     "input": [
      "%run romantest9.py -v"
     ],
     "language": "python",
     "metadata": {},
     "outputs": [
      {
       "output_type": "stream",
       "stream": "stderr",
       "text": [
        "test_blank (__main__.FromRomanBadInput)\n",
        "from_roman should fail with blank string ... "
       ]
      },
      {
       "output_type": "stream",
       "stream": "stderr",
       "text": [
        "ok\n",
        "test_malformed_antecedents (__main__.FromRomanBadInput)\n",
        "from_roman should fail with malformed antecedents ... "
       ]
      },
      {
       "output_type": "stream",
       "stream": "stderr",
       "text": [
        "ok\n",
        "test_non_string (__main__.FromRomanBadInput)\n",
        "from_roman should fail with non-string input ... "
       ]
      },
      {
       "output_type": "stream",
       "stream": "stderr",
       "text": [
        "ok\n",
        "test_repeated_pairs (__main__.FromRomanBadInput)\n",
        "from_roman should fail with repeated pairs of numerals ... "
       ]
      },
      {
       "output_type": "stream",
       "stream": "stderr",
       "text": [
        "ok\n",
        "test_too_many_repeated_numerals (__main__.FromRomanBadInput)\n",
        "from_roman should fail with too many repeated numerals ... "
       ]
      },
      {
       "output_type": "stream",
       "stream": "stderr",
       "text": [
        "ok\n",
        "test_from_roman_known_values (__main__.KnownValues)\n",
        "from_roman should give known result with known input ... "
       ]
      },
      {
       "output_type": "stream",
       "stream": "stderr",
       "text": [
        "ok\n",
        "test_to_roman_known_values (__main__.KnownValues)\n",
        "to_roman should give known result with known input ... "
       ]
      },
      {
       "output_type": "stream",
       "stream": "stderr",
       "text": [
        "ok\n",
        "test_roundtrip (__main__.RoundtripCheck)\n",
        "from_roman(to_roman(n))==n for all n ... "
       ]
      },
      {
       "output_type": "stream",
       "stream": "stderr",
       "text": [
        "ok\n",
        "test_negative (__main__.ToRomanBadInput)\n",
        "to_roman should fail with negative input ... "
       ]
      },
      {
       "output_type": "stream",
       "stream": "stderr",
       "text": [
        "ok\n",
        "test_non_integer (__main__.ToRomanBadInput)\n",
        "to_roman should fail with non-integer input ... "
       ]
      },
      {
       "output_type": "stream",
       "stream": "stderr",
       "text": [
        "ok\n",
        "test_too_large (__main__.ToRomanBadInput)\n",
        "to_roman should fail with large input ... "
       ]
      },
      {
       "output_type": "stream",
       "stream": "stderr",
       "text": [
        "ok\n",
        "test_zero (__main__.ToRomanBadInput)\n",
        "to_roman should fail with 0 input ... "
       ]
      },
      {
       "output_type": "stream",
       "stream": "stderr",
       "text": [
        "ok\n",
        "\n",
        "----------------------------------------------------------------------\n",
        "Ran 12 tests in 0.203s\n",
        "\n",
        "OK\n"
       ]
      }
     ],
     "prompt_number": 1
    },
    {
     "cell_type": "markdown",
     "metadata": {},
     "source": [
      "Refactoring\n",
      "-----------\n",
      "\n",
      "replace the regex with a lookup table"
     ]
    },
    {
     "cell_type": "code",
     "collapsed": false,
     "input": [
      "%%writefile roman10.py\n",
      "class OutOfRangeError(ValueError): pass\n",
      "class NotIntegerError(ValueError): pass\n",
      "class InvalidRomanNumeralError(ValueError): pass\n",
      "\n",
      "roman_numeral_map = (('M',  1000),\n",
      "                     ('CM', 900),\n",
      "                     ('D',  500),\n",
      "                     ('CD', 400),\n",
      "                     ('C',  100),\n",
      "                     ('XC', 90),\n",
      "                     ('L',  50),\n",
      "                     ('XL', 40),\n",
      "                     ('X',  10),\n",
      "                     ('IX', 9),\n",
      "                     ('V',  5),\n",
      "                     ('IV', 4),\n",
      "                     ('I',  1))\n",
      "\n",
      "to_roman_table = [ None ]\n",
      "from_roman_table = {}\n",
      "\n",
      "def to_roman(n):\n",
      "    '''convert integer to Roman numeral'''\n",
      "    if int(n) != n:\n",
      "        raise NotIntegerError('non-integers can not be converted')\n",
      "    if not (0 < n < 5000):\n",
      "        raise OutOfRangeError('number out of range (must be 1..4999)')\n",
      "    return to_roman_table[n]\n",
      "\n",
      "def from_roman(s):\n",
      "    '''convert Roman numeral to integer'''\n",
      "    if not isinstance(s, str):\n",
      "        raise InvalidRomanNumeralError('Input must be a string')\n",
      "    if not s:\n",
      "        raise InvalidRomanNumeralError('Input can not be blank')\n",
      "    if s not in from_roman_table:\n",
      "        raise InvalidRomanNumeralError('Invalid Roman numeral: {0}'.format(s))\n",
      "    return from_roman_table[s]\n",
      "\n",
      "def build_lookup_tables():\n",
      "    def to_roman(n):\n",
      "        result = ''\n",
      "        for numeral, integer in roman_numeral_map:\n",
      "            if n >= integer:\n",
      "                result = numeral\n",
      "                n -= integer\n",
      "                break\n",
      "        if n > 0:\n",
      "            result += to_roman_table[n]\n",
      "        return result\n",
      "\n",
      "    for integer in range(1, 5000):\n",
      "        roman_numeral = to_roman(integer)\n",
      "        to_roman_table.append(roman_numeral)\n",
      "        from_roman_table[roman_numeral] = integer\n",
      "\n",
      "build_lookup_tables() # gets called when the module is imported"
     ],
     "language": "python",
     "metadata": {},
     "outputs": [
      {
       "output_type": "stream",
       "stream": "stdout",
       "text": [
        "Writing roman10.py\n"
       ]
      }
     ],
     "prompt_number": 2
    },
    {
     "cell_type": "code",
     "collapsed": false,
     "input": [
      "%%writefile romantest10.py\n",
      "# no changes, same as romantest9.py\n",
      "import roman10\n",
      "import unittest\n",
      "\n",
      "class KnownValues(unittest.TestCase):\n",
      "    known_values = ( (1, 'I'),\n",
      "                     (2, 'II'),\n",
      "                     (3, 'III'),\n",
      "                     (4, 'IV'),\n",
      "                     (5, 'V'),\n",
      "                     (6, 'VI'),\n",
      "                     (7, 'VII'),\n",
      "                     (8, 'VIII'),\n",
      "                     (9, 'IX'),\n",
      "                     (10, 'X'),\n",
      "                     (50, 'L'),\n",
      "                     (100, 'C'),\n",
      "                     (500, 'D'),\n",
      "                     (1000, 'M'),\n",
      "                     (31, 'XXXI'),\n",
      "                     (148, 'CXLVIII'),\n",
      "                     (294, 'CCXCIV'),\n",
      "                     (312, 'CCCXII'),\n",
      "                     (421, 'CDXXI'),\n",
      "                     (528, 'DXXVIII'),\n",
      "                     (621, 'DCXXI'),\n",
      "                     (782, 'DCCLXXXII'),\n",
      "                     (870, 'DCCCLXX'),\n",
      "                     (941, 'CMXLI'),\n",
      "                     (1043, 'MXLIII'),\n",
      "                     (1110, 'MCX'),\n",
      "                     (1226, 'MCCXXVI'),\n",
      "                     (1301, 'MCCCI'),\n",
      "                     (1485, 'MCDLXXXV'),\n",
      "                     (1509, 'MDIX'),\n",
      "                     (1607, 'MDCVII'),\n",
      "                     (1754, 'MDCCLIV'),\n",
      "                     (1832, 'MDCCCXXXII'),\n",
      "                     (1993, 'MCMXCIII'),\n",
      "                     (2074, 'MMLXXIV'),\n",
      "                     (2152, 'MMCLII'),\n",
      "                     (2212, 'MMCCXII'),\n",
      "                     (2343, 'MMCCCXLIII'),\n",
      "                     (2499, 'MMCDXCIX'),\n",
      "                     (2574, 'MMDLXXIV'),\n",
      "                     (2646, 'MMDCXLVI'),\n",
      "                     (2723, 'MMDCCXXIII'),\n",
      "                     (2892, 'MMDCCCXCII'),\n",
      "                     (2975, 'MMCMLXXV'),\n",
      "                     (3051, 'MMMLI'),\n",
      "                     (3185, 'MMMCLXXXV'),\n",
      "                     (3250, 'MMMCCL'),\n",
      "                     (3313, 'MMMCCCXIII'),\n",
      "                     (3408, 'MMMCDVIII'),\n",
      "                     (3501, 'MMMDI'),\n",
      "                     (3610, 'MMMDCX'),\n",
      "                     (3743, 'MMMDCCXLIII'),\n",
      "                     (3844, 'MMMDCCCXLIV'),\n",
      "                     (3888, 'MMMDCCCLXXXVIII'),\n",
      "                     (3940, 'MMMCMXL'),\n",
      "                     (3999, 'MMMCMXCIX'),\n",
      "                     (4000, 'MMMM'),\n",
      "                     (4500, 'MMMMD'),\n",
      "                     (4888, 'MMMMDCCCLXXXVIII'), # CHANGE\n",
      "                     (4999, 'MMMMCMXCIX'))\n",
      "\n",
      "    def test_to_roman_known_values(self):\n",
      "        '''to_roman should give known result with known input'''\n",
      "        for integer, numeral in self.known_values:\n",
      "            result = roman10.to_roman(integer)\n",
      "            self.assertEqual(numeral, result)\n",
      "\n",
      "    def test_from_roman_known_values(self):\n",
      "        '''from_roman should give known result with known input'''\n",
      "        for integer, numeral in self.known_values:\n",
      "            result = roman10.from_roman(numeral)\n",
      "            self.assertEqual(integer, result)\n",
      "\n",
      "class ToRomanBadInput(unittest.TestCase):\n",
      "    def test_too_large(self):\n",
      "        '''to_roman should fail with large input'''\n",
      "        self.assertRaises(roman10.OutOfRangeError, roman10.to_roman, 5000) # CHANGE\n",
      "\n",
      "    def test_zero(self):\n",
      "        '''to_roman should fail with 0 input'''\n",
      "        self.assertRaises(roman10.OutOfRangeError, roman10.to_roman, 0)\n",
      "\n",
      "    def test_negative(self):\n",
      "        '''to_roman should fail with negative input'''\n",
      "        self.assertRaises(roman10.OutOfRangeError, roman10.to_roman, -1)\n",
      "\n",
      "    def test_non_integer(self):\n",
      "        '''to_roman should fail with non-integer input'''\n",
      "        self.assertRaises(roman10.NotIntegerError, roman10.to_roman, 0.5)\n",
      "\n",
      "class FromRomanBadInput(unittest.TestCase):\n",
      "    def test_too_many_repeated_numerals(self):\n",
      "        '''from_roman should fail with too many repeated numerals'''\n",
      "        for s in ('MMMMM', 'DD', 'CCCC', 'LL', 'XXXX', 'VV', 'IIII'): # CHANGE\n",
      "            self.assertRaises(roman10.InvalidRomanNumeralError, roman10.from_roman, s)\n",
      "\n",
      "    def test_repeated_pairs(self):\n",
      "        '''from_roman should fail with repeated pairs of numerals'''\n",
      "        for s in ('CMCM', 'CDCD', 'XCXC', 'XLXL', 'IXIX', 'IVIV'):\n",
      "            self.assertRaises(roman10.InvalidRomanNumeralError, roman10.from_roman, s)\n",
      "\n",
      "    def test_malformed_antecedents(self):\n",
      "        '''from_roman should fail with malformed antecedents'''\n",
      "        for s in ('IIMXCC', 'VX', 'DCM', 'CMM', 'IXIV',\n",
      "                  'MCMC', 'XCX', 'IVI', 'LM', 'LD', 'LC'):\n",
      "            self.assertRaises(roman10.InvalidRomanNumeralError, roman10.from_roman, s)\n",
      "\n",
      "    def test_blank(self):\n",
      "        '''from_roman should fail with blank string'''\n",
      "        self.assertRaises(roman10.InvalidRomanNumeralError, roman10.from_roman, '')\n",
      "\n",
      "    def test_non_string(self):\n",
      "        '''from_roman should fail with non-string input'''\n",
      "        self.assertRaises(roman10.InvalidRomanNumeralError, roman10.from_roman, 1)\n",
      "\n",
      "class RoundtripCheck(unittest.TestCase):\n",
      "    def test_roundtrip(self):\n",
      "        '''from_roman(to_roman(n))==n for all n'''\n",
      "        for integer in range(1, 5000): # CHANGE\n",
      "            numeral = roman10.to_roman(integer)\n",
      "            result = roman10.from_roman(numeral)\n",
      "            self.assertEqual(integer, result)\n",
      "\n",
      "if __name__ == '__main__':\n",
      "    unittest.main()"
     ],
     "language": "python",
     "metadata": {},
     "outputs": [
      {
       "output_type": "stream",
       "stream": "stdout",
       "text": [
        "Overwriting romantest10.py\n"
       ]
      }
     ],
     "prompt_number": 3
    },
    {
     "cell_type": "code",
     "collapsed": false,
     "input": [
      "%run romantest10.py -v"
     ],
     "language": "python",
     "metadata": {},
     "outputs": [
      {
       "output_type": "stream",
       "stream": "stderr",
       "text": [
        "test_blank (__main__.FromRomanBadInput)\n",
        "from_roman should fail with blank string ... "
       ]
      },
      {
       "output_type": "stream",
       "stream": "stderr",
       "text": [
        "ok\n",
        "test_malformed_antecedents (__main__.FromRomanBadInput)\n",
        "from_roman should fail with malformed antecedents ... "
       ]
      },
      {
       "output_type": "stream",
       "stream": "stderr",
       "text": [
        "ok\n",
        "test_non_string (__main__.FromRomanBadInput)\n",
        "from_roman should fail with non-string input ... "
       ]
      },
      {
       "output_type": "stream",
       "stream": "stderr",
       "text": [
        "ok\n",
        "test_repeated_pairs (__main__.FromRomanBadInput)\n",
        "from_roman should fail with repeated pairs of numerals ... "
       ]
      },
      {
       "output_type": "stream",
       "stream": "stderr",
       "text": [
        "ok\n",
        "test_too_many_repeated_numerals (__main__.FromRomanBadInput)\n",
        "from_roman should fail with too many repeated numerals ... "
       ]
      },
      {
       "output_type": "stream",
       "stream": "stderr",
       "text": [
        "ok\n",
        "test_from_roman_known_values (__main__.KnownValues)\n",
        "from_roman should give known result with known input ... "
       ]
      },
      {
       "output_type": "stream",
       "stream": "stderr",
       "text": [
        "ok\n",
        "test_to_roman_known_values (__main__.KnownValues)\n",
        "to_roman should give known result with known input ... "
       ]
      },
      {
       "output_type": "stream",
       "stream": "stderr",
       "text": [
        "ok\n",
        "test_roundtrip (__main__.RoundtripCheck)\n",
        "from_roman(to_roman(n))==n for all n ... "
       ]
      },
      {
       "output_type": "stream",
       "stream": "stderr",
       "text": [
        "ok\n",
        "test_negative (__main__.ToRomanBadInput)\n",
        "to_roman should fail with negative input ... "
       ]
      },
      {
       "output_type": "stream",
       "stream": "stderr",
       "text": [
        "ok\n",
        "test_non_integer (__main__.ToRomanBadInput)\n",
        "to_roman should fail with non-integer input ... "
       ]
      },
      {
       "output_type": "stream",
       "stream": "stderr",
       "text": [
        "ok\n",
        "test_too_large (__main__.ToRomanBadInput)\n",
        "to_roman should fail with large input ... "
       ]
      },
      {
       "output_type": "stream",
       "stream": "stderr",
       "text": [
        "ok\n",
        "test_zero (__main__.ToRomanBadInput)\n",
        "to_roman should fail with 0 input ... "
       ]
      },
      {
       "output_type": "stream",
       "stream": "stderr",
       "text": [
        "ok\n",
        "\n",
        "----------------------------------------------------------------------\n",
        "Ran 12 tests in 0.078s\n",
        "\n",
        "OK\n"
       ]
      }
     ],
     "prompt_number": 1
    },
    {
     "cell_type": "raw",
     "metadata": {},
     "source": [
      "before: Ran 12 tests in 0.203s \n",
      "after: Ran 12 tests in 0.078s\n",
      "Refactoring made it faster and we don't have to deal with regex anymore."
     ]
    }
   ],
   "metadata": {}
  }
 ]
}